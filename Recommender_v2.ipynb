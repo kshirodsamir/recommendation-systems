{
 "cells": [
  {
   "cell_type": "code",
   "execution_count": 1,
   "id": "fde40454-61fc-4472-a6af-5b25a9d946ef",
   "metadata": {},
   "outputs": [],
   "source": [
    "import requests\n",
    "import re\n",
    "import sys\n",
    "import os\n",
    "import gc\n",
    "\n",
    "import time\n",
    "from PIL import Image\n",
    "import io\n",
    "import pandas as pd\n",
    "import numpy as np\n",
    "import faiss\n",
    "import torch\n",
    "import torch.nn as nn\n",
    "from tqdm import tqdm\n",
    "\n",
    "import plotly.express as px"
   ]
  },
  {
   "cell_type": "code",
   "execution_count": 2,
   "id": "61f21b95-cc09-404c-b385-3ebe4ccba37d",
   "metadata": {},
   "outputs": [],
   "source": [
    "amazon_data = pd.read_csv('RecommenderSystems/amazonRatingsData/ratings.csv')"
   ]
  },
  {
   "cell_type": "code",
   "execution_count": 3,
   "id": "51f4bc50-9b9f-4d03-b661-6b7618e78851",
   "metadata": {},
   "outputs": [
    {
     "data": {
      "text/html": [
       "<div>\n",
       "<style scoped>\n",
       "    .dataframe tbody tr th:only-of-type {\n",
       "        vertical-align: middle;\n",
       "    }\n",
       "\n",
       "    .dataframe tbody tr th {\n",
       "        vertical-align: top;\n",
       "    }\n",
       "\n",
       "    .dataframe thead th {\n",
       "        text-align: right;\n",
       "    }\n",
       "</style>\n",
       "<table border=\"1\" class=\"dataframe\">\n",
       "  <thead>\n",
       "    <tr style=\"text-align: right;\">\n",
       "      <th></th>\n",
       "      <th>AKM1MP6P0OYPR</th>\n",
       "      <th>0132793040</th>\n",
       "      <th>5.0</th>\n",
       "      <th>1365811200</th>\n",
       "    </tr>\n",
       "  </thead>\n",
       "  <tbody>\n",
       "    <tr>\n",
       "      <th>0</th>\n",
       "      <td>A2CX7LUOHB2NDG</td>\n",
       "      <td>0321732944</td>\n",
       "      <td>5.0</td>\n",
       "      <td>1341100800</td>\n",
       "    </tr>\n",
       "    <tr>\n",
       "      <th>1</th>\n",
       "      <td>A2NWSAGRHCP8N5</td>\n",
       "      <td>0439886341</td>\n",
       "      <td>1.0</td>\n",
       "      <td>1367193600</td>\n",
       "    </tr>\n",
       "  </tbody>\n",
       "</table>\n",
       "</div>"
      ],
      "text/plain": [
       "    AKM1MP6P0OYPR  0132793040  5.0  1365811200\n",
       "0  A2CX7LUOHB2NDG  0321732944  5.0  1341100800\n",
       "1  A2NWSAGRHCP8N5  0439886341  1.0  1367193600"
      ]
     },
     "execution_count": 3,
     "metadata": {},
     "output_type": "execute_result"
    }
   ],
   "source": [
    "amazon_data.head(2)"
   ]
  },
  {
   "cell_type": "code",
   "execution_count": 4,
   "id": "dd535fa4-6dcf-463e-b739-835163b7dbf9",
   "metadata": {},
   "outputs": [],
   "source": [
    "amazon_data = amazon_data.rename(columns={'AKM1MP6P0OYPR': 'userId', '0132793040': 'productId', '5.0':'rating', '1365811200':'timestamp'})"
   ]
  },
  {
   "cell_type": "code",
   "execution_count": 5,
   "id": "01aec192-0583-4b33-9cc9-c01553994a77",
   "metadata": {},
   "outputs": [
    {
     "data": {
      "text/html": [
       "<div>\n",
       "<style scoped>\n",
       "    .dataframe tbody tr th:only-of-type {\n",
       "        vertical-align: middle;\n",
       "    }\n",
       "\n",
       "    .dataframe tbody tr th {\n",
       "        vertical-align: top;\n",
       "    }\n",
       "\n",
       "    .dataframe thead th {\n",
       "        text-align: right;\n",
       "    }\n",
       "</style>\n",
       "<table border=\"1\" class=\"dataframe\">\n",
       "  <thead>\n",
       "    <tr style=\"text-align: right;\">\n",
       "      <th></th>\n",
       "      <th>userId</th>\n",
       "      <th>productId</th>\n",
       "      <th>rating</th>\n",
       "      <th>timestamp</th>\n",
       "    </tr>\n",
       "  </thead>\n",
       "  <tbody>\n",
       "    <tr>\n",
       "      <th>0</th>\n",
       "      <td>A2CX7LUOHB2NDG</td>\n",
       "      <td>0321732944</td>\n",
       "      <td>5.0</td>\n",
       "      <td>1341100800</td>\n",
       "    </tr>\n",
       "    <tr>\n",
       "      <th>1</th>\n",
       "      <td>A2NWSAGRHCP8N5</td>\n",
       "      <td>0439886341</td>\n",
       "      <td>1.0</td>\n",
       "      <td>1367193600</td>\n",
       "    </tr>\n",
       "  </tbody>\n",
       "</table>\n",
       "</div>"
      ],
      "text/plain": [
       "           userId   productId  rating   timestamp\n",
       "0  A2CX7LUOHB2NDG  0321732944     5.0  1341100800\n",
       "1  A2NWSAGRHCP8N5  0439886341     1.0  1367193600"
      ]
     },
     "execution_count": 5,
     "metadata": {},
     "output_type": "execute_result"
    }
   ],
   "source": [
    "amazon_data.head(2)"
   ]
  },
  {
   "cell_type": "code",
   "execution_count": 6,
   "id": "fbeb014b-e9f8-403c-a785-91e2e17c2869",
   "metadata": {},
   "outputs": [],
   "source": [
    "# df = amazon_data.pivot(index='userId', columns='productId', values=['rating'])\n",
    "# df.head(3)"
   ]
  },
  {
   "cell_type": "code",
   "execution_count": 7,
   "id": "37dd0efa-0d12-4f68-90d5-2aa17fd3361b",
   "metadata": {},
   "outputs": [
    {
     "data": {
      "text/plain": [
       "7824481"
      ]
     },
     "execution_count": 7,
     "metadata": {},
     "output_type": "execute_result"
    }
   ],
   "source": [
    "len(amazon_data)"
   ]
  },
  {
   "cell_type": "code",
   "execution_count": 8,
   "id": "08126bca-47b3-4134-80ab-7d89808f9782",
   "metadata": {},
   "outputs": [
    {
     "data": {
      "text/html": [
       "<div>\n",
       "<style scoped>\n",
       "    .dataframe tbody tr th:only-of-type {\n",
       "        vertical-align: middle;\n",
       "    }\n",
       "\n",
       "    .dataframe tbody tr th {\n",
       "        vertical-align: top;\n",
       "    }\n",
       "\n",
       "    .dataframe thead th {\n",
       "        text-align: right;\n",
       "    }\n",
       "</style>\n",
       "<table border=\"1\" class=\"dataframe\">\n",
       "  <thead>\n",
       "    <tr style=\"text-align: right;\">\n",
       "      <th></th>\n",
       "      <th>userId</th>\n",
       "      <th>count</th>\n",
       "      <th>avgRating</th>\n",
       "    </tr>\n",
       "  </thead>\n",
       "  <tbody>\n",
       "    <tr>\n",
       "      <th>0</th>\n",
       "      <td>A5JLAU2ARJ0BO</td>\n",
       "      <td>520</td>\n",
       "      <td>3.861538</td>\n",
       "    </tr>\n",
       "    <tr>\n",
       "      <th>1</th>\n",
       "      <td>ADLVFFE4VBT8</td>\n",
       "      <td>501</td>\n",
       "      <td>4.283433</td>\n",
       "    </tr>\n",
       "  </tbody>\n",
       "</table>\n",
       "</div>"
      ],
      "text/plain": [
       "          userId  count  avgRating\n",
       "0  A5JLAU2ARJ0BO    520   3.861538\n",
       "1   ADLVFFE4VBT8    501   4.283433"
      ]
     },
     "execution_count": 8,
     "metadata": {},
     "output_type": "execute_result"
    }
   ],
   "source": [
    "avg_rating_df = pd.DataFrame(amazon_data.groupby('userId', as_index=False).agg({'productId':'count', 'rating':'mean'})).rename(columns={'productId':'count', 'rating':'avgRating'}).sort_values(by='count',ascending=False).reset_index(drop=True)\n",
    "avg_rating_df.head(2)                          "
   ]
  },
  {
   "cell_type": "code",
   "execution_count": 9,
   "id": "2eb68f60-303e-4e1b-a2eb-3b940bc2fbe9",
   "metadata": {},
   "outputs": [
    {
     "data": {
      "text/plain": [
       "1000"
      ]
     },
     "execution_count": 9,
     "metadata": {},
     "output_type": "execute_result"
    }
   ],
   "source": [
    "user_list_giving_most_ratings = avg_rating_df.loc[:999, 'userId'].tolist()\n",
    "len(user_list_giving_most_ratings)"
   ]
  },
  {
   "cell_type": "code",
   "execution_count": 10,
   "id": "0c1e6ddb-d8c0-4169-8b7d-485acc541832",
   "metadata": {},
   "outputs": [],
   "source": [
    "amazon_data_with_users_giving_most_rating = amazon_data[amazon_data['userId'].isin(user_list_giving_most_ratings)]\n"
   ]
  },
  {
   "cell_type": "code",
   "execution_count": 11,
   "id": "24bf1b21-5156-4e9d-81e9-a139b5dc8234",
   "metadata": {},
   "outputs": [
    {
     "data": {
      "text/html": [
       "<div>\n",
       "<style scoped>\n",
       "    .dataframe tbody tr th:only-of-type {\n",
       "        vertical-align: middle;\n",
       "    }\n",
       "\n",
       "    .dataframe tbody tr th {\n",
       "        vertical-align: top;\n",
       "    }\n",
       "\n",
       "    .dataframe thead th {\n",
       "        text-align: right;\n",
       "    }\n",
       "</style>\n",
       "<table border=\"1\" class=\"dataframe\">\n",
       "  <thead>\n",
       "    <tr style=\"text-align: right;\">\n",
       "      <th></th>\n",
       "      <th>productId</th>\n",
       "      <th>count</th>\n",
       "    </tr>\n",
       "  </thead>\n",
       "  <tbody>\n",
       "    <tr>\n",
       "      <th>0</th>\n",
       "      <td>B0088CJT4U</td>\n",
       "      <td>168</td>\n",
       "    </tr>\n",
       "    <tr>\n",
       "      <th>1</th>\n",
       "      <td>B003ES5ZUU</td>\n",
       "      <td>144</td>\n",
       "    </tr>\n",
       "  </tbody>\n",
       "</table>\n",
       "</div>"
      ],
      "text/plain": [
       "    productId  count\n",
       "0  B0088CJT4U    168\n",
       "1  B003ES5ZUU    144"
      ]
     },
     "execution_count": 11,
     "metadata": {},
     "output_type": "execute_result"
    }
   ],
   "source": [
    "products_getting_most_rating = pd.DataFrame(amazon_data_with_users_giving_most_rating.groupby('productId', as_index=False).agg({'userId':'count'})).rename(columns={'userId':'count'}).sort_values(by='count', ascending=False).reset_index(drop=True)\n",
    "products_getting_most_rating.head(2)"
   ]
  },
  {
   "cell_type": "code",
   "execution_count": 12,
   "id": "f77b9bfc-fa30-4f0f-bf1e-ab290194f4cb",
   "metadata": {},
   "outputs": [
    {
     "data": {
      "text/plain": [
       "1000"
      ]
     },
     "execution_count": 12,
     "metadata": {},
     "output_type": "execute_result"
    }
   ],
   "source": [
    "product_list_getting_most_rating = products_getting_most_rating.loc[:999,'productId'].tolist()\n",
    "len(product_list_getting_most_rating)"
   ]
  },
  {
   "cell_type": "code",
   "execution_count": 13,
   "id": "b28632c1-cb01-4ea5-9070-208aa4ceca56",
   "metadata": {},
   "outputs": [
    {
     "data": {
      "text/html": [
       "<div>\n",
       "<style scoped>\n",
       "    .dataframe tbody tr th:only-of-type {\n",
       "        vertical-align: middle;\n",
       "    }\n",
       "\n",
       "    .dataframe tbody tr th {\n",
       "        vertical-align: top;\n",
       "    }\n",
       "\n",
       "    .dataframe thead th {\n",
       "        text-align: right;\n",
       "    }\n",
       "</style>\n",
       "<table border=\"1\" class=\"dataframe\">\n",
       "  <thead>\n",
       "    <tr style=\"text-align: right;\">\n",
       "      <th></th>\n",
       "      <th>userId</th>\n",
       "      <th>productId</th>\n",
       "      <th>rating</th>\n",
       "      <th>timestamp</th>\n",
       "    </tr>\n",
       "  </thead>\n",
       "  <tbody>\n",
       "    <tr>\n",
       "      <th>40053</th>\n",
       "      <td>A3EZEP0FX5BC1P</td>\n",
       "      <td>B00004SB92</td>\n",
       "      <td>5.0</td>\n",
       "      <td>1338422400</td>\n",
       "    </tr>\n",
       "    <tr>\n",
       "      <th>40075</th>\n",
       "      <td>ATDE9JYCPI0L1</td>\n",
       "      <td>B00004SB92</td>\n",
       "      <td>5.0</td>\n",
       "      <td>1235692800</td>\n",
       "    </tr>\n",
       "  </tbody>\n",
       "</table>\n",
       "</div>"
      ],
      "text/plain": [
       "               userId   productId  rating   timestamp\n",
       "40053  A3EZEP0FX5BC1P  B00004SB92     5.0  1338422400\n",
       "40075   ATDE9JYCPI0L1  B00004SB92     5.0  1235692800"
      ]
     },
     "execution_count": 13,
     "metadata": {},
     "output_type": "execute_result"
    }
   ],
   "source": [
    "amazon_data_sampled = amazon_data[(amazon_data['userId'].isin(user_list_giving_most_ratings)) & (amazon_data['productId'].isin(product_list_getting_most_rating))]\n",
    "amazon_data_sampled.head(2)"
   ]
  },
  {
   "cell_type": "code",
   "execution_count": 14,
   "id": "2fbb360b-300e-43dd-8ef0-752008543c97",
   "metadata": {},
   "outputs": [
    {
     "data": {
      "text/plain": [
       "22246"
      ]
     },
     "execution_count": 14,
     "metadata": {},
     "output_type": "execute_result"
    }
   ],
   "source": [
    "len(amazon_data_sampled)"
   ]
  },
  {
   "cell_type": "code",
   "execution_count": 15,
   "id": "baf37daa-7fac-4d60-8d51-b4d87474c1a8",
   "metadata": {},
   "outputs": [],
   "source": [
    "avg_dict = {}\n",
    "\n",
    "for i in range(1000):\n",
    "    uid = avg_rating_df.loc[i, 'userId']\n",
    "    rate = avg_rating_df.loc[i, 'avgRating']\n",
    "\n",
    "    avg_dict[uid] = rate"
   ]
  },
  {
   "cell_type": "code",
   "execution_count": 16,
   "id": "1770bf96-f3bc-4f64-9012-b166da33f511",
   "metadata": {},
   "outputs": [],
   "source": [
    "merge_df = pd.merge(pd.DataFrame(user_list_giving_most_ratings, columns=['userId']), pd.DataFrame(product_list_getting_most_rating, columns=['productId']), how='cross')\n",
    "merge_df['mean'] = merge_df['userId'].apply(lambda x: avg_dict[x])"
   ]
  },
  {
   "cell_type": "code",
   "execution_count": 17,
   "id": "6b995d1e-63b1-42fc-9bed-37d045f2c975",
   "metadata": {},
   "outputs": [],
   "source": [
    "amazon_data_merged = merge_df.merge(amazon_data_sampled, on=['userId','productId'], how='left')\n",
    "amazon_data_merged['rating'] = amazon_data_merged['rating'].where(amazon_data_merged['rating'] > -1, amazon_data_merged['mean'])"
   ]
  },
  {
   "cell_type": "code",
   "execution_count": 18,
   "id": "a294fda6-0e15-43e5-bcf7-29136e538319",
   "metadata": {},
   "outputs": [
    {
     "data": {
      "text/html": [
       "<div>\n",
       "<style scoped>\n",
       "    .dataframe tbody tr th:only-of-type {\n",
       "        vertical-align: middle;\n",
       "    }\n",
       "\n",
       "    .dataframe tbody tr th {\n",
       "        vertical-align: top;\n",
       "    }\n",
       "\n",
       "    .dataframe thead tr th {\n",
       "        text-align: left;\n",
       "    }\n",
       "\n",
       "    .dataframe thead tr:last-of-type th {\n",
       "        text-align: right;\n",
       "    }\n",
       "</style>\n",
       "<table border=\"1\" class=\"dataframe\">\n",
       "  <thead>\n",
       "    <tr>\n",
       "      <th></th>\n",
       "      <th colspan=\"21\" halign=\"left\">rating</th>\n",
       "    </tr>\n",
       "    <tr>\n",
       "      <th>productId</th>\n",
       "      <th>B00004SB92</th>\n",
       "      <th>B00004T8R2</th>\n",
       "      <th>B00004WCIC</th>\n",
       "      <th>B00004ZCJE</th>\n",
       "      <th>B00005LEN4</th>\n",
       "      <th>B00005T3G0</th>\n",
       "      <th>B000067RT6</th>\n",
       "      <th>B00006B7DA</th>\n",
       "      <th>B00006I53S</th>\n",
       "      <th>B00006JN3G</th>\n",
       "      <th>...</th>\n",
       "      <th>B00JEVHZHC</th>\n",
       "      <th>B00JF0D7RE</th>\n",
       "      <th>B00JKM0EQE</th>\n",
       "      <th>B00JP12170</th>\n",
       "      <th>B00JWV1LP6</th>\n",
       "      <th>B00K91DB7Y</th>\n",
       "      <th>B00KJJW36G</th>\n",
       "      <th>B00L21HC7A</th>\n",
       "      <th>B00L26YDA4</th>\n",
       "      <th>B00L3YHF6O</th>\n",
       "    </tr>\n",
       "    <tr>\n",
       "      <th>userId</th>\n",
       "      <th></th>\n",
       "      <th></th>\n",
       "      <th></th>\n",
       "      <th></th>\n",
       "      <th></th>\n",
       "      <th></th>\n",
       "      <th></th>\n",
       "      <th></th>\n",
       "      <th></th>\n",
       "      <th></th>\n",
       "      <th></th>\n",
       "      <th></th>\n",
       "      <th></th>\n",
       "      <th></th>\n",
       "      <th></th>\n",
       "      <th></th>\n",
       "      <th></th>\n",
       "      <th></th>\n",
       "      <th></th>\n",
       "      <th></th>\n",
       "      <th></th>\n",
       "    </tr>\n",
       "  </thead>\n",
       "  <tbody>\n",
       "    <tr>\n",
       "      <th>A100UD67AHFODS</th>\n",
       "      <td>4.508621</td>\n",
       "      <td>4.508621</td>\n",
       "      <td>4.508621</td>\n",
       "      <td>4.508621</td>\n",
       "      <td>4.508621</td>\n",
       "      <td>4.508621</td>\n",
       "      <td>4.508621</td>\n",
       "      <td>4.508621</td>\n",
       "      <td>4.508621</td>\n",
       "      <td>4.508621</td>\n",
       "      <td>...</td>\n",
       "      <td>4.508621</td>\n",
       "      <td>4.508621</td>\n",
       "      <td>4.508621</td>\n",
       "      <td>4.508621</td>\n",
       "      <td>4.508621</td>\n",
       "      <td>4.508621</td>\n",
       "      <td>4.508621</td>\n",
       "      <td>4.508621</td>\n",
       "      <td>4.508621</td>\n",
       "      <td>4.508621</td>\n",
       "    </tr>\n",
       "    <tr>\n",
       "      <th>A100WO06OQR8BQ</th>\n",
       "      <td>3.651515</td>\n",
       "      <td>3.651515</td>\n",
       "      <td>3.651515</td>\n",
       "      <td>3.651515</td>\n",
       "      <td>3.651515</td>\n",
       "      <td>3.651515</td>\n",
       "      <td>3.651515</td>\n",
       "      <td>3.651515</td>\n",
       "      <td>3.651515</td>\n",
       "      <td>3.651515</td>\n",
       "      <td>...</td>\n",
       "      <td>3.651515</td>\n",
       "      <td>3.651515</td>\n",
       "      <td>3.651515</td>\n",
       "      <td>3.651515</td>\n",
       "      <td>3.651515</td>\n",
       "      <td>1.000000</td>\n",
       "      <td>3.651515</td>\n",
       "      <td>3.651515</td>\n",
       "      <td>3.651515</td>\n",
       "      <td>3.651515</td>\n",
       "    </tr>\n",
       "    <tr>\n",
       "      <th>A105S56ODHGJEK</th>\n",
       "      <td>3.838235</td>\n",
       "      <td>3.838235</td>\n",
       "      <td>3.838235</td>\n",
       "      <td>3.838235</td>\n",
       "      <td>3.838235</td>\n",
       "      <td>3.838235</td>\n",
       "      <td>3.838235</td>\n",
       "      <td>3.838235</td>\n",
       "      <td>3.838235</td>\n",
       "      <td>3.838235</td>\n",
       "      <td>...</td>\n",
       "      <td>3.838235</td>\n",
       "      <td>3.838235</td>\n",
       "      <td>3.838235</td>\n",
       "      <td>3.838235</td>\n",
       "      <td>3.838235</td>\n",
       "      <td>3.838235</td>\n",
       "      <td>3.838235</td>\n",
       "      <td>3.838235</td>\n",
       "      <td>3.838235</td>\n",
       "      <td>3.838235</td>\n",
       "    </tr>\n",
       "  </tbody>\n",
       "</table>\n",
       "<p>3 rows × 1000 columns</p>\n",
       "</div>"
      ],
      "text/plain": [
       "                   rating                                              \\\n",
       "productId      B00004SB92 B00004T8R2 B00004WCIC B00004ZCJE B00005LEN4   \n",
       "userId                                                                  \n",
       "A100UD67AHFODS   4.508621   4.508621   4.508621   4.508621   4.508621   \n",
       "A100WO06OQR8BQ   3.651515   3.651515   3.651515   3.651515   3.651515   \n",
       "A105S56ODHGJEK   3.838235   3.838235   3.838235   3.838235   3.838235   \n",
       "\n",
       "                                                                       ...  \\\n",
       "productId      B00005T3G0 B000067RT6 B00006B7DA B00006I53S B00006JN3G  ...   \n",
       "userId                                                                 ...   \n",
       "A100UD67AHFODS   4.508621   4.508621   4.508621   4.508621   4.508621  ...   \n",
       "A100WO06OQR8BQ   3.651515   3.651515   3.651515   3.651515   3.651515  ...   \n",
       "A105S56ODHGJEK   3.838235   3.838235   3.838235   3.838235   3.838235  ...   \n",
       "\n",
       "                                                                       \\\n",
       "productId      B00JEVHZHC B00JF0D7RE B00JKM0EQE B00JP12170 B00JWV1LP6   \n",
       "userId                                                                  \n",
       "A100UD67AHFODS   4.508621   4.508621   4.508621   4.508621   4.508621   \n",
       "A100WO06OQR8BQ   3.651515   3.651515   3.651515   3.651515   3.651515   \n",
       "A105S56ODHGJEK   3.838235   3.838235   3.838235   3.838235   3.838235   \n",
       "\n",
       "                                                                       \n",
       "productId      B00K91DB7Y B00KJJW36G B00L21HC7A B00L26YDA4 B00L3YHF6O  \n",
       "userId                                                                 \n",
       "A100UD67AHFODS   4.508621   4.508621   4.508621   4.508621   4.508621  \n",
       "A100WO06OQR8BQ   1.000000   3.651515   3.651515   3.651515   3.651515  \n",
       "A105S56ODHGJEK   3.838235   3.838235   3.838235   3.838235   3.838235  \n",
       "\n",
       "[3 rows x 1000 columns]"
      ]
     },
     "execution_count": 18,
     "metadata": {},
     "output_type": "execute_result"
    }
   ],
   "source": [
    "amazon_data_table = amazon_data_merged.pivot(index='userId', columns='productId', values=['rating'])\n",
    "amazon_data_table.head(3)"
   ]
  },
  {
   "cell_type": "code",
   "execution_count": 19,
   "id": "4055ab07-a4ef-490d-b4f9-570a9a0bd976",
   "metadata": {},
   "outputs": [
    {
     "data": {
      "text/html": [
       "<div>\n",
       "<style scoped>\n",
       "    .dataframe tbody tr th:only-of-type {\n",
       "        vertical-align: middle;\n",
       "    }\n",
       "\n",
       "    .dataframe tbody tr th {\n",
       "        vertical-align: top;\n",
       "    }\n",
       "\n",
       "    .dataframe thead tr th {\n",
       "        text-align: left;\n",
       "    }\n",
       "</style>\n",
       "<table border=\"1\" class=\"dataframe\">\n",
       "  <thead>\n",
       "    <tr>\n",
       "      <th></th>\n",
       "      <th>userId</th>\n",
       "      <th colspan=\"20\" halign=\"left\">rating</th>\n",
       "    </tr>\n",
       "    <tr>\n",
       "      <th>productId</th>\n",
       "      <th></th>\n",
       "      <th>B00004SB92</th>\n",
       "      <th>B00004T8R2</th>\n",
       "      <th>B00004WCIC</th>\n",
       "      <th>B00004ZCJE</th>\n",
       "      <th>B00005LEN4</th>\n",
       "      <th>B00005T3G0</th>\n",
       "      <th>B000067RT6</th>\n",
       "      <th>B00006B7DA</th>\n",
       "      <th>B00006I53S</th>\n",
       "      <th>...</th>\n",
       "      <th>B00JEVHZHC</th>\n",
       "      <th>B00JF0D7RE</th>\n",
       "      <th>B00JKM0EQE</th>\n",
       "      <th>B00JP12170</th>\n",
       "      <th>B00JWV1LP6</th>\n",
       "      <th>B00K91DB7Y</th>\n",
       "      <th>B00KJJW36G</th>\n",
       "      <th>B00L21HC7A</th>\n",
       "      <th>B00L26YDA4</th>\n",
       "      <th>B00L3YHF6O</th>\n",
       "    </tr>\n",
       "  </thead>\n",
       "  <tbody>\n",
       "    <tr>\n",
       "      <th>0</th>\n",
       "      <td>A100UD67AHFODS</td>\n",
       "      <td>4.508621</td>\n",
       "      <td>4.508621</td>\n",
       "      <td>4.508621</td>\n",
       "      <td>4.508621</td>\n",
       "      <td>4.508621</td>\n",
       "      <td>4.508621</td>\n",
       "      <td>4.508621</td>\n",
       "      <td>4.508621</td>\n",
       "      <td>4.508621</td>\n",
       "      <td>...</td>\n",
       "      <td>4.508621</td>\n",
       "      <td>4.508621</td>\n",
       "      <td>4.508621</td>\n",
       "      <td>4.508621</td>\n",
       "      <td>4.508621</td>\n",
       "      <td>4.508621</td>\n",
       "      <td>4.508621</td>\n",
       "      <td>4.508621</td>\n",
       "      <td>4.508621</td>\n",
       "      <td>4.508621</td>\n",
       "    </tr>\n",
       "    <tr>\n",
       "      <th>1</th>\n",
       "      <td>A100WO06OQR8BQ</td>\n",
       "      <td>3.651515</td>\n",
       "      <td>3.651515</td>\n",
       "      <td>3.651515</td>\n",
       "      <td>3.651515</td>\n",
       "      <td>3.651515</td>\n",
       "      <td>3.651515</td>\n",
       "      <td>3.651515</td>\n",
       "      <td>3.651515</td>\n",
       "      <td>3.651515</td>\n",
       "      <td>...</td>\n",
       "      <td>3.651515</td>\n",
       "      <td>3.651515</td>\n",
       "      <td>3.651515</td>\n",
       "      <td>3.651515</td>\n",
       "      <td>3.651515</td>\n",
       "      <td>1.000000</td>\n",
       "      <td>3.651515</td>\n",
       "      <td>3.651515</td>\n",
       "      <td>3.651515</td>\n",
       "      <td>3.651515</td>\n",
       "    </tr>\n",
       "  </tbody>\n",
       "</table>\n",
       "<p>2 rows × 1001 columns</p>\n",
       "</div>"
      ],
      "text/plain": [
       "                   userId     rating                                   \\\n",
       "productId                 B00004SB92 B00004T8R2 B00004WCIC B00004ZCJE   \n",
       "0          A100UD67AHFODS   4.508621   4.508621   4.508621   4.508621   \n",
       "1          A100WO06OQR8BQ   3.651515   3.651515   3.651515   3.651515   \n",
       "\n",
       "                                                                  ...  \\\n",
       "productId B00005LEN4 B00005T3G0 B000067RT6 B00006B7DA B00006I53S  ...   \n",
       "0           4.508621   4.508621   4.508621   4.508621   4.508621  ...   \n",
       "1           3.651515   3.651515   3.651515   3.651515   3.651515  ...   \n",
       "\n",
       "                                                                             \\\n",
       "productId B00JEVHZHC B00JF0D7RE B00JKM0EQE B00JP12170 B00JWV1LP6 B00K91DB7Y   \n",
       "0           4.508621   4.508621   4.508621   4.508621   4.508621   4.508621   \n",
       "1           3.651515   3.651515   3.651515   3.651515   3.651515   1.000000   \n",
       "\n",
       "                                                       \n",
       "productId B00KJJW36G B00L21HC7A B00L26YDA4 B00L3YHF6O  \n",
       "0           4.508621   4.508621   4.508621   4.508621  \n",
       "1           3.651515   3.651515   3.651515   3.651515  \n",
       "\n",
       "[2 rows x 1001 columns]"
      ]
     },
     "execution_count": 19,
     "metadata": {},
     "output_type": "execute_result"
    }
   ],
   "source": [
    "index_amazon_data = amazon_data_table.reset_index()\n",
    "index_amazon_data.head(2)"
   ]
  },
  {
   "cell_type": "code",
   "execution_count": 20,
   "id": "08795db6-fb8d-4ef5-b850-0b6e479df363",
   "metadata": {},
   "outputs": [
    {
     "name": "stdout",
     "output_type": "stream",
     "text": [
      "first 10 singular value percentage\n",
      " [0.57762694 0.00204558 0.00183212 0.00173306 0.00172551 0.00162342\n",
      " 0.00159142 0.00158615 0.00154115 0.00152979]\n",
      "reduced_u shape : (1000, 2)\n",
      "reduced_vt shape : (2, 1000)\n"
     ]
    }
   ],
   "source": [
    "rating_matrix = amazon_data_table.values\n",
    "u, sigma, vt = np.linalg.svd(rating_matrix)\n",
    "importances = sigma / np.sum(sigma)\n",
    "print('first 10 singular value percentage\\n', importances[:10])\n",
    "\n",
    "# for visualization\n",
    "reduced_dim = 2\n",
    "\n",
    "reduced_u = np.mat(u[:, :reduced_dim])\n",
    "reduced_sigma = np.eye(reduced_dim) * sigma[:reduced_dim]\n",
    "reduced_vt = np.mat(vt[:reduced_dim, :])\n",
    "\n",
    "print('reduced_u shape :', reduced_u.shape)\n",
    "print('reduced_vt shape :', reduced_vt.shape)"
   ]
  },
  {
   "cell_type": "code",
   "execution_count": 22,
   "id": "71bdd68f-4044-461c-93f7-8cd98c3aa23b",
   "metadata": {},
   "outputs": [
    {
     "data": {
      "application/vnd.plotly.v1+json": {
       "config": {
        "plotlyServerURL": "https://plot.ly"
       },
       "data": [
        {
         "customdata": [
          [
           "B00004SB92"
          ],
          [
           "B00004T8R2"
          ],
          [
           "B00004WCIC"
          ],
          [
           "B00004ZCJE"
          ],
          [
           "B00005LEN4"
          ],
          [
           "B00005T3G0"
          ],
          [
           "B000067RT6"
          ],
          [
           "B00006B7DA"
          ],
          [
           "B00006I53S"
          ],
          [
           "B00006JN3G"
          ],
          [
           "B00006RVPW"
          ],
          [
           "B00007E7JU"
          ],
          [
           "B00007EDZG"
          ],
          [
           "B00007GQLU"
          ],
          [
           "B00007IFED"
          ],
          [
           "B00007KDVI"
          ],
          [
           "B00007M1TZ"
          ],
          [
           "B000089GN3"
          ],
          [
           "B00009R6TA"
          ],
          [
           "B00009XVCZ"
          ],
          [
           "B0000BVYTV"
          ],
          [
           "B0000BZL1P"
          ],
          [
           "B00017LSPI"
          ],
          [
           "B0001FTVEK"
          ],
          [
           "B0001Y7UAI"
          ],
          [
           "B000204SWE"
          ],
          [
           "B00020S7XK"
          ],
          [
           "B000233WJ6"
          ],
          [
           "B00029U1DK"
          ],
          [
           "B0002CPBWI"
          ],
          [
           "B0002L5R78"
          ],
          [
           "B0002LEMWE"
          ],
          [
           "B0002MQGOK"
          ],
          [
           "B0002SQ2P2"
          ],
          [
           "B000652M6Y"
          ],
          [
           "B00066IJPQ"
          ],
          [
           "B00077AA5Q"
          ],
          [
           "B0007DDK7A"
          ],
          [
           "B0007LJHVA"
          ],
          [
           "B0007MXZB2"
          ],
          [
           "B0007QKMQY"
          ],
          [
           "B0007Y794O"
          ],
          [
           "B00081A2KY"
          ],
          [
           "B00093IIRA"
          ],
          [
           "B0009Y7APU"
          ],
          [
           "B000A6PPOK"
          ],
          [
           "B000AP05BO"
          ],
          [
           "B000AZ57M6"
          ],
          [
           "B000BKJZ9Q"
          ],
          [
           "B000BN94F8"
          ],
          [
           "B000BQ7GW8"
          ],
          [
           "B000BTL0OA"
          ],
          [
           "B000BY52NK"
          ],
          [
           "B000CKVOOY"
          ],
          [
           "B000CRFOMK"
          ],
          [
           "B000E0I9K4"
          ],
          [
           "B000E6G9RI"
          ],
          [
           "B000EVSLRO"
          ],
          [
           "B000EW8074"
          ],
          [
           "B000EY5F5C"
          ],
          [
           "B000F34FVM"
          ],
          [
           "B000F7QRTG"
          ],
          [
           "B000F9YN22"
          ],
          [
           "B000FBK3QK"
          ],
          [
           "B000FITKK8"
          ],
          [
           "B000HDJT4S"
          ],
          [
           "B000HJPK2C"
          ],
          [
           "B000HPV3RW"
          ],
          [
           "B000HZDF8W"
          ],
          [
           "B000I1X3W8"
          ],
          [
           "B000I68BD4"
          ],
          [
           "B000IF4788"
          ],
          [
           "B000IF51UQ"
          ],
          [
           "B000JE7GPY"
          ],
          [
           "B000JMJWV2"
          ],
          [
           "B000KI81XK"
          ],
          [
           "B000KO0GY6"
          ],
          [
           "B000L47AHG"
          ],
          [
           "B000LRMS66"
          ],
          [
           "B000M17AVO"
          ],
          [
           "B000M2GYF6"
          ],
          [
           "B000M2TAN4"
          ],
          [
           "B000MX48VM"
          ],
          [
           "B000N99BBC"
          ],
          [
           "B000NP3DJW"
          ],
          [
           "B000O8I474"
          ],
          [
           "B000O8WE66"
          ],
          [
           "B000OGX5AM"
          ],
          [
           "B000Q82PIQ"
          ],
          [
           "B000Q8UAWY"
          ],
          [
           "B000QUUFRW"
          ],
          [
           "B000QWEN5K"
          ],
          [
           "B000R9AAJA"
          ],
          [
           "B000RHZJN4"
          ],
          [
           "B000RZQZM0"
          ],
          [
           "B000S5Q9CA"
          ],
          [
           "B000SMVQK8"
          ],
          [
           "B000SY1PQ6"
          ],
          [
           "B000TG4BA0"
          ],
          [
           "B000TKHBDK"
          ],
          [
           "B000TXEE14"
          ],
          [
           "B000TXZIDM"
          ],
          [
           "B000U5TUWE"
          ],
          [
           "B000UY1MB2"
          ],
          [
           "B000V07N9U"
          ],
          [
           "B000V1MLBE"
          ],
          [
           "B000V5P90K"
          ],
          [
           "B000VE2RP6"
          ],
          [
           "B000VX6XL6"
          ],
          [
           "B000VY2BC0"
          ],
          [
           "B000W6POQW"
          ],
          [
           "B000WYVBR0"
          ],
          [
           "B000X24ISU"
          ],
          [
           "B000YQ6DIS"
          ],
          [
           "B000Z80ICM"
          ],
          [
           "B00109Y2DQ"
          ],
          [
           "B0010WG2H2"
          ],
          [
           "B0010Z28XG"
          ],
          [
           "B00119T6NQ"
          ],
          [
           "B0011NVMO8"
          ],
          [
           "B0011U65F2"
          ],
          [
           "B0011Z44UA"
          ],
          [
           "B0011ZK6PC"
          ],
          [
           "B00127VF68"
          ],
          [
           "B0012GK3MQ"
          ],
          [
           "B0012MMW7E"
          ],
          [
           "B0012S4APK"
          ],
          [
           "B0012Y2LLE"
          ],
          [
           "B0012Y6HC8"
          ],
          [
           "B001342KM8"
          ],
          [
           "B0013AV4M4"
          ],
          [
           "B0013DXVYK"
          ],
          [
           "B0013FRNKG"
          ],
          [
           "B0013FW8XS"
          ],
          [
           "B0013IWYHU"
          ],
          [
           "B0014J07R2"
          ],
          [
           "B0014KOB6Y"
          ],
          [
           "B0015AARJI"
          ],
          [
           "B0015BUJ0Y"
          ],
          [
           "B0015DYMVO"
          ],
          [
           "B00168BSEW"
          ],
          [
           "B0016BVKAQ"
          ],
          [
           "B0016O8HP4"
          ],
          [
           "B0017JY5FE"
          ],
          [
           "B0017TFVUW"
          ],
          [
           "B00182CIB8"
          ],
          [
           "B0018O9JIG"
          ],
          [
           "B00192KCAG"
          ],
          [
           "B0019EHU8G"
          ],
          [
           "B001AYW91I"
          ],
          [
           "B001AZP8EW"
          ],
          [
           "B001B8EOMU"
          ],
          [
           "B001BM5XB2"
          ],
          [
           "B001C271MA"
          ],
          [
           "B001CCAISE"
          ],
          [
           "B001CHHVCU"
          ],
          [
           "B001CIREXA"
          ],
          [
           "B001D60LG8"
          ],
          [
           "B001D7REIK"
          ],
          [
           "B001D9IWIY"
          ],
          [
           "B001DJ64C0"
          ],
          [
           "B001DJ64D4"
          ],
          [
           "B001DJ7Y2O"
          ],
          [
           "B001DJ9GOS"
          ],
          [
           "B001DULYZG"
          ],
          [
           "B001E1Y5O6"
          ],
          [
           "B001ENW61I"
          ],
          [
           "B001EYV9TM"
          ],
          [
           "B001F42MKG"
          ],
          [
           "B001F51G0W"
          ],
          [
           "B001F51G16"
          ],
          [
           "B001F7AHOG"
          ],
          [
           "B001F7AJKI"
          ],
          [
           "B001F7HLRC"
          ],
          [
           "B001FA1NK0"
          ],
          [
           "B001FA1O0O"
          ],
          [
           "B001FA1O18"
          ],
          [
           "B001FWBUUG"
          ],
          [
           "B001G1ZPV6"
          ],
          [
           "B001G5ZTLS"
          ],
          [
           "B001GS8FZ2"
          ],
          [
           "B001GUPEMW"
          ],
          [
           "B001HMVAWC"
          ],
          [
           "B001HSOFI2"
          ],
          [
           "B001IEZX3G"
          ],
          [
           "B001IOY4Z4"
          ],
          [
           "B001IZYV3S"
          ],
          [
           "B001KELVS0"
          ],
          [
           "B001L2MJO6"
          ],
          [
           "B001L6LG5K"
          ],
          [
           "B001LK8P14"
          ],
          [
           "B001M5U5AC"
          ],
          [
           "B001MSU1FS"
          ],
          [
           "B001NJ0D0Y"
          ],
          [
           "B001NJ0WCS"
          ],
          [
           "B001NS0OZ4"
          ],
          [
           "B001O4EPHA"
          ],
          [
           "B001OC6DCW"
          ],
          [
           "B001OOZ1X2"
          ],
          [
           "B001P05NBA"
          ],
          [
           "B001PIBE8I"
          ],
          [
           "B001PUQ7PG"
          ],
          [
           "B001QUA6R0"
          ],
          [
           "B001QUA6RA"
          ],
          [
           "B001S0PWWC"
          ],
          [
           "B001S4OTS6"
          ],
          [
           "B001SJVU24"
          ],
          [
           "B001T9NUJE"
          ],
          [
           "B001TANZ0W"
          ],
          [
           "B001TH7GSW"
          ],
          [
           "B001TH7GT6"
          ],
          [
           "B001TH7GUK"
          ],
          [
           "B001TH7GUU"
          ],
          [
           "B001TH7GVE"
          ],
          [
           "B001TH7T2U"
          ],
          [
           "B001TK3ACA"
          ],
          [
           "B001TOD7ME"
          ],
          [
           "B001TODUXA"
          ],
          [
           "B001TUYTZM"
          ],
          [
           "B001TZUS98"
          ],
          [
           "B001TZWNF0"
          ],
          [
           "B001U0O5QO"
          ],
          [
           "B001U5YZ4G"
          ],
          [
           "B001UE8IMC"
          ],
          [
           "B001UFYFYG"
          ],
          [
           "B001UI2FPE"
          ],
          [
           "B001V9KG0I"
          ],
          [
           "B001V9LPT4"
          ],
          [
           "B001VEIYAC"
          ],
          [
           "B001VFUN82"
          ],
          [
           "B001XURP7W"
          ],
          [
           "B00212NO6W"
          ],
          [
           "B0021L9C0A"
          ],
          [
           "B0021Y73W6"
          ],
          [
           "B0023B14TK"
          ],
          [
           "B0025VKUPW"
          ],
          [
           "B0025VKUQ6"
          ],
          [
           "B0025VKUQQ"
          ],
          [
           "B0025ZH43O"
          ],
          [
           "B00267S7XW"
          ],
          [
           "B0026ZPFCK"
          ],
          [
           "B00275XTSQ"
          ],
          [
           "B0027VT6V4"
          ],
          [
           "B0028Y4CWI"
          ],
          [
           "B002BA596W"
          ],
          [
           "B002BH3I9U"
          ],
          [
           "B002BH3Z8E"
          ],
          [
           "B002C7481G"
          ],
          [
           "B002DPTQ8W"
          ],
          [
           "B002FB7IX4"
          ],
          [
           "B002FL507A"
          ],
          [
           "B002FYL7PG"
          ],
          [
           "B002G1YPH0"
          ],
          [
           "B002HWRJBM"
          ],
          [
           "B002HWRJY4"
          ],
          [
           "B002IC0YL8"
          ],
          [
           "B002IC0YLS"
          ],
          [
           "B002IO2UM2"
          ],
          [
           "B002J9HBIO"
          ],
          [
           "B002JCSCYS"
          ],
          [
           "B002JM1V6O"
          ],
          [
           "B002JM1XWQ"
          ],
          [
           "B002JMYCTC"
          ],
          [
           "B002JPITXY"
          ],
          [
           "B002JQNXZC"
          ],
          [
           "B002K9IHGI"
          ],
          [
           "B002KC55OM"
          ],
          [
           "B002KETE24"
          ],
          [
           "B002KKFP9Y"
          ],
          [
           "B002LARRDK"
          ],
          [
           "B002LAS1DU"
          ],
          [
           "B002LLJJAS"
          ],
          [
           "B002M78L6E"
          ],
          [
           "B002MAPRYU"
          ],
          [
           "B002MCZJ78"
          ],
          [
           "B002MMY4WY"
          ],
          [
           "B002NEG0VO"
          ],
          [
           "B002NEGTTW"
          ],
          [
           "B002NO7PWC"
          ],
          [
           "B002O3W2OI"
          ],
          [
           "B002OEBIM4"
          ],
          [
           "B002QEBMAK"
          ],
          [
           "B002QQ7TLY"
          ],
          [
           "B002R5AM7C"
          ],
          [
           "B002RCNX8K"
          ],
          [
           "B002RL875A"
          ],
          [
           "B002RM08RE"
          ],
          [
           "B002SEUX7Q"
          ],
          [
           "B002SGATH8"
          ],
          [
           "B002SIMPXM"
          ],
          [
           "B002SQK2F2"
          ],
          [
           "B002SZEOLG"
          ],
          [
           "B002TLSOFQ"
          ],
          [
           "B002TLTE6O"
          ],
          [
           "B002TLTE6Y"
          ],
          [
           "B002TLTE7I"
          ],
          [
           "B002TLTGM6"
          ],
          [
           "B002TMRZOQ"
          ],
          [
           "B002UT42UI"
          ],
          [
           "B002V88HFE"
          ],
          [
           "B002V8C3W2"
          ],
          [
           "B002VPDM2A"
          ],
          [
           "B002VPE1Q6"
          ],
          [
           "B002VPE1QG"
          ],
          [
           "B002VPE1WK"
          ],
          [
           "B002VPE1X4"
          ],
          [
           "B002VPE1XY"
          ],
          [
           "B002VPE1YS"
          ],
          [
           "B002VPE1Z2"
          ],
          [
           "B002WE0QN8"
          ],
          [
           "B002WE4HE2"
          ],
          [
           "B002WE6D44"
          ],
          [
           "B002Y6CJJ8"
          ],
          [
           "B002YU83YO"
          ],
          [
           "B002ZCXJZE"
          ],
          [
           "B002ZIMEMW"
          ],
          [
           "B00310PJM0"
          ],
          [
           "B00316263Y"
          ],
          [
           "B0034CL2ZI"
          ],
          [
           "B0034XRDUA"
          ],
          [
           "B0035FZJHQ"
          ],
          [
           "B0035JJJPU"
          ],
          [
           "B0035JJJQE"
          ],
          [
           "B0035JJJQY"
          ],
          [
           "B0036AWR8E"
          ],
          [
           "B0036Q7MV0"
          ],
          [
           "B0038W0K2K"
          ],
          [
           "B0039BPG1A"
          ],
          [
           "B0039NLS3I"
          ],
          [
           "B003B4CU3M"
          ],
          [
           "B003BLQHN4"
          ],
          [
           "B003CFATT2"
          ],
          [
           "B003CJTQJC"
          ],
          [
           "B003DZ165W"
          ],
          [
           "B003ELOSIW"
          ],
          [
           "B003ELYQGG"
          ],
          [
           "B003EO1H7E"
          ],
          [
           "B003ES5ZR8"
          ],
          [
           "B003ES5ZSW"
          ],
          [
           "B003ES5ZUU"
          ],
          [
           "B003ES61EE"
          ],
          [
           "B003FG7IG0"
          ],
          [
           "B003FMVCRU"
          ],
          [
           "B003FSTAFK"
          ],
          [
           "B003FVJYF8"
          ],
          [
           "B003FVVMS0"
          ],
          [
           "B003G2Z1M6"
          ],
          [
           "B003HFCDLY"
          ],
          [
           "B003I4FHNA"
          ],
          [
           "B003L1ZYZ6"
          ],
          [
           "B003LR7ME6"
          ],
          [
           "B003LSTD38"
          ],
          [
           "B003M0NURK"
          ],
          [
           "B003M8HWDA"
          ],
          [
           "B003MAJMXQ"
          ],
          [
           "B003N2POXK"
          ],
          [
           "B003NR57BY"
          ],
          [
           "B003NSBF32"
          ],
          [
           "B003RRYAXQ"
          ],
          [
           "B003SGCO3E"
          ],
          [
           "B003STVG80"
          ],
          [
           "B003UE52ME"
          ],
          [
           "B003UT6C9G"
          ],
          [
           "B003VAGXWK"
          ],
          [
           "B003VAGXZC"
          ],
          [
           "B003VAHYNC"
          ],
          [
           "B003VAK16O"
          ],
          [
           "B003VAK1I2"
          ],
          [
           "B003VAM32E"
          ],
          [
           "B003VANO7C"
          ],
          [
           "B003VANOI6"
          ],
          [
           "B003WQ8EX4"
          ],
          [
           "B003WUBIZQ"
          ],
          [
           "B003X26LXW"
          ],
          [
           "B003X26LYG"
          ],
          [
           "B003X7TRWE"
          ],
          [
           "B003XE3X8Q"
          ],
          [
           "B003XFWSU4"
          ],
          [
           "B003XIJ3MW"
          ],
          [
           "B003XM1WE0"
          ],
          [
           "B003XN24GY"
          ],
          [
           "B003XU6H8I"
          ],
          [
           "B003Y74AXO"
          ],
          [
           "B003YH9EZ8"
          ],
          [
           "B003YKG2UK"
          ],
          [
           "B003YKG2W8"
          ],
          [
           "B003YKG2XM"
          ],
          [
           "B003Z4G3I6"
          ],
          [
           "B003ZBZ64Q"
          ],
          [
           "B003ZHV978"
          ],
          [
           "B003ZSHNGS"
          ],
          [
           "B0040702HA"
          ],
          [
           "B0040JHVC2"
          ],
          [
           "B0040QE98O"
          ],
          [
           "B0041L3JS4"
          ],
          [
           "B0041MY32Y"
          ],
          [
           "B0041OSQ9I"
          ],
          [
           "B0041OSQB6"
          ],
          [
           "B0041Q38NU"
          ],
          [
           "B00426C56U"
          ],
          [
           "B00426C57O"
          ],
          [
           "B00429N18S"
          ],
          [
           "B0042FZ50O"
          ],
          [
           "B0043CVH2Q"
          ],
          [
           "B0043M668G"
          ],
          [
           "B0043T7FXE"
          ],
          [
           "B0043WJRRS"
          ],
          [
           "B0044DEDC0"
          ],
          [
           "B0044WWLW0"
          ],
          [
           "B0044YU60M"
          ],
          [
           "B00452V66G"
          ],
          [
           "B0045FM6SU"
          ],
          [
           "B00461E7JE"
          ],
          [
           "B0046HAO40"
          ],
          [
           "B0046TJG1U"
          ],
          [
           "B00483WRZ6"
          ],
          [
           "B00486MH80"
          ],
          [
           "B0049P6OTI"
          ],
          [
           "B0049SKIDI"
          ],
          [
           "B0049U3TVE"
          ],
          [
           "B004BLK24S"
          ],
          [
           "B004C13VWC"
          ],
          [
           "B004CLYE8C"
          ],
          [
           "B004CLYEA0"
          ],
          [
           "B004CLYEDC"
          ],
          [
           "B004CLYEE6"
          ],
          [
           "B004CLYEFK"
          ],
          [
           "B004CLYEH8"
          ],
          [
           "B004CLYJ1Y"
          ],
          [
           "B004CZ9U96"
          ],
          [
           "B004DMNT2W"
          ],
          [
           "B004E10KFG"
          ],
          [
           "B004ELA0SS"
          ],
          [
           "B004G6002M"
          ],
          [
           "B004G8QO8E"
          ],
          [
           "B004GCJEZU"
          ],
          [
           "B004GF8TIK"
          ],
          [
           "B004GK0GKO"
          ],
          [
           "B004GUT1QO"
          ],
          [
           "B004HHICKC"
          ],
          [
           "B004HKJTT2"
          ],
          [
           "B004I43F9C"
          ],
          [
           "B004I5BUSO"
          ],
          [
           "B004I5FL1G"
          ],
          [
           "B004IZN3WU"
          ],
          [
           "B004J3V90Y"
          ],
          [
           "B004J4VYEY"
          ],
          [
           "B004J4VYG2"
          ],
          [
           "B004JWA70I"
          ],
          [
           "B004K1EZDS"
          ],
          [
           "B004LSNF04"
          ],
          [
           "B004MF11MU"
          ],
          [
           "B004MSQZUU"
          ],
          [
           "B004N6259G"
          ],
          [
           "B004N625B4"
          ],
          [
           "B004N625C8"
          ],
          [
           "B004N62HZI"
          ],
          [
           "B004N62I0C"
          ],
          [
           "B004NY9UV4"
          ],
          [
           "B004P8K24W"
          ],
          [
           "B004Q0PT3I"
          ],
          [
           "B004Q3R9AQ"
          ],
          [
           "B004Q3R9B0"
          ],
          [
           "B004QK7HI8"
          ],
          [
           "B004QK8FBG"
          ],
          [
           "B004R7P28W"
          ],
          [
           "B004RORMF6"
          ],
          [
           "B004S4R5CK"
          ],
          [
           "B004SBBD1C"
          ],
          [
           "B004SBBD8U"
          ],
          [
           "B004SBI2MU"
          ],
          [
           "B004SGJCCO"
          ],
          [
           "B004T9RR6I"
          ],
          [
           "B004TJ6JH6"
          ],
          [
           "B004TKTOWC"
          ],
          [
           "B004TPJKEY"
          ],
          [
           "B004V4IWHY"
          ],
          [
           "B004VM0SE6"
          ],
          [
           "B004W2JKWG"
          ],
          [
           "B004WIUDGM"
          ],
          [
           "B004WK3U9W"
          ],
          [
           "B004XC6GJ0"
          ],
          [
           "B004XNLR16"
          ],
          [
           "B004XZHY34"
          ],
          [
           "B004YHXXKO"
          ],
          [
           "B004YLAYHA"
          ],
          [
           "B004ZF0PXI"
          ],
          [
           "B004ZMV2GA"
          ],
          [
           "B0050A1O5U"
          ],
          [
           "B0050A1O64"
          ],
          [
           "B00511PS3C"
          ],
          [
           "B005276QS6"
          ],
          [
           "B0052SCU8U"
          ],
          [
           "B0053NBLFW"
          ],
          [
           "B0053R0WWG"
          ],
          [
           "B0054JJ0QW"
          ],
          [
           "B0054YF0C0"
          ],
          [
           "B0056C7SWK"
          ],
          [
           "B0056TYRMW"
          ],
          [
           "B0057UUB1G"
          ],
          [
           "B0058UUR6E"
          ],
          [
           "B005A0B7CA"
          ],
          [
           "B005ARQV6U"
          ],
          [
           "B005CG2ATQ"
          ],
          [
           "B005CLPP84"
          ],
          [
           "B005CLPP8E"
          ],
          [
           "B005CT56F8"
          ],
          [
           "B005D5M136"
          ],
          [
           "B005DEW4BQ"
          ],
          [
           "B005DIQ2OC"
          ],
          [
           "B005DKZP6G"
          ],
          [
           "B005DKZTMG"
          ],
          [
           "B005DOK8NW"
          ],
          [
           "B005DOUJL8"
          ],
          [
           "B005DSPLCQ"
          ],
          [
           "B005ELBSWO"
          ],
          [
           "B005EOWBHC"
          ],
          [
           "B005EOWBKE"
          ],
          [
           "B005ES0YYA"
          ],
          [
           "B005EWB37S"
          ],
          [
           "B005FDXMJS"
          ],
          [
           "B005FDXZJU"
          ],
          [
           "B005FVNGRI"
          ],
          [
           "B005FVNHBI"
          ],
          [
           "B005FYNSPK"
          ],
          [
           "B005G81E9M"
          ],
          [
           "B005GM1Q1O"
          ],
          [
           "B005GOINEK"
          ],
          [
           "B005HMKKH4"
          ],
          [
           "B005HTIWF4"
          ],
          [
           "B005HY4U46"
          ],
          [
           "B005HY4U5A"
          ],
          [
           "B005HY4UJ6"
          ],
          [
           "B005I6EU48"
          ],
          [
           "B005I7X3RC"
          ],
          [
           "B005IA843W"
          ],
          [
           "B005IA844Q"
          ],
          [
           "B005IMFX2K"
          ],
          [
           "B005KAK2FI"
          ],
          [
           "B005KELR3A"
          ],
          [
           "B005KFONIU"
          ],
          [
           "B005KG44V0"
          ],
          [
           "B005KOZNBW"
          ],
          [
           "B005KP473Q"
          ],
          [
           "B005L38VPC"
          ],
          [
           "B005LDLP8W"
          ],
          [
           "B005LFT3GG"
          ],
          [
           "B005NFG1MS"
          ],
          [
           "B005O88CY4"
          ],
          [
           "B005PUZOYM"
          ],
          [
           "B005QCDY50"
          ],
          [
           "B005QUQP6W"
          ],
          [
           "B005QX7KYU"
          ],
          [
           "B005VAORH6"
          ],
          [
           "B005VTIMEQ"
          ],
          [
           "B005X9XVNQ"
          ],
          [
           "B005YR1PV2"
          ],
          [
           "B00622AG6S"
          ],
          [
           "B0062EUE54"
          ],
          [
           "B00634PLTW"
          ],
          [
           "B0063705PE"
          ],
          [
           "B0064XAIZY"
          ],
          [
           "B00691WMJG"
          ],
          [
           "B006C248BC"
          ],
          [
           "B006CFU61U"
          ],
          [
           "B006DEBYWU"
          ],
          [
           "B006EKIQYM"
          ],
          [
           "B006FLENJC"
          ],
          [
           "B006GWO5WK"
          ],
          [
           "B006I5MKZY"
          ],
          [
           "B006JH8T3S"
          ],
          [
           "B006JINHYS"
          ],
          [
           "B006K550J0"
          ],
          [
           "B006LW0W5Y"
          ],
          [
           "B006MBP7T0"
          ],
          [
           "B006OZEIKS"
          ],
          [
           "B006QB1RPY"
          ],
          [
           "B006RG0QC8"
          ],
          [
           "B006TF3746"
          ],
          [
           "B006TF37H8"
          ],
          [
           "B006TT91TW"
          ],
          [
           "B006U3O566"
          ],
          [
           "B006W8U2MU"
          ],
          [
           "B006WHPQE0"
          ],
          [
           "B006WVR9GY"
          ],
          [
           "B006YTZUA6"
          ],
          [
           "B006ZBWV0K"
          ],
          [
           "B006ZP8UOW"
          ],
          [
           "B006ZT4VA0"
          ],
          [
           "B0071BTJPI"
          ],
          [
           "B0073FE1F0"
          ],
          [
           "B00746LVOM"
          ],
          [
           "B00746W3HG"
          ],
          [
           "B0074BW614"
          ],
          [
           "B0074FGLUM"
          ],
          [
           "B0076MBOC8"
          ],
          [
           "B0076POAI0"
          ],
          [
           "B0079R8KO0"
          ],
          [
           "B0079TOEQQ"
          ],
          [
           "B0079TOI8K"
          ],
          [
           "B0079UAT0A"
          ],
          [
           "B007AHJNF4"
          ],
          [
           "B007B6YPAW"
          ],
          [
           "B007BJHETS"
          ],
          [
           "B007BXD66E"
          ],
          [
           "B007BY0MIS"
          ],
          [
           "B007F5LYVM"
          ],
          [
           "B007FPIP2I"
          ],
          [
           "B007FPIQ0E"
          ],
          [
           "B007G5NNOW"
          ],
          [
           "B007GR44PM"
          ],
          [
           "B007I5JT4S"
          ],
          [
           "B007KZQM8W"
          ],
          [
           "B007KZQM9G"
          ],
          [
           "B007KZQMO6"
          ],
          [
           "B007OY5V68"
          ],
          [
           "B007P4VOWC"
          ],
          [
           "B007PJ4P4G"
          ],
          [
           "B007PJ4PKK"
          ],
          [
           "B007PJ4Q4A"
          ],
          [
           "B007PRHNHO"
          ],
          [
           "B007PTCFFW"
          ],
          [
           "B007Q8GOGI"
          ],
          [
           "B007Q8GOHM"
          ],
          [
           "B007R5YDYA"
          ],
          [
           "B007RFW1NA"
          ],
          [
           "B007RNCLBY"
          ],
          [
           "B007SHJIO2"
          ],
          [
           "B007VL8Y5E"
          ],
          [
           "B007W7PIZ6"
          ],
          [
           "B007W7PK04"
          ],
          [
           "B007WTAJTO"
          ],
          [
           "B007X3VC7W"
          ],
          [
           "B007XOQUY6"
          ],
          [
           "B007YXA5TC"
          ],
          [
           "B007ZZ6OW6"
          ],
          [
           "B0081FLFQE"
          ],
          [
           "B0081H8TRA"
          ],
          [
           "B00822GIH2"
          ],
          [
           "B00825BZUY"
          ],
          [
           "B00829THEG"
          ],
          [
           "B00829THK0"
          ],
          [
           "B00829THO6"
          ],
          [
           "B00829THVO"
          ],
          [
           "B00829TIA4"
          ],
          [
           "B00829TIEK"
          ],
          [
           "B0082E9K7U"
          ],
          [
           "B00832NCWU"
          ],
          [
           "B00834SJNA"
          ],
          [
           "B00834SJSK"
          ],
          [
           "B0085YTDM4"
          ],
          [
           "B00871SR68"
          ],
          [
           "B00884WH74"
          ],
          [
           "B0088CJT4U"
          ],
          [
           "B0088PPFP4"
          ],
          [
           "B0088PUEPK"
          ],
          [
           "B00894YP00"
          ],
          [
           "B0089E5R0W"
          ],
          [
           "B008C1JC4O"
          ],
          [
           "B008DWCRQW"
          ],
          [
           "B008EQYRRY"
          ],
          [
           "B008EQZ25K"
          ],
          [
           "B008F537KC"
          ],
          [
           "B008H9BXMK"
          ],
          [
           "B008HU9R7W"
          ],
          [
           "B008I21EA2"
          ],
          [
           "B008JJLW4M"
          ],
          [
           "B008LCYIEI"
          ],
          [
           "B008LTBITY"
          ],
          [
           "B008MF3X9K"
          ],
          [
           "B008MF48J4"
          ],
          [
           "B008MJ01QE"
          ],
          [
           "B008MWBY6W"
          ],
          [
           "B008O2HVIK"
          ],
          [
           "B008OEHV6U"
          ],
          [
           "B008OHNZI0"
          ],
          [
           "B008PQJWBE"
          ],
          [
           "B008R6OPJQ"
          ],
          [
           "B008R6WUZC"
          ],
          [
           "B008R7EVE4"
          ],
          [
           "B008RJZQSW"
          ],
          [
           "B008THTWIW"
          ],
          [
           "B008ULPA2O"
          ],
          [
           "B008ULPAT2"
          ],
          [
           "B008ULPBJG"
          ],
          [
           "B008ULPCB8"
          ],
          [
           "B008ULPD0S"
          ],
          [
           "B008ULPE70"
          ],
          [
           "B008X9Z3UC"
          ],
          [
           "B008X9Z44M"
          ],
          [
           "B008X9Z528"
          ],
          [
           "B008X9Z6EA"
          ],
          [
           "B008X9Z7N0"
          ],
          [
           "B008X9Z8NE"
          ],
          [
           "B008X9Z9ZQ"
          ],
          [
           "B008X9ZBVI"
          ],
          [
           "B008Y1KK6Q"
          ],
          [
           "B008YDUTRO"
          ],
          [
           "B00902SFC4"
          ],
          [
           "B0090Z3QG6"
          ],
          [
           "B0092MD8OW"
          ],
          [
           "B0092U3TKC"
          ],
          [
           "B00931DHKM"
          ],
          [
           "B0093H4VBU"
          ],
          [
           "B0093H4VSS"
          ],
          [
           "B0093H4WT6"
          ],
          [
           "B0093HAWZY"
          ],
          [
           "B0095P2F1S"
          ],
          [
           "B0096YORV4"
          ],
          [
           "B0097BEDOC"
          ],
          [
           "B0097BEF1S"
          ],
          [
           "B0097BEFYA"
          ],
          [
           "B0097CXWUW"
          ],
          [
           "B0097CZHAU"
          ],
          [
           "B0099SMFP2"
          ],
          [
           "B0099SMFVQ"
          ],
          [
           "B009A68TMQ"
          ],
          [
           "B009A6CZ30"
          ],
          [
           "B009AOFKUM"
          ],
          [
           "B009AR2MQO"
          ],
          [
           "B009D79VH4"
          ],
          [
           "B009EIUH6G"
          ],
          [
           "B009F7IBZK"
          ],
          [
           "B009HQCAPQ"
          ],
          [
           "B009HQCARY"
          ],
          [
           "B009LL9VDG"
          ],
          [
           "B009M27MB2"
          ],
          [
           "B009NB8WR0"
          ],
          [
           "B009NHAEXE"
          ],
          [
           "B009NHWVIA"
          ],
          [
           "B009NUK6S4"
          ],
          [
           "B009NUWRF4"
          ],
          [
           "B009O7Y9AC"
          ],
          [
           "B009OZUPUC"
          ],
          [
           "B009PK2MNY"
          ],
          [
           "B009PK9S90"
          ],
          [
           "B009QV72VY"
          ],
          [
           "B009SPUY5O"
          ],
          [
           "B009SYZ8OC"
          ],
          [
           "B009T0NFTA"
          ],
          [
           "B009T0NLYO"
          ],
          [
           "B009VV56TY"
          ],
          [
           "B009WG6LLA"
          ],
          [
           "B009WZRAQQ"
          ],
          [
           "B009WZRCO6"
          ],
          [
           "B009X01C64"
          ],
          [
           "B009X2OS72"
          ],
          [
           "B009YQ8BTI"
          ],
          [
           "B009YT6PPC"
          ],
          [
           "B00A0JUNWQ"
          ],
          [
           "B00A0JUNYY"
          ],
          [
           "B00A1DJO12"
          ],
          [
           "B00A35WYBA"
          ],
          [
           "B00A3YDKRI"
          ],
          [
           "B00A3YDT5Q"
          ],
          [
           "B00A7FS3AW"
          ],
          [
           "B00A7PPLP2"
          ],
          [
           "B00A81ICCE"
          ],
          [
           "B00ADG5FLK"
          ],
          [
           "B00AJHDZSI"
          ],
          [
           "B00ALN54KM"
          ],
          [
           "B00AQDG96K"
          ],
          [
           "B00AQRUW4Q"
          ],
          [
           "B00AQUO5RI"
          ],
          [
           "B00AR95FOU"
          ],
          [
           "B00ARB5FLQ"
          ],
          [
           "B00ATM1MGA"
          ],
          [
           "B00ATM1MHO"
          ],
          [
           "B00ATZ9I90"
          ],
          [
           "B00AW48DS0"
          ],
          [
           "B00AXVXXNC"
          ],
          [
           "B00AYQ433U"
          ],
          [
           "B00AYTW80M"
          ],
          [
           "B00AZW4MYI"
          ],
          [
           "B00B3YQGHS"
          ],
          [
           "B00B46XUQU"
          ],
          [
           "B00B4OCWE8"
          ],
          [
           "B00B588HY2"
          ],
          [
           "B00B7XC6PQ"
          ],
          [
           "B00B99JU5M"
          ],
          [
           "B00BD99JSQ"
          ],
          [
           "B00BE68UZ6"
          ],
          [
           "B00BEGS4R0"
          ],
          [
           "B00BEHQKP2"
          ],
          [
           "B00BEHQKPC"
          ],
          [
           "B00BERGFV6"
          ],
          [
           "B00BF9MUAS"
          ],
          [
           "B00BGA9WK2"
          ],
          [
           "B00BGGDVOO"
          ],
          [
           "B00BNI4A90"
          ],
          [
           "B00BOHNYTW"
          ],
          [
           "B00BOHNYU6"
          ],
          [
           "B00BP5KOPA"
          ],
          [
           "B00BQ4F9ZA"
          ],
          [
           "B00BQ5RY1G"
          ],
          [
           "B00BQ5RYI4"
          ],
          [
           "B00BQHD4B8"
          ],
          [
           "B00BSEV682"
          ],
          [
           "B00BUACE8K"
          ],
          [
           "B00BW6KCTU"
          ],
          [
           "B00BWF5U0M"
          ],
          [
           "B00BWHILCY"
          ],
          [
           "B00BWL33H8"
          ],
          [
           "B00BZC31WQ"
          ],
          [
           "B00C8OT7FK"
          ],
          [
           "B00CB2F65O"
          ],
          [
           "B00CD1FB26"
          ],
          [
           "B00CD1PTF0"
          ],
          [
           "B00CD778LC"
          ],
          [
           "B00CD8ADKO"
          ],
          [
           "B00CF7E0R0"
          ],
          [
           "B00CGY4JBY"
          ],
          [
           "B00CHH0JF0"
          ],
          [
           "B00CHR46JA"
          ],
          [
           "B00CHT6CRC"
          ],
          [
           "B00CIRLJPI"
          ],
          [
           "B00CJRZ31S"
          ],
          [
           "B00CKAOJA0"
          ],
          [
           "B00CL8F98W"
          ],
          [
           "B00CM1BN5G"
          ],
          [
           "B00CMF0SO4"
          ],
          [
           "B00CMJZAOI"
          ],
          [
           "B00CMQTVK0"
          ],
          [
           "B00CO0DE0W"
          ],
          [
           "B00COF7DGS"
          ],
          [
           "B00CRY250U"
          ],
          [
           "B00CWBABP4"
          ],
          [
           "B00CXADBRY"
          ],
          [
           "B00CYX54C0"
          ],
          [
           "B00CZ0T5NG"
          ],
          [
           "B00CZ6WC3A"
          ],
          [
           "B00CZDT30S"
          ],
          [
           "B00D1GYNT4"
          ],
          [
           "B00D1QC50S"
          ],
          [
           "B00D3F7D7M"
          ],
          [
           "B00D429Y12"
          ],
          [
           "B00D4MFPLA"
          ],
          [
           "B00D50UNRM"
          ],
          [
           "B00D5Q75RC"
          ],
          [
           "B00D65AJ0C"
          ],
          [
           "B00D68ZVY8"
          ],
          [
           "B00D6KQ2GC"
          ],
          [
           "B00D6XW62I"
          ],
          [
           "B00D78Q2AO"
          ],
          [
           "B00D8T886S"
          ],
          [
           "B00D8X9FSY"
          ],
          [
           "B00DAO7KF6"
          ],
          [
           "B00DBX371C"
          ],
          [
           "B00DDK1QUC"
          ],
          [
           "B00DIFIM36"
          ],
          [
           "B00DIOALPE"
          ],
          [
           "B00DJNCS6O"
          ],
          [
           "B00DK2JQOQ"
          ],
          [
           "B00DN27H58"
          ],
          [
           "B00DQZNWNI"
          ],
          [
           "B00DQZO3JK"
          ],
          [
           "B00DQZOD8Q"
          ],
          [
           "B00DQZPCTA"
          ],
          [
           "B00DQZQHBW"
          ],
          [
           "B00DQZQPNM"
          ],
          [
           "B00DQZRQPI"
          ],
          [
           "B00DR0C96S"
          ],
          [
           "B00DR0PDNE"
          ],
          [
           "B00DR6DQZA"
          ],
          [
           "B00DR8LA60"
          ],
          [
           "B00DR8LAE2"
          ],
          [
           "B00DT04I9W"
          ],
          [
           "B00DTPYQBM"
          ],
          [
           "B00DTZYHX4"
          ],
          [
           "B00DUTIZJG"
          ],
          [
           "B00DVFLJDS"
          ],
          [
           "B00DW374W4"
          ],
          [
           "B00E055H5O"
          ],
          [
           "B00E0EY7Z6"
          ],
          [
           "B00E0HITQ6"
          ],
          [
           "B00E362W9O"
          ],
          [
           "B00E3W15P0"
          ],
          [
           "B00E5UHRIO"
          ],
          [
           "B00E6ONJJU"
          ],
          [
           "B00E87E1OM"
          ],
          [
           "B00E8CF0CE"
          ],
          [
           "B00E98O7GC"
          ],
          [
           "B00EAR8S76"
          ],
          [
           "B00EAXRVLY"
          ],
          [
           "B00EDCF0MY"
          ],
          [
           "B00EFE9OAE"
          ],
          [
           "B00EH5UGR6"
          ],
          [
           "B00EI4V3X2"
          ],
          [
           "B00EIQTKAS"
          ],
          [
           "B00EL8NJ82"
          ],
          [
           "B00EMB4LU8"
          ],
          [
           "B00EMHVVLY"
          ],
          [
           "B00EMHVVNM"
          ],
          [
           "B00ENY08VU"
          ],
          [
           "B00ENZRP38"
          ],
          [
           "B00ENZRS76"
          ],
          [
           "B00EO302SO"
          ],
          [
           "B00EOE4G4E"
          ],
          [
           "B00EOI2SR2"
          ],
          [
           "B00EOI2SYK"
          ],
          [
           "B00EOI2TD0"
          ],
          [
           "B00EPQ97C2"
          ],
          [
           "B00EPY0QVU"
          ],
          [
           "B00EQD5ZS4"
          ],
          [
           "B00ETH7ERM"
          ],
          [
           "B00EUFP39E"
          ],
          [
           "B00EVIBN26"
          ],
          [
           "B00EVIBN8U"
          ],
          [
           "B00EVVGAC6"
          ],
          [
           "B00EVWXAEQ"
          ],
          [
           "B00EXK14S0"
          ],
          [
           "B00EXPNFQO"
          ],
          [
           "B00F0DCH9Y"
          ],
          [
           "B00F0DD0I6"
          ],
          [
           "B00F3F0EIU"
          ],
          [
           "B00F6E8OUS"
          ],
          [
           "B00F93IOR4"
          ],
          [
           "B00F9ZQQ8Q"
          ],
          [
           "B00FA4Y7N2"
          ],
          [
           "B00FC2R7ZC"
          ],
          [
           "B00FF8ZRR8"
          ],
          [
           "B00FFJ0HUE"
          ],
          [
           "B00FFZD51Q"
          ],
          [
           "B00FG38L16"
          ],
          [
           "B00FH66AW4"
          ],
          [
           "B00FISD9DO"
          ],
          [
           "B00FJRS5BA"
          ],
          [
           "B00FJWKYYG"
          ],
          [
           "B00FLZ2F5W"
          ],
          [
           "B00FMTIUD8"
          ],
          [
           "B00FNPD1OY"
          ],
          [
           "B00FPKDPZC"
          ],
          [
           "B00FQQ4PNQ"
          ],
          [
           "B00FR6VL50"
          ],
          [
           "B00FRMAOIO"
          ],
          [
           "B00FSA8VQ2"
          ],
          [
           "B00G024X32"
          ],
          [
           "B00G2TK76A"
          ],
          [
           "B00G4FCHH4"
          ],
          [
           "B00G4FCKB2"
          ],
          [
           "B00G4UQ6U8"
          ],
          [
           "B00G4V0QSK"
          ],
          [
           "B00G5RDU5O"
          ],
          [
           "B00G6CLN3Y"
          ],
          [
           "B00G6CLNCK"
          ],
          [
           "B00GBATPFO"
          ],
          [
           "B00GC1ZMYA"
          ],
          [
           "B00GDL2PPI"
          ],
          [
           "B00GEBTFNM"
          ],
          [
           "B00GHY5F3K"
          ],
          [
           "B00GMGDFPI"
          ],
          [
           "B00GMTN96U"
          ],
          [
           "B00GN6PPXW"
          ],
          [
           "B00GO1UV4E"
          ],
          [
           "B00GO4GMAI"
          ],
          [
           "B00GRNUO2I"
          ],
          [
           "B00GTGETFG"
          ],
          [
           "B00GY0UFFA"
          ],
          [
           "B00HFAEBWG"
          ],
          [
           "B00HFFDDLG"
          ],
          [
           "B00HFRWWAM"
          ],
          [
           "B00HG1L334"
          ],
          [
           "B00HGLOQ24"
          ],
          [
           "B00HHRP11C"
          ],
          [
           "B00HMREOLK"
          ],
          [
           "B00HNJWSH4"
          ],
          [
           "B00HPM1FZ0"
          ],
          [
           "B00HPM1G8Q"
          ],
          [
           "B00HR78S2Q"
          ],
          [
           "B00HR7FWUC"
          ],
          [
           "B00HRQB28Y"
          ],
          [
           "B00HSQAIQU"
          ],
          [
           "B00HVT27B8"
          ],
          [
           "B00HZWJGS8"
          ],
          [
           "B00I3YKEKG"
          ],
          [
           "B00IDYRZ0S"
          ],
          [
           "B00IL7B2YM"
          ],
          [
           "B00IMZKDOS"
          ],
          [
           "B00IORDBPC"
          ],
          [
           "B00ISFNSBW"
          ],
          [
           "B00IUF7VKE"
          ],
          [
           "B00IVFDZBC"
          ],
          [
           "B00IVPU59W"
          ],
          [
           "B00IX2VGFA"
          ],
          [
           "B00IYU7XTE"
          ],
          [
           "B00IZGWTVO"
          ],
          [
           "B00J238GV6"
          ],
          [
           "B00J4O1YBW"
          ],
          [
           "B00JC5Y6WM"
          ],
          [
           "B00JC5Y6YA"
          ],
          [
           "B00JEVHZHC"
          ],
          [
           "B00JF0D7RE"
          ],
          [
           "B00JKM0EQE"
          ],
          [
           "B00JP12170"
          ],
          [
           "B00JWV1LP6"
          ],
          [
           "B00K91DB7Y"
          ],
          [
           "B00KJJW36G"
          ],
          [
           "B00L21HC7A"
          ],
          [
           "B00L26YDA4"
          ],
          [
           "B00L3YHF6O"
          ]
         ],
         "hovertemplate": "dim1=%{x}<br>dim2=%{y}<br>productId=%{customdata[0]}<extra></extra>",
         "legendgroup": "",
         "marker": {
          "color": "#636efa",
          "symbol": "circle"
         },
         "mode": "markers",
         "name": "",
         "orientation": "v",
         "showlegend": false,
         "type": "scatter",
         "x": [
          -0.031640209904188796,
          -0.031626422258100084,
          -0.03160715941062773,
          -0.03155888267979154,
          -0.031705828909854135,
          -0.0316522115715525,
          -0.031711581481615216,
          -0.031638102042810874,
          -0.031605319448170056,
          -0.03164409891273791,
          -0.03168879635358727,
          -0.031631490884368015,
          -0.0316447788645033,
          -0.031666358307038,
          -0.03165886626951725,
          -0.031450977837131966,
          -0.03165859364549054,
          -0.03166924102220248,
          -0.03164228545187361,
          -0.03167722452605832,
          -0.03162764499544936,
          -0.031742166665271944,
          -0.031713541954056276,
          -0.0315190239698102,
          -0.031620828212678906,
          -0.03164851201041832,
          -0.03164029858511659,
          -0.031643748726609064,
          -0.031718608080369366,
          -0.03161275914450035,
          -0.03172923480943016,
          -0.031669489493209926,
          -0.03161482335443672,
          -0.031649216349301755,
          -0.03162571435349319,
          -0.03153081821831975,
          -0.03167655998356696,
          -0.03159766635875823,
          -0.03163274185312565,
          -0.03156525267656132,
          -0.031681704483634464,
          -0.031622317393358974,
          -0.03167650846940955,
          -0.03160945271896488,
          -0.031662311766275895,
          -0.03154861196365971,
          -0.03163433407864802,
          -0.031703550072425035,
          -0.03157942754228223,
          -0.03162568338386471,
          -0.0317045566037305,
          -0.03165733904792643,
          -0.03165768866175249,
          -0.03170606247066472,
          -0.03167347133803244,
          -0.031569186098369686,
          -0.031639847372357546,
          -0.03166308283419165,
          -0.03162471357646852,
          -0.03155545424053841,
          -0.031633489340603345,
          -0.03168606231222874,
          -0.03166475987526198,
          -0.031650358287394736,
          -0.031636316565161145,
          -0.031644901151576255,
          -0.031652209056286296,
          -0.03173152565724494,
          -0.03154254259354328,
          -0.03166411930787592,
          -0.0315322969788293,
          -0.031582097744250914,
          -0.03161689164664229,
          -0.031697580988704045,
          -0.03176500396154278,
          -0.03157913826209633,
          -0.031653666695198174,
          -0.03165611198470484,
          -0.03169242795615281,
          -0.03167921573687205,
          -0.03165921480023586,
          -0.0317025713802621,
          -0.03170153352590254,
          -0.03212996690977784,
          -0.03168672493854659,
          -0.031641143943611935,
          -0.0316681560430776,
          -0.031690673591442994,
          -0.03164875641645304,
          -0.03162289376673998,
          -0.03179896114080256,
          -0.031657877383081456,
          -0.031600082591278715,
          -0.03164175690552956,
          -0.03169795943281279,
          -0.03172193348956569,
          -0.03161729906562944,
          -0.03153642067512017,
          -0.03159587539607773,
          -0.03170465610680944,
          -0.0316357036559207,
          -0.03159936433234179,
          -0.0316227353602797,
          -0.031635933431482036,
          -0.031625255732914595,
          -0.03155009438391941,
          -0.03166805277720305,
          -0.03165062797229609,
          -0.0317478869060868,
          -0.03158288336495123,
          -0.03146458303834323,
          -0.03162867033505001,
          -0.03161562177769714,
          -0.031559540475483996,
          -0.031593190957873774,
          -0.03165658905498465,
          -0.031621529493352736,
          -0.03167094598269716,
          -0.031705224574753936,
          -0.03164555716690374,
          -0.03167348391930144,
          -0.0316217235148854,
          -0.03164524203347984,
          -0.031577985732599796,
          -0.031651832351069935,
          -0.031599995064082335,
          -0.0316148934025259,
          -0.03167942318050449,
          -0.03167369383716881,
          -0.03167998090785982,
          -0.03163819799723837,
          -0.031642894124156426,
          -0.03166187144506927,
          -0.0316108982827077,
          -0.03161084931278951,
          -0.03156214211079903,
          -0.031587682913211394,
          -0.03166542839076314,
          -0.03158857430168909,
          -0.031574490732167254,
          -0.03162195211021726,
          -0.03165482562251581,
          -0.03151365486610234,
          -0.03162890904033658,
          -0.031553988642785066,
          -0.03159844106178253,
          -0.03163071810242911,
          -0.031588677075068024,
          -0.03181994946899767,
          -0.03155200689695946,
          -0.03157056244725063,
          -0.03159978535923839,
          -0.031675576130297534,
          -0.03166079882168157,
          -0.031633119016120564,
          -0.03132736662400954,
          -0.0316828101270471,
          -0.03156346758064216,
          -0.03164128369862479,
          -0.03159341677202066,
          -0.03164373447021389,
          -0.031710830121278455,
          -0.03161877265025123,
          -0.03164712660836672,
          -0.031552409746108616,
          -0.03171831522710701,
          -0.03164579116754859,
          -0.03165114862230785,
          -0.0315590175143904,
          -0.03158013003662178,
          -0.03165912363828304,
          -0.03169013832938439,
          -0.03162768359046297,
          -0.03160770151346389,
          -0.03161092953432013,
          -0.03163322963749104,
          -0.03162215212488376,
          -0.03166273906631733,
          -0.03155429238810647,
          -0.03162299395626312,
          -0.03156665855217803,
          -0.03159858512277619,
          -0.03154495272055992,
          -0.031649543647644315,
          -0.03167412262664263,
          -0.03159788615439927,
          -0.03150711063447144,
          -0.03163648931098646,
          -0.03162312585224214,
          -0.03154631818479864,
          -0.03158385783039666,
          -0.03158615949901025,
          -0.031698711105752224,
          -0.0316329357759338,
          -0.031636333308194875,
          -0.031640981260970445,
          -0.03164531481385641,
          -0.03170706711431445,
          -0.031699105664061596,
          -0.03166801509180444,
          -0.031667891464283546,
          -0.031607802192672264,
          -0.031641205361143176,
          -0.03170346824694632,
          -0.03165654766017997,
          -0.03166127382404436,
          -0.03163695966031016,
          -0.031691566008914054,
          -0.031677940398337594,
          -0.03176387860108975,
          -0.031657283113635894,
          -0.03165398284064197,
          -0.0318563462515377,
          -0.031678563730591726,
          -0.031727329889444836,
          -0.03161702114410046,
          -0.03170004245674683,
          -0.031568577639653796,
          -0.03169781318203191,
          -0.03161670437922454,
          -0.03166745482194569,
          -0.03159811643423274,
          -0.03159349021460438,
          -0.03163756347456634,
          -0.03158598911921264,
          -0.031727556773825216,
          -0.03166849193315746,
          -0.031593404054689404,
          -0.03157548296521183,
          -0.03158178670469963,
          -0.03163719792679636,
          -0.03164709503945741,
          -0.031567320671044015,
          -0.03161005584433483,
          -0.031615411021351715,
          -0.03163603040015094,
          -0.03156588879910293,
          -0.031673243246374994,
          -0.03162729127579768,
          -0.031653970812147915,
          -0.031571099785344496,
          -0.03160313465048079,
          -0.03157059421886961,
          -0.031494994559098495,
          -0.0316377620422778,
          -0.03156995130083385,
          -0.031653720377389304,
          -0.03162451883070545,
          -0.03150962812066426,
          -0.031633554153039554,
          -0.03158869113352162,
          -0.031610440064438,
          -0.03164531747947157,
          -0.03162296490956303,
          -0.031662643974341285,
          -0.031634728792646165,
          -0.03158094091835895,
          -0.0316488879644811,
          -0.03165799502888519,
          -0.031576786708048005,
          -0.031609528680831986,
          -0.031580369513765895,
          -0.03156694634148946,
          -0.0316169022148981,
          -0.03170720251945468,
          -0.03173177131519893,
          -0.03154136744038102,
          -0.03164099293667371,
          -0.03152671874499061,
          -0.031605024975148215,
          -0.03159877700407107,
          -0.031610078431450604,
          -0.03150119327980054,
          -0.0315803273851374,
          -0.0316751626355624,
          -0.031616899215503085,
          -0.03153966398306111,
          -0.031676911379431585,
          -0.031680939633689655,
          -0.03149271984394554,
          -0.03159497556989857,
          -0.03164686316611451,
          -0.03163069470074799,
          -0.03156289264514307,
          -0.031651304799475324,
          -0.031630614466900214,
          -0.03164457271775945,
          -0.03152041886851333,
          -0.031562554516000846,
          -0.031642280664927774,
          -0.031037199725908862,
          -0.03165893973909252,
          -0.031614970977074476,
          -0.03167660545591119,
          -0.0316999255905743,
          -0.03166039692021473,
          -0.03160594197335364,
          -0.031687466164956615,
          -0.03151412337929105,
          -0.03184815737519701,
          -0.03173686915004518,
          -0.03163138902953692,
          -0.031644799119453476,
          -0.031636063625655825,
          -0.03162401836739669,
          -0.0316725009756298,
          -0.03160166382017823,
          -0.031629930178341946,
          -0.03160023021548151,
          -0.031693989995906766,
          -0.03174449923820118,
          -0.031818205423636385,
          -0.031720948370651154,
          -0.03167991524708747,
          -0.031639740393533254,
          -0.03165668686645258,
          -0.03166051627425626,
          -0.0316873282545014,
          -0.03181919941067135,
          -0.031569419256348145,
          -0.031672272023296956,
          -0.0314645528674576,
          -0.03150465220553433,
          -0.031474434315829275,
          -0.031647127954566215,
          -0.03172049009114002,
          -0.03158449665137249,
          -0.031663025757911085,
          -0.031609430094822644,
          -0.03154086303220794,
          -0.0316518222283272,
          -0.03175528455517419,
          -0.03167782878229729,
          -0.031611099316851396,
          -0.03161521472520048,
          -0.03154946776477435,
          -0.031581719809324164,
          -0.03169087970054639,
          -0.031649823035542035,
          -0.032165836909601134,
          -0.03158780219817476,
          -0.03164978186948098,
          -0.03154352636207482,
          -0.03159097428416987,
          -0.031684813961313375,
          -0.03165096081579868,
          -0.03151847006461921,
          -0.03167889908595999,
          -0.03164503218869,
          -0.031700024029834926,
          -0.03165753440855363,
          -0.03173020020719138,
          -0.03168210111242176,
          -0.031605094758977006,
          -0.03160184399035266,
          -0.031643477959721916,
          -0.031691403828844306,
          -0.03154597783973898,
          -0.03160832343928489,
          -0.03166359380907901,
          -0.03148666295296352,
          -0.0315743495553267,
          -0.03153049815583292,
          -0.03159319358830276,
          -0.031613294477040796,
          -0.03168406267127431,
          -0.031627709483052616,
          -0.031610133736671125,
          -0.0316239737151548,
          -0.031672198471027084,
          -0.031637727025126544,
          -0.03155203041783694,
          -0.031647895785467305,
          -0.031572731272986695,
          -0.03161863769559661,
          -0.031661932700922886,
          -0.03162465716936103,
          -0.03159526304678334,
          -0.031621195161443925,
          -0.031657587221454335,
          -0.03161374837848763,
          -0.03159271609109229,
          -0.03149991816307501,
          -0.031591774306462185,
          -0.03161577616681158,
          -0.03161039525914596,
          -0.031629065954541236,
          -0.031643695550158,
          -0.03162958706954392,
          -0.03164040000998925,
          -0.031669409659053176,
          -0.031634694783060496,
          -0.031659121171442525,
          -0.03148958836530641,
          -0.031605505926650096,
          -0.03162268896224564,
          -0.03162988975443175,
          -0.03158915283457711,
          -0.03169265405417717,
          -0.03162290828134072,
          -0.03159449492771575,
          -0.031687282815114196,
          -0.031629773158709136,
          -0.03156564885590417,
          -0.03169857513019105,
          -0.03156488333730565,
          -0.03167602053195691,
          -0.03162118692317231,
          -0.031591927410742474,
          -0.03159976114689982,
          -0.0316301317324262,
          -0.03156337559892734,
          -0.031654269919404905,
          -0.03162445356832922,
          -0.03166915533874824,
          -0.0316569701467435,
          -0.031611649680260374,
          -0.031629338127123596,
          -0.03157574348639317,
          -0.03153810834938508,
          -0.03163339218577949,
          -0.031641888613315045,
          -0.03166503573738167,
          -0.03162507090055043,
          -0.031859055107587665,
          -0.031599567250505355,
          -0.03183330415023504,
          -0.03171763899581322,
          -0.03161761301075763,
          -0.03148716177844718,
          -0.031629867387576935,
          -0.03157902603056006,
          -0.03171705999091203,
          -0.031653918296287886,
          -0.03160815388064086,
          -0.03155021834043363,
          -0.03170129188801371,
          -0.03152520332692518,
          -0.03166739839995057,
          -0.031634713764795194,
          -0.03164234952513803,
          -0.0316210922483084,
          -0.03161417602847652,
          -0.031648453990812425,
          -0.03160686910621008,
          -0.03159638074571673,
          -0.031482067948360185,
          -0.03151105136339651,
          -0.03161012322035742,
          -0.031579618659155796,
          -0.03163809496430778,
          -0.031652372123538566,
          -0.0315742803644374,
          -0.03151285647173278,
          -0.03163642404138298,
          -0.03161629649880417,
          -0.031581796535103235,
          -0.031596168272301405,
          -0.03166573274600755,
          -0.03153181102863136,
          -0.03164927353379289,
          -0.03170482811436986,
          -0.03167941293434371,
          -0.03161038403300027,
          -0.03138391669308648,
          -0.031631846072277224,
          -0.03171164011922336,
          -0.03166988184880575,
          -0.0316185719828542,
          -0.0316816280655058,
          -0.031619323019254304,
          -0.031636446435146744,
          -0.03145271401689781,
          -0.0316281948112757,
          -0.03153071332962482,
          -0.03156236980190019,
          -0.031655518143814544,
          -0.03162081669664897,
          -0.03166351639521099,
          -0.031541291230016436,
          -0.03162837199539423,
          -0.03168481233846289,
          -0.03163417586266037,
          -0.03163888610850362,
          -0.031624376338908175,
          -0.03163955915063121,
          -0.031489181787045926,
          -0.03159842706697916,
          -0.0316063324685757,
          -0.03161084198683716,
          -0.0316462282714949,
          -0.03162298670093813,
          -0.03179579313442105,
          -0.03157732610916599,
          -0.0316464141174752,
          -0.03165835726640849,
          -0.03140781781368989,
          -0.031528754410026526,
          -0.03167498095922149,
          -0.03165459208881712,
          -0.03164994106180826,
          -0.03161665348848496,
          -0.031611264480793426,
          -0.03159943172071325,
          -0.03157280494349706,
          -0.0316464563111887,
          -0.03163702017129221,
          -0.03164230485619792,
          -0.0315271597606671,
          -0.03167631484302565,
          -0.031579119386660935,
          -0.031614550067310225,
          -0.031628937884265074,
          -0.03163358617582359,
          -0.03169185615095986,
          -0.03165487471908209,
          -0.03161635864724989,
          -0.031662896435080475,
          -0.03170706853891074,
          -0.031594610310440224,
          -0.03154611303434136,
          -0.03166974831275122,
          -0.03161902294653418,
          -0.031542585481545406,
          -0.03172645142460326,
          -0.03158075395009866,
          -0.031368572948176084,
          -0.03162208710210347,
          -0.031639779965592536,
          -0.031516712985060764,
          -0.031659285969179524,
          -0.031627886148536434,
          -0.03160010149361147,
          -0.031646569921435504,
          -0.0315998796823995,
          -0.03163193100401324,
          -0.031580038495196826,
          -0.031688874121563515,
          -0.03167643031073006,
          -0.03160977344628215,
          -0.03167142833006524,
          -0.03159105022751312,
          -0.03157229463475472,
          -0.03163073186584084,
          -0.031640603307397874,
          -0.03167104626708805,
          -0.031648033087042435,
          -0.0316080545897171,
          -0.03160170051098664,
          -0.03164292093999102,
          -0.03150733400199891,
          -0.031437348631864204,
          -0.03155806265084339,
          -0.031624258464228096,
          -0.0315459430195406,
          -0.03155656523727509,
          -0.03154428847067446,
          -0.031644882921038675,
          -0.03165404074133075,
          -0.03164890951714781,
          -0.03155590676711943,
          -0.031611034398998275,
          -0.031605131486632944,
          -0.0316376262998926,
          -0.03160792639565937,
          -0.03162037516510642,
          -0.031729963229185115,
          -0.0316588425572503,
          -0.03159373868258931,
          -0.03132107070257537,
          -0.03166821568793442,
          -0.031656055952048526,
          -0.03159972880127471,
          -0.031707971298510884,
          -0.03160151973251426,
          -0.03156292374326571,
          -0.03166058803447289,
          -0.031455769872331646,
          -0.03155574960206683,
          -0.031656932369075214,
          -0.03165066836054968,
          -0.031669165616027874,
          -0.03176339118033405,
          -0.031574694036769706,
          -0.031570356932414306,
          -0.03158188544418084,
          -0.031660091311298016,
          -0.031597177118185785,
          -0.031667174104516964,
          -0.03163729351382501,
          -0.03160505493283701,
          -0.03164109469061848,
          -0.03165705785007489,
          -0.03166575890729649,
          -0.03166209402042305,
          -0.03165605946594185,
          -0.031488616153262323,
          -0.031624175779871165,
          -0.03160091139117601,
          -0.03158638572493243,
          -0.03178565080389279,
          -0.03160495542284205,
          -0.03157538974108675,
          -0.03165777917926352,
          -0.03166426037415709,
          -0.03142445046699699,
          -0.03154224670850041,
          -0.0315638712170917,
          -0.03160032791130576,
          -0.03161616575943788,
          -0.03144805868398697,
          -0.031667282399628814,
          -0.03165538248126614,
          -0.031618759707404846,
          -0.031549064741221884,
          -0.03163294847056528,
          -0.03162562657268313,
          -0.031675135168715514,
          -0.03164318012906741,
          -0.03164868061232292,
          -0.031647519418753475,
          -0.03165817261084369,
          -0.03146522249813522,
          -0.03153143603552047,
          -0.03171711102382219,
          -0.031546316905797595,
          -0.031607443576354255,
          -0.03162063182029163,
          -0.031591307997171116,
          -0.03162771511430807,
          -0.031527328654451355,
          -0.03188732823717368,
          -0.031642752072350816,
          -0.031519451311178115,
          -0.03162603828878065,
          -0.03164172392902396,
          -0.03167728546256779,
          -0.03166147313394877,
          -0.03160778164362613,
          -0.03162133904466116,
          -0.0316891248181721,
          -0.03171863870419404,
          -0.031659511026614316,
          -0.03167128233710187,
          -0.03179215098853601,
          -0.03178787582783707,
          -0.03177396624153216,
          -0.03145755716617193,
          -0.03174642860767779,
          -0.031793119804096104,
          -0.031512394413556105,
          -0.0316151069771684,
          -0.03158196985898,
          -0.03159652925664039,
          -0.03152904291397605,
          -0.03167613599561409,
          -0.03166591064306673,
          -0.03159435348097121,
          -0.031655664884591025,
          -0.031462019725201844,
          -0.03169606607843273,
          -0.031766775374971155,
          -0.031618439726439795,
          -0.031475562256874604,
          -0.03154712793465637,
          -0.03155767907093274,
          -0.03168997119379507,
          -0.031636484981021507,
          -0.031659690001340925,
          -0.03167120634897937,
          -0.03160868855788783,
          -0.03159029536011709,
          -0.03163468733387961,
          -0.03158918765973792,
          -0.0315485172233061,
          -0.03166266397086766,
          -0.03165180193988416,
          -0.031656879558989395,
          -0.03161367686086152,
          -0.03158766260541776,
          -0.031613518762859685,
          -0.03158421291084058,
          -0.031620310754668264,
          -0.031652828947073136,
          -0.031569575779381256,
          -0.031570685346083066,
          -0.03159766082847387,
          -0.03160878898773712,
          -0.03162785559783774,
          -0.031646183990102876,
          -0.03153414409576137,
          -0.031566438168707904,
          -0.031497689572657465,
          -0.0316220497507052,
          -0.03160359907295398,
          -0.031628223372715196,
          -0.03158580806507527,
          -0.03155176112897377,
          -0.03160199998267528,
          -0.031648432073218144,
          -0.031575449865429664,
          -0.03152884339004573,
          -0.0315134319009647,
          -0.03161603120383879,
          -0.03155617007295853,
          -0.03164161286409948,
          -0.03159314736895999,
          -0.031612227432058354,
          -0.03158666001450577,
          -0.03161771486007751,
          -0.03165791292295808,
          -0.0316507465219702,
          -0.03158093030346977,
          -0.03159358965060615,
          -0.03164917399157158,
          -0.03168153343908898,
          -0.03164062511098504,
          -0.03165593113152953,
          -0.031650214324843697,
          -0.0315379065344069,
          -0.03168420567405313,
          -0.03151025277581266,
          -0.031671295311101855,
          -0.031607509587552825,
          -0.03158929880677433,
          -0.03164679798424228,
          -0.031606531643068425,
          -0.03166907302926609,
          -0.03165547166377596,
          -0.0317759795254655,
          -0.031584177176233005,
          -0.031610368049765844,
          -0.031514570591589415,
          -0.03159339171380975,
          -0.03161335442310619,
          -0.031630677556258,
          -0.03159470145705972,
          -0.03152567541440198,
          -0.03173890748764118,
          -0.031574182920086576,
          -0.03147527628459133,
          -0.03164853337813759,
          -0.031588626727554345,
          -0.03162522455304838,
          -0.031554285078409315,
          -0.03163965935303992,
          -0.03161670689381439,
          -0.03167539712002343,
          -0.03169098268043917,
          -0.03164535526298299,
          -0.031623342551420686,
          -0.031623493681005505,
          -0.031635131769089796,
          -0.03157590156896307,
          -0.03158405629190698,
          -0.031574106385611304,
          -0.031602440779766934,
          -0.03161038458033765,
          -0.03150918382650674,
          -0.031698654849222775,
          -0.03149922340390539,
          -0.03155530182567098,
          -0.03158441447722717,
          -0.03164555653889706,
          -0.03163133573344479,
          -0.03140571778042624,
          -0.031659123188953975,
          -0.031658757137668865,
          -0.03163138248995179,
          -0.03156075232788485,
          -0.03160476539518764,
          -0.031630296946402424,
          -0.03157751310977754,
          -0.03163516790689304,
          -0.03164659909679719,
          -0.031552601518348065,
          -0.031579082252513685,
          -0.03169928791046978,
          -0.03161854551713432,
          -0.03166756892644068,
          -0.031479162606932946,
          -0.031552988335481716,
          -0.031535432604901374,
          -0.03159285456492625,
          -0.0315876273162716,
          -0.031658060575162746,
          -0.031662103408537826,
          -0.03161931093845447,
          -0.03169651766572958,
          -0.03162500681207907,
          -0.03178103673191856,
          -0.031772617041999594,
          -0.031631271997372194,
          -0.03176707369034891,
          -0.03165052980403624,
          -0.03160006655774885,
          -0.03163575378741173,
          -0.03158182707681338,
          -0.031634238274408505,
          -0.031680743237232994,
          -0.03162860615163757,
          -0.03165245245271469,
          -0.03161548893177712,
          -0.03160573663475368,
          -0.03152792728629794,
          -0.031687687448170174,
          -0.031666128050748414,
          -0.03161780133831099,
          -0.03163853584762284,
          -0.03170404079738767,
          -0.031614645596937135,
          -0.03151709069543634,
          -0.031668983213803015,
          -0.03164105282083651,
          -0.0316035241250104,
          -0.031529708741528786,
          -0.03161428285153688,
          -0.03171293037614344,
          -0.03143634970772447,
          -0.031519979276141294,
          -0.031617625873094496,
          -0.03166259912242923,
          -0.03157470975845413,
          -0.03154323506273386,
          -0.03167635131508768,
          -0.03164770396256156,
          -0.03155509818751653,
          -0.031543258417259364,
          -0.03157668187494055,
          -0.031631170254943615,
          -0.03154885646795432,
          -0.031618955202637196,
          -0.031645969979688146,
          -0.03162026329191073,
          -0.031618692064884824,
          -0.031689802214704806,
          -0.03165525984056718,
          -0.03165906788647291,
          -0.03170803719822233,
          -0.03157389652680896,
          -0.031639558815201904,
          -0.031590554757930725,
          -0.03171078895195686,
          -0.031607552366473925,
          -0.03157330666603612,
          -0.03161658914772101,
          -0.03160201712907322,
          -0.03161378217099891,
          -0.031586303145055936,
          -0.031621968930386414,
          -0.03164769105984325,
          -0.03161479104089034,
          -0.03166532438329218,
          -0.03154857142810311,
          -0.03155850822539467,
          -0.031590255389511365,
          -0.031510936111822895,
          -0.031597637625219756,
          -0.031615192387174564,
          -0.031607729661323566,
          -0.031615313365463665,
          -0.03159429495773098,
          -0.031386247145816636,
          -0.0316754177345405,
          -0.03161686455335411,
          -0.03157929882651238,
          -0.031688598590436684,
          -0.031646653019085806,
          -0.031694809734614894,
          -0.03160608848195746,
          -0.03161632642384071,
          -0.0316409478825162,
          -0.0316286027541652,
          -0.031638907317986145,
          -0.0316731238211634,
          -0.03163343382824354,
          -0.03171418008593595,
          -0.031580107645215974,
          -0.03158353865407854,
          -0.03166822493627074,
          -0.03162605638893768,
          -0.03164318746164019,
          -0.0315964262488274,
          -0.03157215351894697,
          -0.03164281810533235,
          -0.031597171932468464,
          -0.031638989629291306,
          -0.03155369998321168,
          -0.03160216863930578,
          -0.03163575866882246,
          -0.03155698651591174,
          -0.03149556131406131,
          -0.03164467131677456,
          -0.03161597973807488,
          -0.03163926773320467,
          -0.03167211206601825,
          -0.031662368822307156,
          -0.03171352186881705,
          -0.03166180955478718,
          -0.03166009559871715,
          -0.03159791441935282,
          -0.03161751672405036,
          -0.031549360867296455,
          -0.03162745830250738,
          -0.03158959072427362,
          -0.031622177164800175,
          -0.03143807129470612,
          -0.03165980187397248,
          -0.03153627202588331,
          -0.031623729837296,
          -0.03161176902864437,
          -0.031602428750182446,
          -0.031581782115284306,
          -0.03169257194023111,
          -0.03163981273143883,
          -0.031622392528939954,
          -0.03160629364654283,
          -0.031493361047339914,
          -0.031618505973309015,
          -0.03162117326552126,
          -0.03163315391439596,
          -0.03164055415202111,
          -0.03155501865403112,
          -0.03160943551828915,
          -0.03159319170104254,
          -0.031648983470614546,
          -0.03166336093706019,
          -0.03169239241237592,
          -0.0315080939456201,
          -0.031608611679893185,
          -0.03164718839920128,
          -0.03163522616752982,
          -0.031466127125188335,
          -0.03168914882950376,
          -0.031662192139420564,
          -0.031640085451594295,
          -0.031632897721027016,
          -0.03161114262553973,
          -0.03157082762220959,
          -0.03153684541656496,
          -0.03176342022698112,
          -0.031676862503920114,
          -0.031629354931557586,
          -0.031458448031104355,
          -0.0314595538628636,
          -0.031677975734032617,
          -0.03153559696821055,
          -0.031581490322017756,
          -0.03159302619231583,
          -0.0316366254152521,
          -0.03162205153278757,
          -0.031654766176633826,
          -0.031620196208987046,
          -0.03163754342538204,
          -0.031664609385692884,
          -0.0316359143954706,
          -0.03166178642706903,
          -0.03161960335567633,
          -0.03153084958826523,
          -0.03164212054968976,
          -0.031767513630384825,
          -0.031684541757096105,
          -0.03159068022340419,
          -0.03165745793371438,
          -0.031662701389990756,
          -0.031641198588018886,
          -0.03150196994039034,
          -0.031587428940974965,
          -0.03159448195042834,
          -0.031646042966883475,
          -0.03161824061063038,
          -0.03162935299811122,
          -0.03168291917515431,
          -0.031671563791251287,
          -0.03154905106034469,
          -0.031583353489011985,
          -0.03151966749112745,
          -0.03163594623314383,
          -0.031585562868674075,
          -0.031672315965829624,
          -0.03163445524267409,
          -0.03173473742562448,
          -0.031668979761278644,
          -0.03169341185530203,
          -0.03156171192244792,
          -0.031500565773644906,
          -0.031657287612867645,
          -0.03158152506866134,
          -0.031681190450849675,
          -0.03157451034253455,
          -0.03166335829049866,
          -0.03166013497449113,
          -0.031509490343445905,
          -0.0315420250682658,
          -0.03163084729813103,
          -0.03161015278121395,
          -0.03162068793337988,
          -0.03164211027265669,
          -0.03159757016584127,
          -0.03166959555844574
         ],
         "xaxis": "x",
         "y": [
          -0.001322663274261042,
          -0.0017815783181412477,
          -0.006518588266472256,
          0.022063903951181865,
          -0.005270675494540189,
          0.005990694483934855,
          0.0021498491032929667,
          -0.0045945499911063115,
          4.0588275382197336e-05,
          -0.0003198475352980956,
          0.005042719559858991,
          -0.05579535872631099,
          -0.00532293321218553,
          0.003188769379434177,
          0.009420097378457523,
          0.00138186384611339,
          0.0004836282519515872,
          -0.0027687083452163606,
          -0.004204895876936662,
          0.004195829992862166,
          -0.006769922164869187,
          0.006534648624233284,
          -0.0006870166594121706,
          0.04500969937789931,
          -0.0006178388685476711,
          0.001736592623708499,
          0.0009241588563413588,
          0.0013438514421005067,
          0.00840476686192155,
          0.006887879810304303,
          0.006686120091104339,
          -0.00010391818681663608,
          0.037656108661173214,
          -0.008274009880939636,
          0.01081113099353991,
          -0.0024187580210408015,
          -0.0041928459832363246,
          -0.004234081441937583,
          0.0023853291037309538,
          -0.016438483143177352,
          0.0027013469090108985,
          -0.0004827458865230271,
          0.004073429357224102,
          -0.004812947354826804,
          0.0028172075961412214,
          0.06563270593773816,
          0.0003868993057448525,
          -0.01685809185330983,
          -0.005290262563015804,
          -0.004284334827530416,
          0.004411253510909042,
          -0.015822488944627032,
          0.003942420684248471,
          -0.00045121918894297925,
          0.0055587924621707165,
          0.0069939481294346885,
          0.005004499181233279,
          -0.015080268780279711,
          -0.007807833595393709,
          -0.008512249781910206,
          0.025929425759931363,
          -0.03271446733097799,
          0.008111250877818986,
          0.0013520745707664074,
          -0.008513918759336677,
          -0.0017975403984484284,
          0.00496971503973523,
          -0.008919255718453187,
          -0.006001183480928755,
          -0.016418647895223466,
          -0.005355060162539837,
          -0.004158079098020551,
          0.0011954212774382244,
          -0.002294518777884243,
          -0.016694948668297287,
          0.0047737486569594065,
          -0.00012063559954570366,
          0.001733126465330426,
          -0.05028375352065618,
          -0.011440571333180515,
          -0.03559298833554663,
          -0.005878382206978819,
          0.006047603730892833,
          -0.1099933271491824,
          -0.001093088884707003,
          0.002066671377184332,
          0.008781921114885682,
          0.004999741256252072,
          -0.003519663011467354,
          -0.0023020127503436765,
          0.010479570368418529,
          -0.023988407522531386,
          -0.00045316474948488777,
          0.013497402379239163,
          -0.024198970102959728,
          -0.002003751423057373,
          -0.0019112063667287651,
          0.01798875847225358,
          -0.007394795998790134,
          -0.019304627128443493,
          -0.004289007372947423,
          -0.011298715273571309,
          0.021474010289048977,
          -0.009305393843484562,
          -0.00448705533770948,
          -0.02687651974987468,
          -0.010267237207643155,
          0.0010674813898431796,
          -0.027513214087718677,
          -0.0033987258476286543,
          0.0292952938457013,
          0.0013266796691318253,
          -0.009470001999194016,
          0.008338954873497777,
          -0.017821362315605254,
          -0.0052995973352717805,
          -0.023050513859942206,
          -0.009551383502852234,
          -0.013730045324785,
          -0.004719676190202436,
          -0.004016080887636917,
          -0.0003810059812063931,
          -0.01367066203046751,
          0.00900480433546825,
          -0.03130813994766904,
          -0.00252131043976648,
          -0.0022158657591792434,
          -0.011643353845262909,
          -0.001817921611074154,
          -0.007696394385608165,
          -0.0022846398417867095,
          -0.0007614047506249377,
          -0.008169274578441254,
          -0.012281460677419297,
          -0.008472813933930247,
          0.0036700596951016098,
          -0.030873991983949065,
          -0.01021247805381459,
          -0.0011450217444873398,
          -0.01723952096086321,
          -0.0037874164408596557,
          -0.003461997764637782,
          0.048214424109232025,
          -0.010269499241513666,
          -0.004562041093686669,
          -0.005716480625550017,
          -0.005034624963924273,
          -0.02794043968088445,
          -0.02538676871695256,
          0.016614295657037505,
          -0.0065093220294999525,
          0.0067763281288025405,
          -0.006280046449396547,
          0.0011785129714789668,
          0.0013859628291813817,
          0.0666891811417824,
          0.00466850405970672,
          0.011719374980652196,
          -0.018703275057364768,
          0.0004524648432015257,
          0.0008588059526972932,
          -0.02603473278895224,
          -0.0027553779083845462,
          -0.01478964957206547,
          0.039621541347053646,
          -0.03686408886605278,
          -0.01633408563605375,
          -0.0042519062154113925,
          -0.008108904239904575,
          0.010551556460937047,
          -0.006823499439438316,
          -0.0013388150662007163,
          0.0008217113319407086,
          -0.0007387320252556538,
          -0.008649139111088151,
          0.003036985482705278,
          0.004464318953650367,
          0.0006714625276870885,
          -0.005366577647456388,
          0.0007430097554341095,
          -0.02270699475102542,
          -0.014411120325348973,
          0.04511578213504941,
          -0.01443306045784012,
          -0.021813304544519876,
          0.011978221289269687,
          -0.007620072278218815,
          0.0007812282850643202,
          -0.002829696162670181,
          -0.0013728495672777291,
          0.0054823483071220125,
          0.003439194484699603,
          -0.0012553067132327885,
          0.0009392117286194792,
          -0.03770170276779185,
          2.923077209607905e-05,
          -1.970499049382537e-05,
          -0.003175750684995904,
          -0.025716162158936837,
          -0.023392109525658716,
          -0.006025513581579967,
          0.011661160699833084,
          0.0192856287664476,
          -0.005322795016883277,
          -0.0019852607494361355,
          -0.01576494076422827,
          -0.0020122300265184613,
          -0.01090017002240425,
          -0.03429641657337087,
          -0.03188745413508255,
          -0.0038548710505871666,
          -0.010464990627082577,
          0.004893507114476377,
          -0.028140321878099776,
          -0.022858461857901254,
          -0.0025189776896490886,
          -0.0012165157079544705,
          -0.02312833702041455,
          -0.00969372275564461,
          0.021052673769120907,
          -0.008282592847858948,
          -0.0003818295430014821,
          -0.018538923357994,
          -0.009227880505277841,
          -0.008545730375774411,
          -0.013617837792491485,
          -0.0009197308638497529,
          -0.007398782149386035,
          0.02269035640805631,
          -0.0034831439694064125,
          -0.0037505443194191025,
          0.006903611623325386,
          0.001375443368050301,
          -5.040037899538658e-05,
          0.001965515340098482,
          0.016829254336848277,
          0.004104256647038516,
          -0.01685675855779973,
          0.003829870082859511,
          -0.006351493558489921,
          -0.0032077794112397875,
          -0.0027315485363200082,
          0.009461505395554423,
          0.07545522846278929,
          -0.0008460268032135357,
          -0.0020792681391643294,
          0.0006735374350671029,
          -0.006614675104023129,
          0.07450527872157219,
          -0.0034439214958835677,
          -0.0006515293585606584,
          0.001995616795617214,
          0.0005473791899539879,
          -0.010079239273478556,
          -0.028306174115426717,
          -0.007057666383663783,
          0.0004603005682005873,
          -0.02156081637007267,
          -0.006954574258313296,
          0.0026491177278752756,
          0.00987217389327411,
          -0.015397153823944396,
          -0.0065804289231595585,
          -0.0007846750318855405,
          -0.008627203406079302,
          -0.020272002293420945,
          0.02412523028224726,
          0.0038305898914391774,
          0.0008987181167342658,
          0.0011863791181106703,
          -0.007476606372510482,
          -0.001383808172338282,
          0.08178786777219546,
          0.0003276844527922377,
          -0.027135774898925963,
          -0.0017578734343145987,
          -0.0023081192334813267,
          0.007106418710206999,
          0.0059248571401477905,
          0.08530307715093327,
          0.014350622261316885,
          -0.06868714835163338,
          -0.007082344768065767,
          -0.005881950609939262,
          0.002825746221293142,
          -0.0004871030134426683,
          -0.003808124970230349,
          0.03525533362788098,
          -0.004990894378471896,
          0.003687940516517806,
          0.7544814997239573,
          0.015676505787975716,
          -0.004916876513505145,
          -0.021297316351343392,
          -0.01769295497937418,
          -0.013761409841425558,
          -0.007900561428358294,
          -0.00426632401207842,
          -0.0063934916312280085,
          -0.003689481316582123,
          -0.003933586577668687,
          -0.023534447778546973,
          -0.000876827581253434,
          0.002319567400208973,
          0.001070461154496441,
          -0.0038629456363376696,
          -0.0022884631797848325,
          -0.01175128310266013,
          0.005810410159741144,
          0.00732179747953895,
          -0.011188467005355307,
          0.0016275734942945064,
          0.010937080679172217,
          0.0021321418638557384,
          -0.017199300908911957,
          0.00040231803938941765,
          -0.012604352361208705,
          -0.010314070859106128,
          -0.04370179069772312,
          0.004349467615140171,
          -0.0022555671255631653,
          0.04606760290214774,
          0.010175041408865682,
          0.020892393695010347,
          -0.0051619276179963106,
          -0.003348652280261816,
          -0.0031410002366567963,
          -0.009595617826922248,
          -0.0034900498310006943,
          -0.00024328576572782477,
          -0.010775189611686449,
          -0.030536164792123982,
          -0.01896002246877723,
          -0.012358409139199465,
          -0.010918457488333321,
          -0.01144701213496897,
          0.0008054803971181278,
          -0.016090971763077253,
          -0.038965956192414025,
          -0.1284845495360579,
          0.005688183359838868,
          -0.024520973372274154,
          0.022002080849979833,
          -0.014467663790045056,
          0.005705917810109922,
          0.005715440320448839,
          0.005979643020747861,
          -0.011720839427689044,
          0.0019320434188499639,
          0.0064793541193155025,
          0.0013334374254893638,
          -0.013833941061375503,
          0.01190007022222655,
          0.005032389874421471,
          0.004064220959628206,
          -0.013782136036871959,
          -0.012502093058367409,
          -0.018220398823184873,
          0.005377338247558985,
          0.006398759386204159,
          0.012342800058567216,
          -0.020325521554809958,
          0.016455467519787874,
          -0.00706061622207272,
          -0.002758790079440015,
          -0.0012441035696129686,
          -0.0011744804470849865,
          -0.005223097486498071,
          -0.015077839656424081,
          -0.0019795608527585573,
          -0.00013693446668452543,
          0.0019064174179908072,
          -0.014120890811942644,
          -0.0016788809466274529,
          0.0033597995764535907,
          -0.010311601091768388,
          0.003949093295626795,
          0.002142581285000049,
          -0.005070785120887394,
          0.0033225170935646583,
          -0.017646120418505985,
          -0.016904542682007414,
          0.009912713715652811,
          -0.001286404498757025,
          -0.010980016513484283,
          0.00197157501680704,
          -0.00681130628029302,
          -0.005449426969587941,
          -0.0003604087132338075,
          -0.001796511213071138,
          -0.01881770798908125,
          -0.011998474739027404,
          0.00654563783889201,
          0.01921785163886327,
          -0.0006208849178635153,
          0.0016824831361973705,
          -0.031094698659268873,
          0.0037779190692455774,
          -0.00885962762051315,
          -0.00291798715984408,
          -0.01273948404361554,
          -0.0034688302399217183,
          -0.00745508244327877,
          0.036708960761902866,
          -0.018720509146396423,
          -0.0064995189469154255,
          -0.00016940270533187158,
          -0.0017704318700367933,
          0.012909292836326983,
          0.009425745162144016,
          -0.011809266120044121,
          -0.006897500135696597,
          -0.0020249758791845416,
          -0.006547395438446104,
          -0.0014200041755562302,
          0.0074743098046886865,
          -0.009450651052403902,
          0.0032865933632926824,
          -0.0020524043206920704,
          0.004737688170712056,
          -0.0022721361979023092,
          -0.020879326402461682,
          -0.0029692161907711955,
          -0.008771570128573599,
          -0.08737698966591921,
          -0.037555111912269616,
          -0.13652947073558605,
          -0.03420904209828329,
          0.0042649640628716805,
          0.03111364305052942,
          -0.015228525945836383,
          -0.00954398699877792,
          -0.02047991402211045,
          0.0035658595609815245,
          0.00042053936676515134,
          0.002182908033937558,
          -0.0032814737556391593,
          0.013659083097079526,
          -0.0035831653262007566,
          0.0018010017319144084,
          -0.008875801298117148,
          0.004032078887524012,
          -0.00301602001378131,
          0.001957209781125473,
          0.031599780287800264,
          -0.00803300684666542,
          0.004509226419273005,
          0.019054467931065355,
          0.00435241538112909,
          0.004526910321274421,
          -0.009530574780603292,
          -0.005631929925493077,
          0.02366256025670773,
          0.02682130214105612,
          0.0014716001094497405,
          0.003906255211796598,
          0.005134781623644014,
          0.0014748002777573111,
          0.007165644857460498,
          0.01588703023071023,
          0.0021310655997245197,
          0.006725159158216702,
          -0.01585197559221714,
          0.00026639625801045476,
          0.03622798027940234,
          -0.004078315842705167,
          0.003724300084283859,
          0.00348930117749135,
          -0.0020785392710585037,
          -0.011297758621808122,
          0.0015508478447691,
          -0.00034348998556410764,
          0.1208415266485547,
          0.0012905444421168176,
          -0.019229399866104405,
          0.021600607978799327,
          0.002772564186849822,
          0.0011717678584366002,
          0.001711374695717434,
          0.013530644777083788,
          0.011773852635170909,
          -0.041088012259351214,
          0.0021658706683304898,
          -0.03434830200135257,
          -0.0016996079397960497,
          -0.023924414370483402,
          0.050101350786443795,
          -0.007100438810191482,
          0.026371849581392253,
          0.020022756908405805,
          -0.0037860143075086673,
          -0.010407008067866073,
          -0.00806684209154216,
          -0.0006399867775236762,
          0.0015367194428312129,
          0.0010104353567743027,
          0.021462177663931156,
          0.01100378521194618,
          0.002404437580029703,
          -0.002854799840194507,
          0.004934700907196869,
          -2.4158298299720704e-05,
          -0.0013369540200399452,
          0.009988784415768897,
          -0.01867776339650868,
          0.0024349525712011296,
          0.03292544134240095,
          0.02570663076064114,
          0.03980310990750379,
          -0.012838124068054733,
          0.004784379941066618,
          0.014273314398621539,
          -0.0031772629245891554,
          0.0007492340956447338,
          -0.004492522088358218,
          -0.0007692121808223638,
          0.00026248454516585826,
          -0.00492835911470212,
          -0.001985968655396812,
          0.004189922708937946,
          0.002547587933211534,
          -0.017853257729085515,
          -0.00309437707700683,
          -0.00016993191242836754,
          -0.003057361552478457,
          -0.0025077118774084178,
          0.006090565823250663,
          -0.0009796551235560318,
          0.005594344795515572,
          0.00925235017091218,
          -0.005350917342052871,
          0.005423272476332267,
          -0.014407949163268773,
          -0.007091976739742001,
          -0.0004814170209687415,
          -0.014948519517782892,
          -0.012875317214838753,
          -0.0058801921268474425,
          -0.009182321048471446,
          0.0007004892859415533,
          -0.0008797804483303211,
          -0.008586305049270755,
          -0.0037470482677058907,
          0.003247669683480678,
          -0.0022190748671747826,
          0.0006112890202163596,
          0.002869978465725938,
          0.005791878548252353,
          0.004610921453586733,
          -0.00474882018070557,
          0.027597500516467442,
          -0.0045530486773830165,
          0.0004166577608659193,
          -0.0023832948057118165,
          0.03104849258946441,
          0.00583032343943609,
          0.02424393945076675,
          0.0009087465547393403,
          -0.0028537404453492965,
          0.05345208509184477,
          0.025489749386874105,
          0.0014159689243145846,
          -0.0025319146722378462,
          -0.005035308031932301,
          -0.00911557473247176,
          -0.021669843820690572,
          -0.023137596531938788,
          -0.004700302492925873,
          0.04924678127682864,
          0.0667916589139297,
          0.00556271566366182,
          -0.002075259762285991,
          -0.0016086290985666695,
          -0.024984718061567386,
          0.0021379999814967105,
          0.0029313207550355396,
          0.0021740188685929265,
          0.08066241906158242,
          0.024139696063824614,
          -0.004475972995681639,
          -0.010041971733389592,
          -0.0007095085980279143,
          0.0027574013515188006,
          -0.0003631283684019526,
          -0.010739157093413854,
          0.01062281048894406,
          -0.0021764817013457684,
          -0.0048432124534886,
          0.001383059402426615,
          -0.0034244848701557146,
          -0.010768437254727576,
          -0.006340133539545523,
          0.0015968028386268858,
          0.012402108892410163,
          -0.010886096699766682,
          -0.0065403777179972086,
          0.1345589109339469,
          -0.0024145440637790925,
          -0.031174988451579178,
          0.004637905400647711,
          0.018356311809317044,
          0.007657315093140607,
          0.015764126392288087,
          0.010102608404125064,
          -0.004556875744859762,
          0.10674428821326055,
          0.004089090482002938,
          0.007891981767568019,
          -0.01180995990984941,
          -0.0021435803395311887,
          0.020857405732339625,
          -0.0018567773775095353,
          -0.0009828727392483627,
          -0.0022151984046050546,
          0.04880140379989482,
          0.004810236141962138,
          -0.005428249173810246,
          -0.008633334934241094,
          0.0012894567023683714,
          -0.009553264902725374,
          0.016646104207874594,
          -0.010964135710263712,
          0.02989941675914959,
          0.03262397202925997,
          -0.011141331113321176,
          -0.002925913125366729,
          -0.0016468066802906858,
          0.0005446708268931951,
          -0.003932871342864283,
          -0.0051923445187235856,
          0.010756276680366536,
          0.012512024761966976,
          -0.003550267652759506,
          0.02497051356780421,
          0.0009443879992171157,
          -0.02043746986443983,
          -0.05021075761094415,
          -0.005107908455751839,
          0.00747444694462589,
          -0.010043641311740539,
          -0.0028346868520434595,
          -0.06006095024849758,
          -0.004647165386849057,
          -0.005517084492391768,
          -0.03404443023257516,
          -0.10377858953742335,
          0.002483546959546702,
          0.05678515894971081,
          -0.02101775220202354,
          -0.062192086970860705,
          0.008701165271438693,
          -0.0010302573275836728,
          0.06466757280989838,
          0.05039805503634584,
          -0.010601227603461725,
          0.0028070051816221036,
          -2.9637757989090014e-05,
          -0.0029771898378211253,
          0.004935064516775916,
          0.14072361301697414,
          -0.0017851254715215616,
          -0.005869760911990574,
          -0.008377607466048546,
          0.04639023699716519,
          0.012053290792234815,
          0.014801256328245868,
          -0.0363122807870984,
          -0.0007628173190956054,
          -0.000594842503996737,
          -0.00411683799512109,
          -0.0009140299791448445,
          0.006351069001351094,
          -0.007932337589838478,
          0.025055318769621006,
          0.0360248179008014,
          0.00027136367378590776,
          -0.0033658414398564022,
          0.0003062779865118799,
          0.00880349628965243,
          -0.00920426019402351,
          -0.0018102464247880218,
          -0.0006236543516343229,
          0.003454820643148829,
          -0.0046833350284724694,
          -0.0015097279471509544,
          0.0011706546955058874,
          0.005008581656505328,
          -0.00468764603373808,
          0.00011747497390526589,
          -0.003775615715540367,
          0.007423460956256177,
          -0.00031804754399137117,
          0.004788982892800995,
          -0.0018905990811931984,
          0.005875734967108991,
          0.00998360667967763,
          0.02148610480571095,
          0.01281678925631274,
          -0.0024861747015788873,
          -0.0009302955934886954,
          -0.0016342108891476675,
          0.010894492151977632,
          -0.00748610634434549,
          -0.004710070932069707,
          0.039445188274346996,
          -0.009907449980725434,
          0.027298382176193653,
          -0.0009056692398911157,
          -0.002060229330688215,
          -0.0008398005493162849,
          0.0016082761610474925,
          -0.0012685188622681039,
          0.004331986396965625,
          -0.011241553413747708,
          -0.0037560006359588804,
          -0.00474189028208302,
          0.0019161136922890333,
          -0.03817528384313876,
          -0.01956580961163245,
          -0.002779978058414455,
          0.0018659700059675938,
          -0.0017715095042074227,
          0.014237527176685588,
          -0.00024088152348510054,
          0.03271748407869233,
          -5.15858432816742e-05,
          0.004832629889376513,
          -0.00015218494002415441,
          0.004651106657479543,
          -0.002868117495905449,
          -0.012045780465219072,
          0.0008028736077111626,
          0.011975659777484951,
          -0.0068717445269859696,
          -0.010656470349194803,
          -0.0044438956208934155,
          0.0012547689739720934,
          0.09492027553691114,
          0.014091243681275333,
          0.0016960445508262432,
          0.06201423903665829,
          -0.009038888216677277,
          0.01204217745105275,
          -0.00020356295608885177,
          0.02908025159135017,
          -0.00971513212407085,
          -0.0014032657752990477,
          -0.0010342052397648658,
          -0.012834913492481437,
          -0.003736985574736395,
          -0.0036586009328796153,
          0.004691524397107391,
          -0.0020942387059512094,
          0.0031549841548973545,
          0.031097366465463114,
          -0.008586274452802722,
          -0.015297238615468707,
          -0.0014111379083859078,
          0.011684360361231107,
          -0.023399385868621097,
          0.045762355758565756,
          0.005306048187879707,
          -0.03612229486921735,
          -0.0028433424214768465,
          -0.021132575955632126,
          0.07859855862497868,
          -0.021523117346841092,
          -0.025756293023554148,
          -0.01065318624287058,
          -0.007330684542801453,
          0.007882318166785638,
          -0.01311235540881742,
          -0.008007065749764291,
          0.0003303025018742612,
          0.002386707040726434,
          0.005535999296649488,
          -0.0010580252478172094,
          -0.013386000244261129,
          -0.010916911197743814,
          0.000542149070521235,
          0.010232404128742007,
          0.009031574418708157,
          0.006981752248057414,
          -0.0015757194028105203,
          -0.0020231361111951894,
          -0.014512358673203303,
          -0.008723426843600217,
          -0.0023088216548062365,
          -0.012590081999788208,
          -0.0009890346485892597,
          -0.0419878936002908,
          -0.026588332469415242,
          0.002073621716774768,
          -0.012820868085274004,
          -0.00509440425532455,
          0.0026441804887377407,
          -0.01878203972829668,
          0.007311604674576605,
          -0.010936293096956843,
          -0.005485367343841907,
          0.0004035303056276557,
          -0.026265148918620966,
          0.001822355580011043,
          0.006727565458380796,
          0.02353625021332918,
          -0.015324251496543635,
          -0.004339102521136767,
          -0.0034034025593372126,
          -0.007252776582629973,
          -0.015058674699833198,
          0.008670152525593557,
          0.035942373611384644,
          -0.00394855044098177,
          -0.0008550756906644997,
          -0.002371936387355582,
          0.008639621791782662,
          0.003557872615126627,
          -0.023615317802145316,
          0.013475327621994998,
          0.039009621246349234,
          -0.002266827508670909,
          -0.014862641375067511,
          -0.003709460081172423,
          0.010594204997226084,
          -0.008733315363265078,
          -0.0022008099089622824,
          -0.004630195006168059,
          0.01821460811914405,
          -0.0005011492450970535,
          -0.0025993308545940834,
          0.0006041941045116816,
          -0.011716201625252099,
          -0.0087536268541176,
          -0.0005683987430505093,
          0.017297617714738416,
          -0.01788133762193865,
          -0.012218772884702592,
          -0.009204945469150527,
          -0.019865569569287377,
          -0.0026286940515592716,
          -0.002623555078169336,
          -0.0027603735578183987,
          -0.00856572843710765,
          0.04652448488213286,
          -0.0014281361532548032,
          -0.0017421074998505057,
          0.000563593098927218,
          -0.019710395162048935,
          0.01857225116800327,
          0.00010640297012712034,
          -0.006438049420777938,
          -0.001107152879260739,
          -0.016096656439842427,
          -0.0005708924254765215,
          -0.0027291795217332317,
          0.0013169461506940066,
          0.00038668232507361127,
          0.0015711564866581706,
          1.163737528024748e-05,
          0.002205956713392347,
          0.005086993689289161,
          -0.0036499714862024755,
          -0.03613164462378011,
          -0.013073821979002805,
          -0.0046007412223983205,
          0.024943409634886848,
          0.00010770710084914649,
          -0.004531102589394301,
          -0.008793322105731832,
          -0.017193143936138904,
          -0.006979376917873417,
          -0.015471293978949844,
          -0.0044034141995430934,
          -0.008433607243186252,
          -0.01061156985913208,
          0.0047413132192801665,
          0.004986491330477707,
          -0.003946512428751525,
          0.001229238902280213,
          -0.01810670549481705,
          -0.0030927541580094025,
          -0.021620339766607627,
          0.001053600005641551,
          0.02153843301614189,
          -0.00634396300932977,
          -0.01103082493215863,
          -0.018976925675236272,
          0.006295706544482958,
          -0.009003030923360167,
          -0.013979263610014135,
          0.00034817090958706953,
          -0.0016059803184766944,
          0.009399034806854582,
          0.010149030042036523,
          -0.009539080082495996,
          -0.013715841413253516,
          -0.012027888498998204,
          -0.03413078384712348,
          -0.016315171984386565,
          0.003908883355205499,
          0.003107361798217077,
          0.011985092283784457,
          0.02432454930324787,
          0.0012768948495940299,
          0.0015804610325790794,
          -0.000279729381981357,
          0.11355180524751345,
          -0.031889520137548484,
          0.0008678067668408508,
          0.0014449924431253081,
          0.021921817555199688,
          -0.035004916306874106,
          0.0039367931577923175,
          -0.014426053598098343,
          -0.025012577004968586,
          -0.004453636887113836,
          0.00011004038568440645,
          0.009243158359912724,
          -0.0038438579782689385,
          -0.010974873306924883,
          -0.013606000178371335,
          0.0010396806456967201,
          0.011037297821703386,
          -0.005283408997452662,
          0.008791947566531939,
          0.0016112284228640887,
          -0.003558610583688266,
          -0.003800747237256464,
          0.002350573134456941,
          0.0031683129118948027,
          -0.0030567111181200673,
          -0.030528649576977443,
          0.024143099302277864,
          -0.005633852809969868,
          -0.014036876789430481,
          -0.001009695416755438,
          0.0021384208090471928,
          -0.002228982070799491,
          0.002390155222053517,
          -0.0025404770100428825,
          -0.01775659300963167,
          0.0027728913807562408,
          0.015974468958366676,
          0.07010757354351169,
          0.028616547556484104,
          -0.0050636628200552295,
          0.041994790440293424,
          0.00500208205351079,
          0.0016129695959103646,
          0.0009106119347189528,
          -0.011512631896869277,
          -0.0033300225102584837,
          -0.0015179203447510995,
          -0.010391566750715722,
          0.002122644998950862,
          -0.00856218131230557,
          0.00036983531666747566,
          -0.012377716628925027,
          0.00424514714424282,
          -0.002051415567102717,
          -0.0608481538692972,
          -0.001033110280577395,
          -0.0087807027946169,
          -0.007189323813140527,
          0.00477963412500649,
          0.0011433529892155472,
          0.006301349990842951,
          -0.005645042572280627,
          0.004830241296407981,
          -0.002809380986190264,
          -0.027295730564174225,
          -0.006258952628808864,
          -0.004057988720303032,
          -0.008893193601405735,
          0.01847067686747879,
          0.009701309393673342,
          0.047087299601571465,
          0.0014779723835829613,
          -0.014336648390740529,
          -0.006998579859733156,
          -0.004984930335048642,
          -0.011456857430954521,
          -0.005751045343588825,
          -0.009820874689135482,
          0.009230439053855326,
          0.07446699478986778,
          -0.011394662645324991,
          0.0022198993286167905,
          -0.007494538783923172,
          -0.0012882252003400354,
          -0.009640816021710791,
          0.004011424183876766,
          0.0004627347569600613,
          -0.021084367762101038,
          -0.007690076097295735,
          -0.023855826742016827,
          -0.0007850665989748143,
          -0.005545413643623767,
          0.0016371363490870125,
          -0.013778620212800272
         ],
         "yaxis": "y"
        }
       ],
       "layout": {
        "autosize": true,
        "legend": {
         "tracegroupgap": 0
        },
        "template": {
         "data": {
          "bar": [
           {
            "error_x": {
             "color": "#2a3f5f"
            },
            "error_y": {
             "color": "#2a3f5f"
            },
            "marker": {
             "line": {
              "color": "#E5ECF6",
              "width": 0.5
             },
             "pattern": {
              "fillmode": "overlay",
              "size": 10,
              "solidity": 0.2
             }
            },
            "type": "bar"
           }
          ],
          "barpolar": [
           {
            "marker": {
             "line": {
              "color": "#E5ECF6",
              "width": 0.5
             },
             "pattern": {
              "fillmode": "overlay",
              "size": 10,
              "solidity": 0.2
             }
            },
            "type": "barpolar"
           }
          ],
          "carpet": [
           {
            "aaxis": {
             "endlinecolor": "#2a3f5f",
             "gridcolor": "white",
             "linecolor": "white",
             "minorgridcolor": "white",
             "startlinecolor": "#2a3f5f"
            },
            "baxis": {
             "endlinecolor": "#2a3f5f",
             "gridcolor": "white",
             "linecolor": "white",
             "minorgridcolor": "white",
             "startlinecolor": "#2a3f5f"
            },
            "type": "carpet"
           }
          ],
          "choropleth": [
           {
            "colorbar": {
             "outlinewidth": 0,
             "ticks": ""
            },
            "type": "choropleth"
           }
          ],
          "contour": [
           {
            "colorbar": {
             "outlinewidth": 0,
             "ticks": ""
            },
            "colorscale": [
             [
              0,
              "#0d0887"
             ],
             [
              0.1111111111111111,
              "#46039f"
             ],
             [
              0.2222222222222222,
              "#7201a8"
             ],
             [
              0.3333333333333333,
              "#9c179e"
             ],
             [
              0.4444444444444444,
              "#bd3786"
             ],
             [
              0.5555555555555556,
              "#d8576b"
             ],
             [
              0.6666666666666666,
              "#ed7953"
             ],
             [
              0.7777777777777778,
              "#fb9f3a"
             ],
             [
              0.8888888888888888,
              "#fdca26"
             ],
             [
              1,
              "#f0f921"
             ]
            ],
            "type": "contour"
           }
          ],
          "contourcarpet": [
           {
            "colorbar": {
             "outlinewidth": 0,
             "ticks": ""
            },
            "type": "contourcarpet"
           }
          ],
          "heatmap": [
           {
            "colorbar": {
             "outlinewidth": 0,
             "ticks": ""
            },
            "colorscale": [
             [
              0,
              "#0d0887"
             ],
             [
              0.1111111111111111,
              "#46039f"
             ],
             [
              0.2222222222222222,
              "#7201a8"
             ],
             [
              0.3333333333333333,
              "#9c179e"
             ],
             [
              0.4444444444444444,
              "#bd3786"
             ],
             [
              0.5555555555555556,
              "#d8576b"
             ],
             [
              0.6666666666666666,
              "#ed7953"
             ],
             [
              0.7777777777777778,
              "#fb9f3a"
             ],
             [
              0.8888888888888888,
              "#fdca26"
             ],
             [
              1,
              "#f0f921"
             ]
            ],
            "type": "heatmap"
           }
          ],
          "heatmapgl": [
           {
            "colorbar": {
             "outlinewidth": 0,
             "ticks": ""
            },
            "colorscale": [
             [
              0,
              "#0d0887"
             ],
             [
              0.1111111111111111,
              "#46039f"
             ],
             [
              0.2222222222222222,
              "#7201a8"
             ],
             [
              0.3333333333333333,
              "#9c179e"
             ],
             [
              0.4444444444444444,
              "#bd3786"
             ],
             [
              0.5555555555555556,
              "#d8576b"
             ],
             [
              0.6666666666666666,
              "#ed7953"
             ],
             [
              0.7777777777777778,
              "#fb9f3a"
             ],
             [
              0.8888888888888888,
              "#fdca26"
             ],
             [
              1,
              "#f0f921"
             ]
            ],
            "type": "heatmapgl"
           }
          ],
          "histogram": [
           {
            "marker": {
             "pattern": {
              "fillmode": "overlay",
              "size": 10,
              "solidity": 0.2
             }
            },
            "type": "histogram"
           }
          ],
          "histogram2d": [
           {
            "colorbar": {
             "outlinewidth": 0,
             "ticks": ""
            },
            "colorscale": [
             [
              0,
              "#0d0887"
             ],
             [
              0.1111111111111111,
              "#46039f"
             ],
             [
              0.2222222222222222,
              "#7201a8"
             ],
             [
              0.3333333333333333,
              "#9c179e"
             ],
             [
              0.4444444444444444,
              "#bd3786"
             ],
             [
              0.5555555555555556,
              "#d8576b"
             ],
             [
              0.6666666666666666,
              "#ed7953"
             ],
             [
              0.7777777777777778,
              "#fb9f3a"
             ],
             [
              0.8888888888888888,
              "#fdca26"
             ],
             [
              1,
              "#f0f921"
             ]
            ],
            "type": "histogram2d"
           }
          ],
          "histogram2dcontour": [
           {
            "colorbar": {
             "outlinewidth": 0,
             "ticks": ""
            },
            "colorscale": [
             [
              0,
              "#0d0887"
             ],
             [
              0.1111111111111111,
              "#46039f"
             ],
             [
              0.2222222222222222,
              "#7201a8"
             ],
             [
              0.3333333333333333,
              "#9c179e"
             ],
             [
              0.4444444444444444,
              "#bd3786"
             ],
             [
              0.5555555555555556,
              "#d8576b"
             ],
             [
              0.6666666666666666,
              "#ed7953"
             ],
             [
              0.7777777777777778,
              "#fb9f3a"
             ],
             [
              0.8888888888888888,
              "#fdca26"
             ],
             [
              1,
              "#f0f921"
             ]
            ],
            "type": "histogram2dcontour"
           }
          ],
          "mesh3d": [
           {
            "colorbar": {
             "outlinewidth": 0,
             "ticks": ""
            },
            "type": "mesh3d"
           }
          ],
          "parcoords": [
           {
            "line": {
             "colorbar": {
              "outlinewidth": 0,
              "ticks": ""
             }
            },
            "type": "parcoords"
           }
          ],
          "pie": [
           {
            "automargin": true,
            "type": "pie"
           }
          ],
          "scatter": [
           {
            "fillpattern": {
             "fillmode": "overlay",
             "size": 10,
             "solidity": 0.2
            },
            "type": "scatter"
           }
          ],
          "scatter3d": [
           {
            "line": {
             "colorbar": {
              "outlinewidth": 0,
              "ticks": ""
             }
            },
            "marker": {
             "colorbar": {
              "outlinewidth": 0,
              "ticks": ""
             }
            },
            "type": "scatter3d"
           }
          ],
          "scattercarpet": [
           {
            "marker": {
             "colorbar": {
              "outlinewidth": 0,
              "ticks": ""
             }
            },
            "type": "scattercarpet"
           }
          ],
          "scattergeo": [
           {
            "marker": {
             "colorbar": {
              "outlinewidth": 0,
              "ticks": ""
             }
            },
            "type": "scattergeo"
           }
          ],
          "scattergl": [
           {
            "marker": {
             "colorbar": {
              "outlinewidth": 0,
              "ticks": ""
             }
            },
            "type": "scattergl"
           }
          ],
          "scattermapbox": [
           {
            "marker": {
             "colorbar": {
              "outlinewidth": 0,
              "ticks": ""
             }
            },
            "type": "scattermapbox"
           }
          ],
          "scatterpolar": [
           {
            "marker": {
             "colorbar": {
              "outlinewidth": 0,
              "ticks": ""
             }
            },
            "type": "scatterpolar"
           }
          ],
          "scatterpolargl": [
           {
            "marker": {
             "colorbar": {
              "outlinewidth": 0,
              "ticks": ""
             }
            },
            "type": "scatterpolargl"
           }
          ],
          "scatterternary": [
           {
            "marker": {
             "colorbar": {
              "outlinewidth": 0,
              "ticks": ""
             }
            },
            "type": "scatterternary"
           }
          ],
          "surface": [
           {
            "colorbar": {
             "outlinewidth": 0,
             "ticks": ""
            },
            "colorscale": [
             [
              0,
              "#0d0887"
             ],
             [
              0.1111111111111111,
              "#46039f"
             ],
             [
              0.2222222222222222,
              "#7201a8"
             ],
             [
              0.3333333333333333,
              "#9c179e"
             ],
             [
              0.4444444444444444,
              "#bd3786"
             ],
             [
              0.5555555555555556,
              "#d8576b"
             ],
             [
              0.6666666666666666,
              "#ed7953"
             ],
             [
              0.7777777777777778,
              "#fb9f3a"
             ],
             [
              0.8888888888888888,
              "#fdca26"
             ],
             [
              1,
              "#f0f921"
             ]
            ],
            "type": "surface"
           }
          ],
          "table": [
           {
            "cells": {
             "fill": {
              "color": "#EBF0F8"
             },
             "line": {
              "color": "white"
             }
            },
            "header": {
             "fill": {
              "color": "#C8D4E3"
             },
             "line": {
              "color": "white"
             }
            },
            "type": "table"
           }
          ]
         },
         "layout": {
          "annotationdefaults": {
           "arrowcolor": "#2a3f5f",
           "arrowhead": 0,
           "arrowwidth": 1
          },
          "autotypenumbers": "strict",
          "coloraxis": {
           "colorbar": {
            "outlinewidth": 0,
            "ticks": ""
           }
          },
          "colorscale": {
           "diverging": [
            [
             0,
             "#8e0152"
            ],
            [
             0.1,
             "#c51b7d"
            ],
            [
             0.2,
             "#de77ae"
            ],
            [
             0.3,
             "#f1b6da"
            ],
            [
             0.4,
             "#fde0ef"
            ],
            [
             0.5,
             "#f7f7f7"
            ],
            [
             0.6,
             "#e6f5d0"
            ],
            [
             0.7,
             "#b8e186"
            ],
            [
             0.8,
             "#7fbc41"
            ],
            [
             0.9,
             "#4d9221"
            ],
            [
             1,
             "#276419"
            ]
           ],
           "sequential": [
            [
             0,
             "#0d0887"
            ],
            [
             0.1111111111111111,
             "#46039f"
            ],
            [
             0.2222222222222222,
             "#7201a8"
            ],
            [
             0.3333333333333333,
             "#9c179e"
            ],
            [
             0.4444444444444444,
             "#bd3786"
            ],
            [
             0.5555555555555556,
             "#d8576b"
            ],
            [
             0.6666666666666666,
             "#ed7953"
            ],
            [
             0.7777777777777778,
             "#fb9f3a"
            ],
            [
             0.8888888888888888,
             "#fdca26"
            ],
            [
             1,
             "#f0f921"
            ]
           ],
           "sequentialminus": [
            [
             0,
             "#0d0887"
            ],
            [
             0.1111111111111111,
             "#46039f"
            ],
            [
             0.2222222222222222,
             "#7201a8"
            ],
            [
             0.3333333333333333,
             "#9c179e"
            ],
            [
             0.4444444444444444,
             "#bd3786"
            ],
            [
             0.5555555555555556,
             "#d8576b"
            ],
            [
             0.6666666666666666,
             "#ed7953"
            ],
            [
             0.7777777777777778,
             "#fb9f3a"
            ],
            [
             0.8888888888888888,
             "#fdca26"
            ],
            [
             1,
             "#f0f921"
            ]
           ]
          },
          "colorway": [
           "#636efa",
           "#EF553B",
           "#00cc96",
           "#ab63fa",
           "#FFA15A",
           "#19d3f3",
           "#FF6692",
           "#B6E880",
           "#FF97FF",
           "#FECB52"
          ],
          "font": {
           "color": "#2a3f5f"
          },
          "geo": {
           "bgcolor": "white",
           "lakecolor": "white",
           "landcolor": "#E5ECF6",
           "showlakes": true,
           "showland": true,
           "subunitcolor": "white"
          },
          "hoverlabel": {
           "align": "left"
          },
          "hovermode": "closest",
          "mapbox": {
           "style": "light"
          },
          "paper_bgcolor": "white",
          "plot_bgcolor": "#E5ECF6",
          "polar": {
           "angularaxis": {
            "gridcolor": "white",
            "linecolor": "white",
            "ticks": ""
           },
           "bgcolor": "#E5ECF6",
           "radialaxis": {
            "gridcolor": "white",
            "linecolor": "white",
            "ticks": ""
           }
          },
          "scene": {
           "xaxis": {
            "backgroundcolor": "#E5ECF6",
            "gridcolor": "white",
            "gridwidth": 2,
            "linecolor": "white",
            "showbackground": true,
            "ticks": "",
            "zerolinecolor": "white"
           },
           "yaxis": {
            "backgroundcolor": "#E5ECF6",
            "gridcolor": "white",
            "gridwidth": 2,
            "linecolor": "white",
            "showbackground": true,
            "ticks": "",
            "zerolinecolor": "white"
           },
           "zaxis": {
            "backgroundcolor": "#E5ECF6",
            "gridcolor": "white",
            "gridwidth": 2,
            "linecolor": "white",
            "showbackground": true,
            "ticks": "",
            "zerolinecolor": "white"
           }
          },
          "shapedefaults": {
           "line": {
            "color": "#2a3f5f"
           }
          },
          "ternary": {
           "aaxis": {
            "gridcolor": "white",
            "linecolor": "white",
            "ticks": ""
           },
           "baxis": {
            "gridcolor": "white",
            "linecolor": "white",
            "ticks": ""
           },
           "bgcolor": "#E5ECF6",
           "caxis": {
            "gridcolor": "white",
            "linecolor": "white",
            "ticks": ""
           }
          },
          "title": {
           "x": 0.05
          },
          "xaxis": {
           "automargin": true,
           "gridcolor": "white",
           "linecolor": "white",
           "ticks": "",
           "title": {
            "standoff": 15
           },
           "zerolinecolor": "white",
           "zerolinewidth": 2
          },
          "yaxis": {
           "automargin": true,
           "gridcolor": "white",
           "linecolor": "white",
           "ticks": "",
           "title": {
            "standoff": 15
           },
           "zerolinecolor": "white",
           "zerolinewidth": 2
          }
         }
        },
        "title": {
         "text": "The latent feature of each product"
        },
        "xaxis": {
         "anchor": "y",
         "autorange": true,
         "domain": [
          0,
          1
         ],
         "range": [
          -0.03223855527979643,
          -0.03096448135571357
         ],
         "title": {
          "text": "dim1"
         },
         "type": "linear"
        },
        "yaxis": {
         "anchor": "x",
         "autorange": true,
         "domain": [
          0,
          1
         ],
         "range": [
          -0.2100595022783639,
          0.8280115312667351
         ],
         "title": {
          "text": "dim2"
         },
         "type": "linear"
        }
       }
      },
      "image/png": "[encoded data removed]",
      "text/html": [
       "<div>                            <div id=\"f463d61c-d23b-4876-a2a2-3d0b548ab481\" class=\"plotly-graph-div\" style=\"height:525px; width:100%;\"></div>            <script type=\"text/javascript\">                require([\"plotly\"], function(Plotly) {                    window.PLOTLYENV=window.PLOTLYENV || {};                                    if (document.getElementById(\"f463d61c-d23b-4876-a2a2-3d0b548ab481\")) {                    Plotly.newPlot(                        \"f463d61c-d23b-4876-a2a2-3d0b548ab481\",                        [{\"customdata\":[[\"B00004SB92\"],[\"B00004T8R2\"],[\"B00004WCIC\"],[\"B00004ZCJE\"],[\"B00005LEN4\"],[\"B00005T3G0\"],[\"B000067RT6\"],[\"B00006B7DA\"],[\"B00006I53S\"],[\"B00006JN3G\"],[\"B00006RVPW\"],[\"B00007E7JU\"],[\"B00007EDZG\"],[\"B00007GQLU\"],[\"B00007IFED\"],[\"B00007KDVI\"],[\"B00007M1TZ\"],[\"B000089GN3\"],[\"B00009R6TA\"],[\"B00009XVCZ\"],[\"B0000BVYTV\"],[\"B0000BZL1P\"],[\"B00017LSPI\"],[\"B0001FTVEK\"],[\"B0001Y7UAI\"],[\"B000204SWE\"],[\"B00020S7XK\"],[\"B000233WJ6\"],[\"B00029U1DK\"],[\"B0002CPBWI\"],[\"B0002L5R78\"],[\"B0002LEMWE\"],[\"B0002MQGOK\"],[\"B0002SQ2P2\"],[\"B000652M6Y\"],[\"B00066IJPQ\"],[\"B00077AA5Q\"],[\"B0007DDK7A\"],[\"B0007LJHVA\"],[\"B0007MXZB2\"],[\"B0007QKMQY\"],[\"B0007Y794O\"],[\"B00081A2KY\"],[\"B00093IIRA\"],[\"B0009Y7APU\"],[\"B000A6PPOK\"],[\"B000AP05BO\"],[\"B000AZ57M6\"],[\"B000BKJZ9Q\"],[\"B000BN94F8\"],[\"B000BQ7GW8\"],[\"B000BTL0OA\"],[\"B000BY52NK\"],[\"B000CKVOOY\"],[\"B000CRFOMK\"],[\"B000E0I9K4\"],[\"B000E6G9RI\"],[\"B000EVSLRO\"],[\"B000EW8074\"],[\"B000EY5F5C\"],[\"B000F34FVM\"],[\"B000F7QRTG\"],[\"B000F9YN22\"],[\"B000FBK3QK\"],[\"B000FITKK8\"],[\"B000HDJT4S\"],[\"B000HJPK2C\"],[\"B000HPV3RW\"],[\"B000HZDF8W\"],[\"B000I1X3W8\"],[\"B000I68BD4\"],[\"B000IF4788\"],[\"B000IF51UQ\"],[\"B000JE7GPY\"],[\"B000JMJWV2\"],[\"B000KI81XK\"],[\"B000KO0GY6\"],[\"B000L47AHG\"],[\"B000LRMS66\"],[\"B000M17AVO\"],[\"B000M2GYF6\"],[\"B000M2TAN4\"],[\"B000MX48VM\"],[\"B000N99BBC\"],[\"B000NP3DJW\"],[\"B000O8I474\"],[\"B000O8WE66\"],[\"B000OGX5AM\"],[\"B000Q82PIQ\"],[\"B000Q8UAWY\"],[\"B000QUUFRW\"],[\"B000QWEN5K\"],[\"B000R9AAJA\"],[\"B000RHZJN4\"],[\"B000RZQZM0\"],[\"B000S5Q9CA\"],[\"B000SMVQK8\"],[\"B000SY1PQ6\"],[\"B000TG4BA0\"],[\"B000TKHBDK\"],[\"B000TXEE14\"],[\"B000TXZIDM\"],[\"B000U5TUWE\"],[\"B000UY1MB2\"],[\"B000V07N9U\"],[\"B000V1MLBE\"],[\"B000V5P90K\"],[\"B000VE2RP6\"],[\"B000VX6XL6\"],[\"B000VY2BC0\"],[\"B000W6POQW\"],[\"B000WYVBR0\"],[\"B000X24ISU\"],[\"B000YQ6DIS\"],[\"B000Z80ICM\"],[\"B00109Y2DQ\"],[\"B0010WG2H2\"],[\"B0010Z28XG\"],[\"B00119T6NQ\"],[\"B0011NVMO8\"],[\"B0011U65F2\"],[\"B0011Z44UA\"],[\"B0011ZK6PC\"],[\"B00127VF68\"],[\"B0012GK3MQ\"],[\"B0012MMW7E\"],[\"B0012S4APK\"],[\"B0012Y2LLE\"],[\"B0012Y6HC8\"],[\"B001342KM8\"],[\"B0013AV4M4\"],[\"B0013DXVYK\"],[\"B0013FRNKG\"],[\"B0013FW8XS\"],[\"B0013IWYHU\"],[\"B0014J07R2\"],[\"B0014KOB6Y\"],[\"B0015AARJI\"],[\"B0015BUJ0Y\"],[\"B0015DYMVO\"],[\"B00168BSEW\"],[\"B0016BVKAQ\"],[\"B0016O8HP4\"],[\"B0017JY5FE\"],[\"B0017TFVUW\"],[\"B00182CIB8\"],[\"B0018O9JIG\"],[\"B00192KCAG\"],[\"B0019EHU8G\"],[\"B001AYW91I\"],[\"B001AZP8EW\"],[\"B001B8EOMU\"],[\"B001BM5XB2\"],[\"B001C271MA\"],[\"B001CCAISE\"],[\"B001CHHVCU\"],[\"B001CIREXA\"],[\"B001D60LG8\"],[\"B001D7REIK\"],[\"B001D9IWIY\"],[\"B001DJ64C0\"],[\"B001DJ64D4\"],[\"B001DJ7Y2O\"],[\"B001DJ9GOS\"],[\"B001DULYZG\"],[\"B001E1Y5O6\"],[\"B001ENW61I\"],[\"B001EYV9TM\"],[\"B001F42MKG\"],[\"B001F51G0W\"],[\"B001F51G16\"],[\"B001F7AHOG\"],[\"B001F7AJKI\"],[\"B001F7HLRC\"],[\"B001FA1NK0\"],[\"B001FA1O0O\"],[\"B001FA1O18\"],[\"B001FWBUUG\"],[\"B001G1ZPV6\"],[\"B001G5ZTLS\"],[\"B001GS8FZ2\"],[\"B001GUPEMW\"],[\"B001HMVAWC\"],[\"B001HSOFI2\"],[\"B001IEZX3G\"],[\"B001IOY4Z4\"],[\"B001IZYV3S\"],[\"B001KELVS0\"],[\"B001L2MJO6\"],[\"B001L6LG5K\"],[\"B001LK8P14\"],[\"B001M5U5AC\"],[\"B001MSU1FS\"],[\"B001NJ0D0Y\"],[\"B001NJ0WCS\"],[\"B001NS0OZ4\"],[\"B001O4EPHA\"],[\"B001OC6DCW\"],[\"B001OOZ1X2\"],[\"B001P05NBA\"],[\"B001PIBE8I\"],[\"B001PUQ7PG\"],[\"B001QUA6R0\"],[\"B001QUA6RA\"],[\"B001S0PWWC\"],[\"B001S4OTS6\"],[\"B001SJVU24\"],[\"B001T9NUJE\"],[\"B001TANZ0W\"],[\"B001TH7GSW\"],[\"B001TH7GT6\"],[\"B001TH7GUK\"],[\"B001TH7GUU\"],[\"B001TH7GVE\"],[\"B001TH7T2U\"],[\"B001TK3ACA\"],[\"B001TOD7ME\"],[\"B001TODUXA\"],[\"B001TUYTZM\"],[\"B001TZUS98\"],[\"B001TZWNF0\"],[\"B001U0O5QO\"],[\"B001U5YZ4G\"],[\"B001UE8IMC\"],[\"B001UFYFYG\"],[\"B001UI2FPE\"],[\"B001V9KG0I\"],[\"B001V9LPT4\"],[\"B001VEIYAC\"],[\"B001VFUN82\"],[\"B001XURP7W\"],[\"B00212NO6W\"],[\"B0021L9C0A\"],[\"B0021Y73W6\"],[\"B0023B14TK\"],[\"B0025VKUPW\"],[\"B0025VKUQ6\"],[\"B0025VKUQQ\"],[\"B0025ZH43O\"],[\"B00267S7XW\"],[\"B0026ZPFCK\"],[\"B00275XTSQ\"],[\"B0027VT6V4\"],[\"B0028Y4CWI\"],[\"B002BA596W\"],[\"B002BH3I9U\"],[\"B002BH3Z8E\"],[\"B002C7481G\"],[\"B002DPTQ8W\"],[\"B002FB7IX4\"],[\"B002FL507A\"],[\"B002FYL7PG\"],[\"B002G1YPH0\"],[\"B002HWRJBM\"],[\"B002HWRJY4\"],[\"B002IC0YL8\"],[\"B002IC0YLS\"],[\"B002IO2UM2\"],[\"B002J9HBIO\"],[\"B002JCSCYS\"],[\"B002JM1V6O\"],[\"B002JM1XWQ\"],[\"B002JMYCTC\"],[\"B002JPITXY\"],[\"B002JQNXZC\"],[\"B002K9IHGI\"],[\"B002KC55OM\"],[\"B002KETE24\"],[\"B002KKFP9Y\"],[\"B002LARRDK\"],[\"B002LAS1DU\"],[\"B002LLJJAS\"],[\"B002M78L6E\"],[\"B002MAPRYU\"],[\"B002MCZJ78\"],[\"B002MMY4WY\"],[\"B002NEG0VO\"],[\"B002NEGTTW\"],[\"B002NO7PWC\"],[\"B002O3W2OI\"],[\"B002OEBIM4\"],[\"B002QEBMAK\"],[\"B002QQ7TLY\"],[\"B002R5AM7C\"],[\"B002RCNX8K\"],[\"B002RL875A\"],[\"B002RM08RE\"],[\"B002SEUX7Q\"],[\"B002SGATH8\"],[\"B002SIMPXM\"],[\"B002SQK2F2\"],[\"B002SZEOLG\"],[\"B002TLSOFQ\"],[\"B002TLTE6O\"],[\"B002TLTE6Y\"],[\"B002TLTE7I\"],[\"B002TLTGM6\"],[\"B002TMRZOQ\"],[\"B002UT42UI\"],[\"B002V88HFE\"],[\"B002V8C3W2\"],[\"B002VPDM2A\"],[\"B002VPE1Q6\"],[\"B002VPE1QG\"],[\"B002VPE1WK\"],[\"B002VPE1X4\"],[\"B002VPE1XY\"],[\"B002VPE1YS\"],[\"B002VPE1Z2\"],[\"B002WE0QN8\"],[\"B002WE4HE2\"],[\"B002WE6D44\"],[\"B002Y6CJJ8\"],[\"B002YU83YO\"],[\"B002ZCXJZE\"],[\"B002ZIMEMW\"],[\"B00310PJM0\"],[\"B00316263Y\"],[\"B0034CL2ZI\"],[\"B0034XRDUA\"],[\"B0035FZJHQ\"],[\"B0035JJJPU\"],[\"B0035JJJQE\"],[\"B0035JJJQY\"],[\"B0036AWR8E\"],[\"B0036Q7MV0\"],[\"B0038W0K2K\"],[\"B0039BPG1A\"],[\"B0039NLS3I\"],[\"B003B4CU3M\"],[\"B003BLQHN4\"],[\"B003CFATT2\"],[\"B003CJTQJC\"],[\"B003DZ165W\"],[\"B003ELOSIW\"],[\"B003ELYQGG\"],[\"B003EO1H7E\"],[\"B003ES5ZR8\"],[\"B003ES5ZSW\"],[\"B003ES5ZUU\"],[\"B003ES61EE\"],[\"B003FG7IG0\"],[\"B003FMVCRU\"],[\"B003FSTAFK\"],[\"B003FVJYF8\"],[\"B003FVVMS0\"],[\"B003G2Z1M6\"],[\"B003HFCDLY\"],[\"B003I4FHNA\"],[\"B003L1ZYZ6\"],[\"B003LR7ME6\"],[\"B003LSTD38\"],[\"B003M0NURK\"],[\"B003M8HWDA\"],[\"B003MAJMXQ\"],[\"B003N2POXK\"],[\"B003NR57BY\"],[\"B003NSBF32\"],[\"B003RRYAXQ\"],[\"B003SGCO3E\"],[\"B003STVG80\"],[\"B003UE52ME\"],[\"B003UT6C9G\"],[\"B003VAGXWK\"],[\"B003VAGXZC\"],[\"B003VAHYNC\"],[\"B003VAK16O\"],[\"B003VAK1I2\"],[\"B003VAM32E\"],[\"B003VANO7C\"],[\"B003VANOI6\"],[\"B003WQ8EX4\"],[\"B003WUBIZQ\"],[\"B003X26LXW\"],[\"B003X26LYG\"],[\"B003X7TRWE\"],[\"B003XE3X8Q\"],[\"B003XFWSU4\"],[\"B003XIJ3MW\"],[\"B003XM1WE0\"],[\"B003XN24GY\"],[\"B003XU6H8I\"],[\"B003Y74AXO\"],[\"B003YH9EZ8\"],[\"B003YKG2UK\"],[\"B003YKG2W8\"],[\"B003YKG2XM\"],[\"B003Z4G3I6\"],[\"B003ZBZ64Q\"],[\"B003ZHV978\"],[\"B003ZSHNGS\"],[\"B0040702HA\"],[\"B0040JHVC2\"],[\"B0040QE98O\"],[\"B0041L3JS4\"],[\"B0041MY32Y\"],[\"B0041OSQ9I\"],[\"B0041OSQB6\"],[\"B0041Q38NU\"],[\"B00426C56U\"],[\"B00426C57O\"],[\"B00429N18S\"],[\"B0042FZ50O\"],[\"B0043CVH2Q\"],[\"B0043M668G\"],[\"B0043T7FXE\"],[\"B0043WJRRS\"],[\"B0044DEDC0\"],[\"B0044WWLW0\"],[\"B0044YU60M\"],[\"B00452V66G\"],[\"B0045FM6SU\"],[\"B00461E7JE\"],[\"B0046HAO40\"],[\"B0046TJG1U\"],[\"B00483WRZ6\"],[\"B00486MH80\"],[\"B0049P6OTI\"],[\"B0049SKIDI\"],[\"B0049U3TVE\"],[\"B004BLK24S\"],[\"B004C13VWC\"],[\"B004CLYE8C\"],[\"B004CLYEA0\"],[\"B004CLYEDC\"],[\"B004CLYEE6\"],[\"B004CLYEFK\"],[\"B004CLYEH8\"],[\"B004CLYJ1Y\"],[\"B004CZ9U96\"],[\"B004DMNT2W\"],[\"B004E10KFG\"],[\"B004ELA0SS\"],[\"B004G6002M\"],[\"B004G8QO8E\"],[\"B004GCJEZU\"],[\"B004GF8TIK\"],[\"B004GK0GKO\"],[\"B004GUT1QO\"],[\"B004HHICKC\"],[\"B004HKJTT2\"],[\"B004I43F9C\"],[\"B004I5BUSO\"],[\"B004I5FL1G\"],[\"B004IZN3WU\"],[\"B004J3V90Y\"],[\"B004J4VYEY\"],[\"B004J4VYG2\"],[\"B004JWA70I\"],[\"B004K1EZDS\"],[\"B004LSNF04\"],[\"B004MF11MU\"],[\"B004MSQZUU\"],[\"B004N6259G\"],[\"B004N625B4\"],[\"B004N625C8\"],[\"B004N62HZI\"],[\"B004N62I0C\"],[\"B004NY9UV4\"],[\"B004P8K24W\"],[\"B004Q0PT3I\"],[\"B004Q3R9AQ\"],[\"B004Q3R9B0\"],[\"B004QK7HI8\"],[\"B004QK8FBG\"],[\"B004R7P28W\"],[\"B004RORMF6\"],[\"B004S4R5CK\"],[\"B004SBBD1C\"],[\"B004SBBD8U\"],[\"B004SBI2MU\"],[\"B004SGJCCO\"],[\"B004T9RR6I\"],[\"B004TJ6JH6\"],[\"B004TKTOWC\"],[\"B004TPJKEY\"],[\"B004V4IWHY\"],[\"B004VM0SE6\"],[\"B004W2JKWG\"],[\"B004WIUDGM\"],[\"B004WK3U9W\"],[\"B004XC6GJ0\"],[\"B004XNLR16\"],[\"B004XZHY34\"],[\"B004YHXXKO\"],[\"B004YLAYHA\"],[\"B004ZF0PXI\"],[\"B004ZMV2GA\"],[\"B0050A1O5U\"],[\"B0050A1O64\"],[\"B00511PS3C\"],[\"B005276QS6\"],[\"B0052SCU8U\"],[\"B0053NBLFW\"],[\"B0053R0WWG\"],[\"B0054JJ0QW\"],[\"B0054YF0C0\"],[\"B0056C7SWK\"],[\"B0056TYRMW\"],[\"B0057UUB1G\"],[\"B0058UUR6E\"],[\"B005A0B7CA\"],[\"B005ARQV6U\"],[\"B005CG2ATQ\"],[\"B005CLPP84\"],[\"B005CLPP8E\"],[\"B005CT56F8\"],[\"B005D5M136\"],[\"B005DEW4BQ\"],[\"B005DIQ2OC\"],[\"B005DKZP6G\"],[\"B005DKZTMG\"],[\"B005DOK8NW\"],[\"B005DOUJL8\"],[\"B005DSPLCQ\"],[\"B005ELBSWO\"],[\"B005EOWBHC\"],[\"B005EOWBKE\"],[\"B005ES0YYA\"],[\"B005EWB37S\"],[\"B005FDXMJS\"],[\"B005FDXZJU\"],[\"B005FVNGRI\"],[\"B005FVNHBI\"],[\"B005FYNSPK\"],[\"B005G81E9M\"],[\"B005GM1Q1O\"],[\"B005GOINEK\"],[\"B005HMKKH4\"],[\"B005HTIWF4\"],[\"B005HY4U46\"],[\"B005HY4U5A\"],[\"B005HY4UJ6\"],[\"B005I6EU48\"],[\"B005I7X3RC\"],[\"B005IA843W\"],[\"B005IA844Q\"],[\"B005IMFX2K\"],[\"B005KAK2FI\"],[\"B005KELR3A\"],[\"B005KFONIU\"],[\"B005KG44V0\"],[\"B005KOZNBW\"],[\"B005KP473Q\"],[\"B005L38VPC\"],[\"B005LDLP8W\"],[\"B005LFT3GG\"],[\"B005NFG1MS\"],[\"B005O88CY4\"],[\"B005PUZOYM\"],[\"B005QCDY50\"],[\"B005QUQP6W\"],[\"B005QX7KYU\"],[\"B005VAORH6\"],[\"B005VTIMEQ\"],[\"B005X9XVNQ\"],[\"B005YR1PV2\"],[\"B00622AG6S\"],[\"B0062EUE54\"],[\"B00634PLTW\"],[\"B0063705PE\"],[\"B0064XAIZY\"],[\"B00691WMJG\"],[\"B006C248BC\"],[\"B006CFU61U\"],[\"B006DEBYWU\"],[\"B006EKIQYM\"],[\"B006FLENJC\"],[\"B006GWO5WK\"],[\"B006I5MKZY\"],[\"B006JH8T3S\"],[\"B006JINHYS\"],[\"B006K550J0\"],[\"B006LW0W5Y\"],[\"B006MBP7T0\"],[\"B006OZEIKS\"],[\"B006QB1RPY\"],[\"B006RG0QC8\"],[\"B006TF3746\"],[\"B006TF37H8\"],[\"B006TT91TW\"],[\"B006U3O566\"],[\"B006W8U2MU\"],[\"B006WHPQE0\"],[\"B006WVR9GY\"],[\"B006YTZUA6\"],[\"B006ZBWV0K\"],[\"B006ZP8UOW\"],[\"B006ZT4VA0\"],[\"B0071BTJPI\"],[\"B0073FE1F0\"],[\"B00746LVOM\"],[\"B00746W3HG\"],[\"B0074BW614\"],[\"B0074FGLUM\"],[\"B0076MBOC8\"],[\"B0076POAI0\"],[\"B0079R8KO0\"],[\"B0079TOEQQ\"],[\"B0079TOI8K\"],[\"B0079UAT0A\"],[\"B007AHJNF4\"],[\"B007B6YPAW\"],[\"B007BJHETS\"],[\"B007BXD66E\"],[\"B007BY0MIS\"],[\"B007F5LYVM\"],[\"B007FPIP2I\"],[\"B007FPIQ0E\"],[\"B007G5NNOW\"],[\"B007GR44PM\"],[\"B007I5JT4S\"],[\"B007KZQM8W\"],[\"B007KZQM9G\"],[\"B007KZQMO6\"],[\"B007OY5V68\"],[\"B007P4VOWC\"],[\"B007PJ4P4G\"],[\"B007PJ4PKK\"],[\"B007PJ4Q4A\"],[\"B007PRHNHO\"],[\"B007PTCFFW\"],[\"B007Q8GOGI\"],[\"B007Q8GOHM\"],[\"B007R5YDYA\"],[\"B007RFW1NA\"],[\"B007RNCLBY\"],[\"B007SHJIO2\"],[\"B007VL8Y5E\"],[\"B007W7PIZ6\"],[\"B007W7PK04\"],[\"B007WTAJTO\"],[\"B007X3VC7W\"],[\"B007XOQUY6\"],[\"B007YXA5TC\"],[\"B007ZZ6OW6\"],[\"B0081FLFQE\"],[\"B0081H8TRA\"],[\"B00822GIH2\"],[\"B00825BZUY\"],[\"B00829THEG\"],[\"B00829THK0\"],[\"B00829THO6\"],[\"B00829THVO\"],[\"B00829TIA4\"],[\"B00829TIEK\"],[\"B0082E9K7U\"],[\"B00832NCWU\"],[\"B00834SJNA\"],[\"B00834SJSK\"],[\"B0085YTDM4\"],[\"B00871SR68\"],[\"B00884WH74\"],[\"B0088CJT4U\"],[\"B0088PPFP4\"],[\"B0088PUEPK\"],[\"B00894YP00\"],[\"B0089E5R0W\"],[\"B008C1JC4O\"],[\"B008DWCRQW\"],[\"B008EQYRRY\"],[\"B008EQZ25K\"],[\"B008F537KC\"],[\"B008H9BXMK\"],[\"B008HU9R7W\"],[\"B008I21EA2\"],[\"B008JJLW4M\"],[\"B008LCYIEI\"],[\"B008LTBITY\"],[\"B008MF3X9K\"],[\"B008MF48J4\"],[\"B008MJ01QE\"],[\"B008MWBY6W\"],[\"B008O2HVIK\"],[\"B008OEHV6U\"],[\"B008OHNZI0\"],[\"B008PQJWBE\"],[\"B008R6OPJQ\"],[\"B008R6WUZC\"],[\"B008R7EVE4\"],[\"B008RJZQSW\"],[\"B008THTWIW\"],[\"B008ULPA2O\"],[\"B008ULPAT2\"],[\"B008ULPBJG\"],[\"B008ULPCB8\"],[\"B008ULPD0S\"],[\"B008ULPE70\"],[\"B008X9Z3UC\"],[\"B008X9Z44M\"],[\"B008X9Z528\"],[\"B008X9Z6EA\"],[\"B008X9Z7N0\"],[\"B008X9Z8NE\"],[\"B008X9Z9ZQ\"],[\"B008X9ZBVI\"],[\"B008Y1KK6Q\"],[\"B008YDUTRO\"],[\"B00902SFC4\"],[\"B0090Z3QG6\"],[\"B0092MD8OW\"],[\"B0092U3TKC\"],[\"B00931DHKM\"],[\"B0093H4VBU\"],[\"B0093H4VSS\"],[\"B0093H4WT6\"],[\"B0093HAWZY\"],[\"B0095P2F1S\"],[\"B0096YORV4\"],[\"B0097BEDOC\"],[\"B0097BEF1S\"],[\"B0097BEFYA\"],[\"B0097CXWUW\"],[\"B0097CZHAU\"],[\"B0099SMFP2\"],[\"B0099SMFVQ\"],[\"B009A68TMQ\"],[\"B009A6CZ30\"],[\"B009AOFKUM\"],[\"B009AR2MQO\"],[\"B009D79VH4\"],[\"B009EIUH6G\"],[\"B009F7IBZK\"],[\"B009HQCAPQ\"],[\"B009HQCARY\"],[\"B009LL9VDG\"],[\"B009M27MB2\"],[\"B009NB8WR0\"],[\"B009NHAEXE\"],[\"B009NHWVIA\"],[\"B009NUK6S4\"],[\"B009NUWRF4\"],[\"B009O7Y9AC\"],[\"B009OZUPUC\"],[\"B009PK2MNY\"],[\"B009PK9S90\"],[\"B009QV72VY\"],[\"B009SPUY5O\"],[\"B009SYZ8OC\"],[\"B009T0NFTA\"],[\"B009T0NLYO\"],[\"B009VV56TY\"],[\"B009WG6LLA\"],[\"B009WZRAQQ\"],[\"B009WZRCO6\"],[\"B009X01C64\"],[\"B009X2OS72\"],[\"B009YQ8BTI\"],[\"B009YT6PPC\"],[\"B00A0JUNWQ\"],[\"B00A0JUNYY\"],[\"B00A1DJO12\"],[\"B00A35WYBA\"],[\"B00A3YDKRI\"],[\"B00A3YDT5Q\"],[\"B00A7FS3AW\"],[\"B00A7PPLP2\"],[\"B00A81ICCE\"],[\"B00ADG5FLK\"],[\"B00AJHDZSI\"],[\"B00ALN54KM\"],[\"B00AQDG96K\"],[\"B00AQRUW4Q\"],[\"B00AQUO5RI\"],[\"B00AR95FOU\"],[\"B00ARB5FLQ\"],[\"B00ATM1MGA\"],[\"B00ATM1MHO\"],[\"B00ATZ9I90\"],[\"B00AW48DS0\"],[\"B00AXVXXNC\"],[\"B00AYQ433U\"],[\"B00AYTW80M\"],[\"B00AZW4MYI\"],[\"B00B3YQGHS\"],[\"B00B46XUQU\"],[\"B00B4OCWE8\"],[\"B00B588HY2\"],[\"B00B7XC6PQ\"],[\"B00B99JU5M\"],[\"B00BD99JSQ\"],[\"B00BE68UZ6\"],[\"B00BEGS4R0\"],[\"B00BEHQKP2\"],[\"B00BEHQKPC\"],[\"B00BERGFV6\"],[\"B00BF9MUAS\"],[\"B00BGA9WK2\"],[\"B00BGGDVOO\"],[\"B00BNI4A90\"],[\"B00BOHNYTW\"],[\"B00BOHNYU6\"],[\"B00BP5KOPA\"],[\"B00BQ4F9ZA\"],[\"B00BQ5RY1G\"],[\"B00BQ5RYI4\"],[\"B00BQHD4B8\"],[\"B00BSEV682\"],[\"B00BUACE8K\"],[\"B00BW6KCTU\"],[\"B00BWF5U0M\"],[\"B00BWHILCY\"],[\"B00BWL33H8\"],[\"B00BZC31WQ\"],[\"B00C8OT7FK\"],[\"B00CB2F65O\"],[\"B00CD1FB26\"],[\"B00CD1PTF0\"],[\"B00CD778LC\"],[\"B00CD8ADKO\"],[\"B00CF7E0R0\"],[\"B00CGY4JBY\"],[\"B00CHH0JF0\"],[\"B00CHR46JA\"],[\"B00CHT6CRC\"],[\"B00CIRLJPI\"],[\"B00CJRZ31S\"],[\"B00CKAOJA0\"],[\"B00CL8F98W\"],[\"B00CM1BN5G\"],[\"B00CMF0SO4\"],[\"B00CMJZAOI\"],[\"B00CMQTVK0\"],[\"B00CO0DE0W\"],[\"B00COF7DGS\"],[\"B00CRY250U\"],[\"B00CWBABP4\"],[\"B00CXADBRY\"],[\"B00CYX54C0\"],[\"B00CZ0T5NG\"],[\"B00CZ6WC3A\"],[\"B00CZDT30S\"],[\"B00D1GYNT4\"],[\"B00D1QC50S\"],[\"B00D3F7D7M\"],[\"B00D429Y12\"],[\"B00D4MFPLA\"],[\"B00D50UNRM\"],[\"B00D5Q75RC\"],[\"B00D65AJ0C\"],[\"B00D68ZVY8\"],[\"B00D6KQ2GC\"],[\"B00D6XW62I\"],[\"B00D78Q2AO\"],[\"B00D8T886S\"],[\"B00D8X9FSY\"],[\"B00DAO7KF6\"],[\"B00DBX371C\"],[\"B00DDK1QUC\"],[\"B00DIFIM36\"],[\"B00DIOALPE\"],[\"B00DJNCS6O\"],[\"B00DK2JQOQ\"],[\"B00DN27H58\"],[\"B00DQZNWNI\"],[\"B00DQZO3JK\"],[\"B00DQZOD8Q\"],[\"B00DQZPCTA\"],[\"B00DQZQHBW\"],[\"B00DQZQPNM\"],[\"B00DQZRQPI\"],[\"B00DR0C96S\"],[\"B00DR0PDNE\"],[\"B00DR6DQZA\"],[\"B00DR8LA60\"],[\"B00DR8LAE2\"],[\"B00DT04I9W\"],[\"B00DTPYQBM\"],[\"B00DTZYHX4\"],[\"B00DUTIZJG\"],[\"B00DVFLJDS\"],[\"B00DW374W4\"],[\"B00E055H5O\"],[\"B00E0EY7Z6\"],[\"B00E0HITQ6\"],[\"B00E362W9O\"],[\"B00E3W15P0\"],[\"B00E5UHRIO\"],[\"B00E6ONJJU\"],[\"B00E87E1OM\"],[\"B00E8CF0CE\"],[\"B00E98O7GC\"],[\"B00EAR8S76\"],[\"B00EAXRVLY\"],[\"B00EDCF0MY\"],[\"B00EFE9OAE\"],[\"B00EH5UGR6\"],[\"B00EI4V3X2\"],[\"B00EIQTKAS\"],[\"B00EL8NJ82\"],[\"B00EMB4LU8\"],[\"B00EMHVVLY\"],[\"B00EMHVVNM\"],[\"B00ENY08VU\"],[\"B00ENZRP38\"],[\"B00ENZRS76\"],[\"B00EO302SO\"],[\"B00EOE4G4E\"],[\"B00EOI2SR2\"],[\"B00EOI2SYK\"],[\"B00EOI2TD0\"],[\"B00EPQ97C2\"],[\"B00EPY0QVU\"],[\"B00EQD5ZS4\"],[\"B00ETH7ERM\"],[\"B00EUFP39E\"],[\"B00EVIBN26\"],[\"B00EVIBN8U\"],[\"B00EVVGAC6\"],[\"B00EVWXAEQ\"],[\"B00EXK14S0\"],[\"B00EXPNFQO\"],[\"B00F0DCH9Y\"],[\"B00F0DD0I6\"],[\"B00F3F0EIU\"],[\"B00F6E8OUS\"],[\"B00F93IOR4\"],[\"B00F9ZQQ8Q\"],[\"B00FA4Y7N2\"],[\"B00FC2R7ZC\"],[\"B00FF8ZRR8\"],[\"B00FFJ0HUE\"],[\"B00FFZD51Q\"],[\"B00FG38L16\"],[\"B00FH66AW4\"],[\"B00FISD9DO\"],[\"B00FJRS5BA\"],[\"B00FJWKYYG\"],[\"B00FLZ2F5W\"],[\"B00FMTIUD8\"],[\"B00FNPD1OY\"],[\"B00FPKDPZC\"],[\"B00FQQ4PNQ\"],[\"B00FR6VL50\"],[\"B00FRMAOIO\"],[\"B00FSA8VQ2\"],[\"B00G024X32\"],[\"B00G2TK76A\"],[\"B00G4FCHH4\"],[\"B00G4FCKB2\"],[\"B00G4UQ6U8\"],[\"B00G4V0QSK\"],[\"B00G5RDU5O\"],[\"B00G6CLN3Y\"],[\"B00G6CLNCK\"],[\"B00GBATPFO\"],[\"B00GC1ZMYA\"],[\"B00GDL2PPI\"],[\"B00GEBTFNM\"],[\"B00GHY5F3K\"],[\"B00GMGDFPI\"],[\"B00GMTN96U\"],[\"B00GN6PPXW\"],[\"B00GO1UV4E\"],[\"B00GO4GMAI\"],[\"B00GRNUO2I\"],[\"B00GTGETFG\"],[\"B00GY0UFFA\"],[\"B00HFAEBWG\"],[\"B00HFFDDLG\"],[\"B00HFRWWAM\"],[\"B00HG1L334\"],[\"B00HGLOQ24\"],[\"B00HHRP11C\"],[\"B00HMREOLK\"],[\"B00HNJWSH4\"],[\"B00HPM1FZ0\"],[\"B00HPM1G8Q\"],[\"B00HR78S2Q\"],[\"B00HR7FWUC\"],[\"B00HRQB28Y\"],[\"B00HSQAIQU\"],[\"B00HVT27B8\"],[\"B00HZWJGS8\"],[\"B00I3YKEKG\"],[\"B00IDYRZ0S\"],[\"B00IL7B2YM\"],[\"B00IMZKDOS\"],[\"B00IORDBPC\"],[\"B00ISFNSBW\"],[\"B00IUF7VKE\"],[\"B00IVFDZBC\"],[\"B00IVPU59W\"],[\"B00IX2VGFA\"],[\"B00IYU7XTE\"],[\"B00IZGWTVO\"],[\"B00J238GV6\"],[\"B00J4O1YBW\"],[\"B00JC5Y6WM\"],[\"B00JC5Y6YA\"],[\"B00JEVHZHC\"],[\"B00JF0D7RE\"],[\"B00JKM0EQE\"],[\"B00JP12170\"],[\"B00JWV1LP6\"],[\"B00K91DB7Y\"],[\"B00KJJW36G\"],[\"B00L21HC7A\"],[\"B00L26YDA4\"],[\"B00L3YHF6O\"]],\"hovertemplate\":\"dim1=%{x}\\u003cbr\\u003edim2=%{y}\\u003cbr\\u003eproductId=%{customdata[0]}\\u003cextra\\u003e\\u003c\\u002fextra\\u003e\",\"legendgroup\":\"\",\"marker\":{\"color\":\"#636efa\",\"symbol\":\"circle\"},\"mode\":\"markers\",\"name\":\"\",\"orientation\":\"v\",\"showlegend\":false,\"x\":[-0.031640209904188796,-0.031626422258100084,-0.03160715941062773,-0.03155888267979154,-0.031705828909854135,-0.0316522115715525,-0.031711581481615216,-0.031638102042810874,-0.031605319448170056,-0.03164409891273791,-0.03168879635358727,-0.031631490884368015,-0.0316447788645033,-0.031666358307038,-0.03165886626951725,-0.031450977837131966,-0.03165859364549054,-0.03166924102220248,-0.03164228545187361,-0.03167722452605832,-0.03162764499544936,-0.031742166665271944,-0.031713541954056276,-0.0315190239698102,-0.031620828212678906,-0.03164851201041832,-0.03164029858511659,-0.031643748726609064,-0.031718608080369366,-0.03161275914450035,-0.03172923480943016,-0.031669489493209926,-0.03161482335443672,-0.031649216349301755,-0.03162571435349319,-0.03153081821831975,-0.03167655998356696,-0.03159766635875823,-0.03163274185312565,-0.03156525267656132,-0.031681704483634464,-0.031622317393358974,-0.03167650846940955,-0.03160945271896488,-0.031662311766275895,-0.03154861196365971,-0.03163433407864802,-0.031703550072425035,-0.03157942754228223,-0.03162568338386471,-0.0317045566037305,-0.03165733904792643,-0.03165768866175249,-0.03170606247066472,-0.03167347133803244,-0.031569186098369686,-0.031639847372357546,-0.03166308283419165,-0.03162471357646852,-0.03155545424053841,-0.031633489340603345,-0.03168606231222874,-0.03166475987526198,-0.031650358287394736,-0.031636316565161145,-0.031644901151576255,-0.031652209056286296,-0.03173152565724494,-0.03154254259354328,-0.03166411930787592,-0.0315322969788293,-0.031582097744250914,-0.03161689164664229,-0.031697580988704045,-0.03176500396154278,-0.03157913826209633,-0.031653666695198174,-0.03165611198470484,-0.03169242795615281,-0.03167921573687205,-0.03165921480023586,-0.0317025713802621,-0.03170153352590254,-0.03212996690977784,-0.03168672493854659,-0.031641143943611935,-0.0316681560430776,-0.031690673591442994,-0.03164875641645304,-0.03162289376673998,-0.03179896114080256,-0.031657877383081456,-0.031600082591278715,-0.03164175690552956,-0.03169795943281279,-0.03172193348956569,-0.03161729906562944,-0.03153642067512017,-0.03159587539607773,-0.03170465610680944,-0.0316357036559207,-0.03159936433234179,-0.0316227353602797,-0.031635933431482036,-0.031625255732914595,-0.03155009438391941,-0.03166805277720305,-0.03165062797229609,-0.0317478869060868,-0.03158288336495123,-0.03146458303834323,-0.03162867033505001,-0.03161562177769714,-0.031559540475483996,-0.031593190957873774,-0.03165658905498465,-0.031621529493352736,-0.03167094598269716,-0.031705224574753936,-0.03164555716690374,-0.03167348391930144,-0.0316217235148854,-0.03164524203347984,-0.031577985732599796,-0.031651832351069935,-0.031599995064082335,-0.0316148934025259,-0.03167942318050449,-0.03167369383716881,-0.03167998090785982,-0.03163819799723837,-0.031642894124156426,-0.03166187144506927,-0.0316108982827077,-0.03161084931278951,-0.03156214211079903,-0.031587682913211394,-0.03166542839076314,-0.03158857430168909,-0.031574490732167254,-0.03162195211021726,-0.03165482562251581,-0.03151365486610234,-0.03162890904033658,-0.031553988642785066,-0.03159844106178253,-0.03163071810242911,-0.031588677075068024,-0.03181994946899767,-0.03155200689695946,-0.03157056244725063,-0.03159978535923839,-0.031675576130297534,-0.03166079882168157,-0.031633119016120564,-0.03132736662400954,-0.0316828101270471,-0.03156346758064216,-0.03164128369862479,-0.03159341677202066,-0.03164373447021389,-0.031710830121278455,-0.03161877265025123,-0.03164712660836672,-0.031552409746108616,-0.03171831522710701,-0.03164579116754859,-0.03165114862230785,-0.0315590175143904,-0.03158013003662178,-0.03165912363828304,-0.03169013832938439,-0.03162768359046297,-0.03160770151346389,-0.03161092953432013,-0.03163322963749104,-0.03162215212488376,-0.03166273906631733,-0.03155429238810647,-0.03162299395626312,-0.03156665855217803,-0.03159858512277619,-0.03154495272055992,-0.031649543647644315,-0.03167412262664263,-0.03159788615439927,-0.03150711063447144,-0.03163648931098646,-0.03162312585224214,-0.03154631818479864,-0.03158385783039666,-0.03158615949901025,-0.031698711105752224,-0.0316329357759338,-0.031636333308194875,-0.031640981260970445,-0.03164531481385641,-0.03170706711431445,-0.031699105664061596,-0.03166801509180444,-0.031667891464283546,-0.031607802192672264,-0.031641205361143176,-0.03170346824694632,-0.03165654766017997,-0.03166127382404436,-0.03163695966031016,-0.031691566008914054,-0.031677940398337594,-0.03176387860108975,-0.031657283113635894,-0.03165398284064197,-0.0318563462515377,-0.031678563730591726,-0.031727329889444836,-0.03161702114410046,-0.03170004245674683,-0.031568577639653796,-0.03169781318203191,-0.03161670437922454,-0.03166745482194569,-0.03159811643423274,-0.03159349021460438,-0.03163756347456634,-0.03158598911921264,-0.031727556773825216,-0.03166849193315746,-0.031593404054689404,-0.03157548296521183,-0.03158178670469963,-0.03163719792679636,-0.03164709503945741,-0.031567320671044015,-0.03161005584433483,-0.031615411021351715,-0.03163603040015094,-0.03156588879910293,-0.031673243246374994,-0.03162729127579768,-0.031653970812147915,-0.031571099785344496,-0.03160313465048079,-0.03157059421886961,-0.031494994559098495,-0.0316377620422778,-0.03156995130083385,-0.031653720377389304,-0.03162451883070545,-0.03150962812066426,-0.031633554153039554,-0.03158869113352162,-0.031610440064438,-0.03164531747947157,-0.03162296490956303,-0.031662643974341285,-0.031634728792646165,-0.03158094091835895,-0.0316488879644811,-0.03165799502888519,-0.031576786708048005,-0.031609528680831986,-0.031580369513765895,-0.03156694634148946,-0.0316169022148981,-0.03170720251945468,-0.03173177131519893,-0.03154136744038102,-0.03164099293667371,-0.03152671874499061,-0.031605024975148215,-0.03159877700407107,-0.031610078431450604,-0.03150119327980054,-0.0315803273851374,-0.0316751626355624,-0.031616899215503085,-0.03153966398306111,-0.031676911379431585,-0.031680939633689655,-0.03149271984394554,-0.03159497556989857,-0.03164686316611451,-0.03163069470074799,-0.03156289264514307,-0.031651304799475324,-0.031630614466900214,-0.03164457271775945,-0.03152041886851333,-0.031562554516000846,-0.031642280664927774,-0.031037199725908862,-0.03165893973909252,-0.031614970977074476,-0.03167660545591119,-0.0316999255905743,-0.03166039692021473,-0.03160594197335364,-0.031687466164956615,-0.03151412337929105,-0.03184815737519701,-0.03173686915004518,-0.03163138902953692,-0.031644799119453476,-0.031636063625655825,-0.03162401836739669,-0.0316725009756298,-0.03160166382017823,-0.031629930178341946,-0.03160023021548151,-0.031693989995906766,-0.03174449923820118,-0.031818205423636385,-0.031720948370651154,-0.03167991524708747,-0.031639740393533254,-0.03165668686645258,-0.03166051627425626,-0.0316873282545014,-0.03181919941067135,-0.031569419256348145,-0.031672272023296956,-0.0314645528674576,-0.03150465220553433,-0.031474434315829275,-0.031647127954566215,-0.03172049009114002,-0.03158449665137249,-0.031663025757911085,-0.031609430094822644,-0.03154086303220794,-0.0316518222283272,-0.03175528455517419,-0.03167782878229729,-0.031611099316851396,-0.03161521472520048,-0.03154946776477435,-0.031581719809324164,-0.03169087970054639,-0.031649823035542035,-0.032165836909601134,-0.03158780219817476,-0.03164978186948098,-0.03154352636207482,-0.03159097428416987,-0.031684813961313375,-0.03165096081579868,-0.03151847006461921,-0.03167889908595999,-0.03164503218869,-0.031700024029834926,-0.03165753440855363,-0.03173020020719138,-0.03168210111242176,-0.031605094758977006,-0.03160184399035266,-0.031643477959721916,-0.031691403828844306,-0.03154597783973898,-0.03160832343928489,-0.03166359380907901,-0.03148666295296352,-0.0315743495553267,-0.03153049815583292,-0.03159319358830276,-0.031613294477040796,-0.03168406267127431,-0.031627709483052616,-0.031610133736671125,-0.0316239737151548,-0.031672198471027084,-0.031637727025126544,-0.03155203041783694,-0.031647895785467305,-0.031572731272986695,-0.03161863769559661,-0.031661932700922886,-0.03162465716936103,-0.03159526304678334,-0.031621195161443925,-0.031657587221454335,-0.03161374837848763,-0.03159271609109229,-0.03149991816307501,-0.031591774306462185,-0.03161577616681158,-0.03161039525914596,-0.031629065954541236,-0.031643695550158,-0.03162958706954392,-0.03164040000998925,-0.031669409659053176,-0.031634694783060496,-0.031659121171442525,-0.03148958836530641,-0.031605505926650096,-0.03162268896224564,-0.03162988975443175,-0.03158915283457711,-0.03169265405417717,-0.03162290828134072,-0.03159449492771575,-0.031687282815114196,-0.031629773158709136,-0.03156564885590417,-0.03169857513019105,-0.03156488333730565,-0.03167602053195691,-0.03162118692317231,-0.031591927410742474,-0.03159976114689982,-0.0316301317324262,-0.03156337559892734,-0.031654269919404905,-0.03162445356832922,-0.03166915533874824,-0.0316569701467435,-0.031611649680260374,-0.031629338127123596,-0.03157574348639317,-0.03153810834938508,-0.03163339218577949,-0.031641888613315045,-0.03166503573738167,-0.03162507090055043,-0.031859055107587665,-0.031599567250505355,-0.03183330415023504,-0.03171763899581322,-0.03161761301075763,-0.03148716177844718,-0.031629867387576935,-0.03157902603056006,-0.03171705999091203,-0.031653918296287886,-0.03160815388064086,-0.03155021834043363,-0.03170129188801371,-0.03152520332692518,-0.03166739839995057,-0.031634713764795194,-0.03164234952513803,-0.0316210922483084,-0.03161417602847652,-0.031648453990812425,-0.03160686910621008,-0.03159638074571673,-0.031482067948360185,-0.03151105136339651,-0.03161012322035742,-0.031579618659155796,-0.03163809496430778,-0.031652372123538566,-0.0315742803644374,-0.03151285647173278,-0.03163642404138298,-0.03161629649880417,-0.031581796535103235,-0.031596168272301405,-0.03166573274600755,-0.03153181102863136,-0.03164927353379289,-0.03170482811436986,-0.03167941293434371,-0.03161038403300027,-0.03138391669308648,-0.031631846072277224,-0.03171164011922336,-0.03166988184880575,-0.0316185719828542,-0.0316816280655058,-0.031619323019254304,-0.031636446435146744,-0.03145271401689781,-0.0316281948112757,-0.03153071332962482,-0.03156236980190019,-0.031655518143814544,-0.03162081669664897,-0.03166351639521099,-0.031541291230016436,-0.03162837199539423,-0.03168481233846289,-0.03163417586266037,-0.03163888610850362,-0.031624376338908175,-0.03163955915063121,-0.031489181787045926,-0.03159842706697916,-0.0316063324685757,-0.03161084198683716,-0.0316462282714949,-0.03162298670093813,-0.03179579313442105,-0.03157732610916599,-0.0316464141174752,-0.03165835726640849,-0.03140781781368989,-0.031528754410026526,-0.03167498095922149,-0.03165459208881712,-0.03164994106180826,-0.03161665348848496,-0.031611264480793426,-0.03159943172071325,-0.03157280494349706,-0.0316464563111887,-0.03163702017129221,-0.03164230485619792,-0.0315271597606671,-0.03167631484302565,-0.031579119386660935,-0.031614550067310225,-0.031628937884265074,-0.03163358617582359,-0.03169185615095986,-0.03165487471908209,-0.03161635864724989,-0.031662896435080475,-0.03170706853891074,-0.031594610310440224,-0.03154611303434136,-0.03166974831275122,-0.03161902294653418,-0.031542585481545406,-0.03172645142460326,-0.03158075395009866,-0.031368572948176084,-0.03162208710210347,-0.031639779965592536,-0.031516712985060764,-0.031659285969179524,-0.031627886148536434,-0.03160010149361147,-0.031646569921435504,-0.0315998796823995,-0.03163193100401324,-0.031580038495196826,-0.031688874121563515,-0.03167643031073006,-0.03160977344628215,-0.03167142833006524,-0.03159105022751312,-0.03157229463475472,-0.03163073186584084,-0.031640603307397874,-0.03167104626708805,-0.031648033087042435,-0.0316080545897171,-0.03160170051098664,-0.03164292093999102,-0.03150733400199891,-0.031437348631864204,-0.03155806265084339,-0.031624258464228096,-0.0315459430195406,-0.03155656523727509,-0.03154428847067446,-0.031644882921038675,-0.03165404074133075,-0.03164890951714781,-0.03155590676711943,-0.031611034398998275,-0.031605131486632944,-0.0316376262998926,-0.03160792639565937,-0.03162037516510642,-0.031729963229185115,-0.0316588425572503,-0.03159373868258931,-0.03132107070257537,-0.03166821568793442,-0.031656055952048526,-0.03159972880127471,-0.031707971298510884,-0.03160151973251426,-0.03156292374326571,-0.03166058803447289,-0.031455769872331646,-0.03155574960206683,-0.031656932369075214,-0.03165066836054968,-0.031669165616027874,-0.03176339118033405,-0.031574694036769706,-0.031570356932414306,-0.03158188544418084,-0.031660091311298016,-0.031597177118185785,-0.031667174104516964,-0.03163729351382501,-0.03160505493283701,-0.03164109469061848,-0.03165705785007489,-0.03166575890729649,-0.03166209402042305,-0.03165605946594185,-0.031488616153262323,-0.031624175779871165,-0.03160091139117601,-0.03158638572493243,-0.03178565080389279,-0.03160495542284205,-0.03157538974108675,-0.03165777917926352,-0.03166426037415709,-0.03142445046699699,-0.03154224670850041,-0.0315638712170917,-0.03160032791130576,-0.03161616575943788,-0.03144805868398697,-0.031667282399628814,-0.03165538248126614,-0.031618759707404846,-0.031549064741221884,-0.03163294847056528,-0.03162562657268313,-0.031675135168715514,-0.03164318012906741,-0.03164868061232292,-0.031647519418753475,-0.03165817261084369,-0.03146522249813522,-0.03153143603552047,-0.03171711102382219,-0.031546316905797595,-0.031607443576354255,-0.03162063182029163,-0.031591307997171116,-0.03162771511430807,-0.031527328654451355,-0.03188732823717368,-0.031642752072350816,-0.031519451311178115,-0.03162603828878065,-0.03164172392902396,-0.03167728546256779,-0.03166147313394877,-0.03160778164362613,-0.03162133904466116,-0.0316891248181721,-0.03171863870419404,-0.031659511026614316,-0.03167128233710187,-0.03179215098853601,-0.03178787582783707,-0.03177396624153216,-0.03145755716617193,-0.03174642860767779,-0.031793119804096104,-0.031512394413556105,-0.0316151069771684,-0.03158196985898,-0.03159652925664039,-0.03152904291397605,-0.03167613599561409,-0.03166591064306673,-0.03159435348097121,-0.031655664884591025,-0.031462019725201844,-0.03169606607843273,-0.031766775374971155,-0.031618439726439795,-0.031475562256874604,-0.03154712793465637,-0.03155767907093274,-0.03168997119379507,-0.031636484981021507,-0.031659690001340925,-0.03167120634897937,-0.03160868855788783,-0.03159029536011709,-0.03163468733387961,-0.03158918765973792,-0.0315485172233061,-0.03166266397086766,-0.03165180193988416,-0.031656879558989395,-0.03161367686086152,-0.03158766260541776,-0.031613518762859685,-0.03158421291084058,-0.031620310754668264,-0.031652828947073136,-0.031569575779381256,-0.031570685346083066,-0.03159766082847387,-0.03160878898773712,-0.03162785559783774,-0.031646183990102876,-0.03153414409576137,-0.031566438168707904,-0.031497689572657465,-0.0316220497507052,-0.03160359907295398,-0.031628223372715196,-0.03158580806507527,-0.03155176112897377,-0.03160199998267528,-0.031648432073218144,-0.031575449865429664,-0.03152884339004573,-0.0315134319009647,-0.03161603120383879,-0.03155617007295853,-0.03164161286409948,-0.03159314736895999,-0.031612227432058354,-0.03158666001450577,-0.03161771486007751,-0.03165791292295808,-0.0316507465219702,-0.03158093030346977,-0.03159358965060615,-0.03164917399157158,-0.03168153343908898,-0.03164062511098504,-0.03165593113152953,-0.031650214324843697,-0.0315379065344069,-0.03168420567405313,-0.03151025277581266,-0.031671295311101855,-0.031607509587552825,-0.03158929880677433,-0.03164679798424228,-0.031606531643068425,-0.03166907302926609,-0.03165547166377596,-0.0317759795254655,-0.031584177176233005,-0.031610368049765844,-0.031514570591589415,-0.03159339171380975,-0.03161335442310619,-0.031630677556258,-0.03159470145705972,-0.03152567541440198,-0.03173890748764118,-0.031574182920086576,-0.03147527628459133,-0.03164853337813759,-0.031588626727554345,-0.03162522455304838,-0.031554285078409315,-0.03163965935303992,-0.03161670689381439,-0.03167539712002343,-0.03169098268043917,-0.03164535526298299,-0.031623342551420686,-0.031623493681005505,-0.031635131769089796,-0.03157590156896307,-0.03158405629190698,-0.031574106385611304,-0.031602440779766934,-0.03161038458033765,-0.03150918382650674,-0.031698654849222775,-0.03149922340390539,-0.03155530182567098,-0.03158441447722717,-0.03164555653889706,-0.03163133573344479,-0.03140571778042624,-0.031659123188953975,-0.031658757137668865,-0.03163138248995179,-0.03156075232788485,-0.03160476539518764,-0.031630296946402424,-0.03157751310977754,-0.03163516790689304,-0.03164659909679719,-0.031552601518348065,-0.031579082252513685,-0.03169928791046978,-0.03161854551713432,-0.03166756892644068,-0.031479162606932946,-0.031552988335481716,-0.031535432604901374,-0.03159285456492625,-0.0315876273162716,-0.031658060575162746,-0.031662103408537826,-0.03161931093845447,-0.03169651766572958,-0.03162500681207907,-0.03178103673191856,-0.031772617041999594,-0.031631271997372194,-0.03176707369034891,-0.03165052980403624,-0.03160006655774885,-0.03163575378741173,-0.03158182707681338,-0.031634238274408505,-0.031680743237232994,-0.03162860615163757,-0.03165245245271469,-0.03161548893177712,-0.03160573663475368,-0.03152792728629794,-0.031687687448170174,-0.031666128050748414,-0.03161780133831099,-0.03163853584762284,-0.03170404079738767,-0.031614645596937135,-0.03151709069543634,-0.031668983213803015,-0.03164105282083651,-0.0316035241250104,-0.031529708741528786,-0.03161428285153688,-0.03171293037614344,-0.03143634970772447,-0.031519979276141294,-0.031617625873094496,-0.03166259912242923,-0.03157470975845413,-0.03154323506273386,-0.03167635131508768,-0.03164770396256156,-0.03155509818751653,-0.031543258417259364,-0.03157668187494055,-0.031631170254943615,-0.03154885646795432,-0.031618955202637196,-0.031645969979688146,-0.03162026329191073,-0.031618692064884824,-0.031689802214704806,-0.03165525984056718,-0.03165906788647291,-0.03170803719822233,-0.03157389652680896,-0.031639558815201904,-0.031590554757930725,-0.03171078895195686,-0.031607552366473925,-0.03157330666603612,-0.03161658914772101,-0.03160201712907322,-0.03161378217099891,-0.031586303145055936,-0.031621968930386414,-0.03164769105984325,-0.03161479104089034,-0.03166532438329218,-0.03154857142810311,-0.03155850822539467,-0.031590255389511365,-0.031510936111822895,-0.031597637625219756,-0.031615192387174564,-0.031607729661323566,-0.031615313365463665,-0.03159429495773098,-0.031386247145816636,-0.0316754177345405,-0.03161686455335411,-0.03157929882651238,-0.031688598590436684,-0.031646653019085806,-0.031694809734614894,-0.03160608848195746,-0.03161632642384071,-0.0316409478825162,-0.0316286027541652,-0.031638907317986145,-0.0316731238211634,-0.03163343382824354,-0.03171418008593595,-0.031580107645215974,-0.03158353865407854,-0.03166822493627074,-0.03162605638893768,-0.03164318746164019,-0.0315964262488274,-0.03157215351894697,-0.03164281810533235,-0.031597171932468464,-0.031638989629291306,-0.03155369998321168,-0.03160216863930578,-0.03163575866882246,-0.03155698651591174,-0.03149556131406131,-0.03164467131677456,-0.03161597973807488,-0.03163926773320467,-0.03167211206601825,-0.031662368822307156,-0.03171352186881705,-0.03166180955478718,-0.03166009559871715,-0.03159791441935282,-0.03161751672405036,-0.031549360867296455,-0.03162745830250738,-0.03158959072427362,-0.031622177164800175,-0.03143807129470612,-0.03165980187397248,-0.03153627202588331,-0.031623729837296,-0.03161176902864437,-0.031602428750182446,-0.031581782115284306,-0.03169257194023111,-0.03163981273143883,-0.031622392528939954,-0.03160629364654283,-0.031493361047339914,-0.031618505973309015,-0.03162117326552126,-0.03163315391439596,-0.03164055415202111,-0.03155501865403112,-0.03160943551828915,-0.03159319170104254,-0.031648983470614546,-0.03166336093706019,-0.03169239241237592,-0.0315080939456201,-0.031608611679893185,-0.03164718839920128,-0.03163522616752982,-0.031466127125188335,-0.03168914882950376,-0.031662192139420564,-0.031640085451594295,-0.031632897721027016,-0.03161114262553973,-0.03157082762220959,-0.03153684541656496,-0.03176342022698112,-0.031676862503920114,-0.031629354931557586,-0.031458448031104355,-0.0314595538628636,-0.031677975734032617,-0.03153559696821055,-0.031581490322017756,-0.03159302619231583,-0.0316366254152521,-0.03162205153278757,-0.031654766176633826,-0.031620196208987046,-0.03163754342538204,-0.031664609385692884,-0.0316359143954706,-0.03166178642706903,-0.03161960335567633,-0.03153084958826523,-0.03164212054968976,-0.031767513630384825,-0.031684541757096105,-0.03159068022340419,-0.03165745793371438,-0.031662701389990756,-0.031641198588018886,-0.03150196994039034,-0.031587428940974965,-0.03159448195042834,-0.031646042966883475,-0.03161824061063038,-0.03162935299811122,-0.03168291917515431,-0.031671563791251287,-0.03154905106034469,-0.031583353489011985,-0.03151966749112745,-0.03163594623314383,-0.031585562868674075,-0.031672315965829624,-0.03163445524267409,-0.03173473742562448,-0.031668979761278644,-0.03169341185530203,-0.03156171192244792,-0.031500565773644906,-0.031657287612867645,-0.03158152506866134,-0.031681190450849675,-0.03157451034253455,-0.03166335829049866,-0.03166013497449113,-0.031509490343445905,-0.0315420250682658,-0.03163084729813103,-0.03161015278121395,-0.03162068793337988,-0.03164211027265669,-0.03159757016584127,-0.03166959555844574],\"xaxis\":\"x\",\"y\":[-0.001322663274261042,-0.0017815783181412477,-0.006518588266472256,0.022063903951181865,-0.005270675494540189,0.005990694483934855,0.0021498491032929667,-0.0045945499911063115,4.0588275382197336e-05,-0.0003198475352980956,0.005042719559858991,-0.05579535872631099,-0.00532293321218553,0.003188769379434177,0.009420097378457523,0.00138186384611339,0.0004836282519515872,-0.0027687083452163606,-0.004204895876936662,0.004195829992862166,-0.006769922164869187,0.006534648624233284,-0.0006870166594121706,0.04500969937789931,-0.0006178388685476711,0.001736592623708499,0.0009241588563413588,0.0013438514421005067,0.00840476686192155,0.006887879810304303,0.006686120091104339,-0.00010391818681663608,0.037656108661173214,-0.008274009880939636,0.01081113099353991,-0.0024187580210408015,-0.0041928459832363246,-0.004234081441937583,0.0023853291037309538,-0.016438483143177352,0.0027013469090108985,-0.0004827458865230271,0.004073429357224102,-0.004812947354826804,0.0028172075961412214,0.06563270593773816,0.0003868993057448525,-0.01685809185330983,-0.005290262563015804,-0.004284334827530416,0.004411253510909042,-0.015822488944627032,0.003942420684248471,-0.00045121918894297925,0.0055587924621707165,0.0069939481294346885,0.005004499181233279,-0.015080268780279711,-0.007807833595393709,-0.008512249781910206,0.025929425759931363,-0.03271446733097799,0.008111250877818986,0.0013520745707664074,-0.008513918759336677,-0.0017975403984484284,0.00496971503973523,-0.008919255718453187,-0.006001183480928755,-0.016418647895223466,-0.005355060162539837,-0.004158079098020551,0.0011954212774382244,-0.002294518777884243,-0.016694948668297287,0.0047737486569594065,-0.00012063559954570366,0.001733126465330426,-0.05028375352065618,-0.011440571333180515,-0.03559298833554663,-0.005878382206978819,0.006047603730892833,-0.1099933271491824,-0.001093088884707003,0.002066671377184332,0.008781921114885682,0.004999741256252072,-0.003519663011467354,-0.0023020127503436765,0.010479570368418529,-0.023988407522531386,-0.00045316474948488777,0.013497402379239163,-0.024198970102959728,-0.002003751423057373,-0.0019112063667287651,0.01798875847225358,-0.007394795998790134,-0.019304627128443493,-0.004289007372947423,-0.011298715273571309,0.021474010289048977,-0.009305393843484562,-0.00448705533770948,-0.02687651974987468,-0.010267237207643155,0.0010674813898431796,-0.027513214087718677,-0.0033987258476286543,0.0292952938457013,0.0013266796691318253,-0.009470001999194016,0.008338954873497777,-0.017821362315605254,-0.0052995973352717805,-0.023050513859942206,-0.009551383502852234,-0.013730045324785,-0.004719676190202436,-0.004016080887636917,-0.0003810059812063931,-0.01367066203046751,0.00900480433546825,-0.03130813994766904,-0.00252131043976648,-0.0022158657591792434,-0.011643353845262909,-0.001817921611074154,-0.007696394385608165,-0.0022846398417867095,-0.0007614047506249377,-0.008169274578441254,-0.012281460677419297,-0.008472813933930247,0.0036700596951016098,-0.030873991983949065,-0.01021247805381459,-0.0011450217444873398,-0.01723952096086321,-0.0037874164408596557,-0.003461997764637782,0.048214424109232025,-0.010269499241513666,-0.004562041093686669,-0.005716480625550017,-0.005034624963924273,-0.02794043968088445,-0.02538676871695256,0.016614295657037505,-0.0065093220294999525,0.0067763281288025405,-0.006280046449396547,0.0011785129714789668,0.0013859628291813817,0.0666891811417824,0.00466850405970672,0.011719374980652196,-0.018703275057364768,0.0004524648432015257,0.0008588059526972932,-0.02603473278895224,-0.0027553779083845462,-0.01478964957206547,0.039621541347053646,-0.03686408886605278,-0.01633408563605375,-0.0042519062154113925,-0.008108904239904575,0.010551556460937047,-0.006823499439438316,-0.0013388150662007163,0.0008217113319407086,-0.0007387320252556538,-0.008649139111088151,0.003036985482705278,0.004464318953650367,0.0006714625276870885,-0.005366577647456388,0.0007430097554341095,-0.02270699475102542,-0.014411120325348973,0.04511578213504941,-0.01443306045784012,-0.021813304544519876,0.011978221289269687,-0.007620072278218815,0.0007812282850643202,-0.002829696162670181,-0.0013728495672777291,0.0054823483071220125,0.003439194484699603,-0.0012553067132327885,0.0009392117286194792,-0.03770170276779185,2.923077209607905e-05,-1.970499049382537e-05,-0.003175750684995904,-0.025716162158936837,-0.023392109525658716,-0.006025513581579967,0.011661160699833084,0.0192856287664476,-0.005322795016883277,-0.0019852607494361355,-0.01576494076422827,-0.0020122300265184613,-0.01090017002240425,-0.03429641657337087,-0.03188745413508255,-0.0038548710505871666,-0.010464990627082577,0.004893507114476377,-0.028140321878099776,-0.022858461857901254,-0.0025189776896490886,-0.0012165157079544705,-0.02312833702041455,-0.00969372275564461,0.021052673769120907,-0.008282592847858948,-0.0003818295430014821,-0.018538923357994,-0.009227880505277841,-0.008545730375774411,-0.013617837792491485,-0.0009197308638497529,-0.007398782149386035,0.02269035640805631,-0.0034831439694064125,-0.0037505443194191025,0.006903611623325386,0.001375443368050301,-5.040037899538658e-05,0.001965515340098482,0.016829254336848277,0.004104256647038516,-0.01685675855779973,0.003829870082859511,-0.006351493558489921,-0.0032077794112397875,-0.0027315485363200082,0.009461505395554423,0.07545522846278929,-0.0008460268032135357,-0.0020792681391643294,0.0006735374350671029,-0.006614675104023129,0.07450527872157219,-0.0034439214958835677,-0.0006515293585606584,0.001995616795617214,0.0005473791899539879,-0.010079239273478556,-0.028306174115426717,-0.007057666383663783,0.0004603005682005873,-0.02156081637007267,-0.006954574258313296,0.0026491177278752756,0.00987217389327411,-0.015397153823944396,-0.0065804289231595585,-0.0007846750318855405,-0.008627203406079302,-0.020272002293420945,0.02412523028224726,0.0038305898914391774,0.0008987181167342658,0.0011863791181106703,-0.007476606372510482,-0.001383808172338282,0.08178786777219546,0.0003276844527922377,-0.027135774898925963,-0.0017578734343145987,-0.0023081192334813267,0.007106418710206999,0.0059248571401477905,0.08530307715093327,0.014350622261316885,-0.06868714835163338,-0.007082344768065767,-0.005881950609939262,0.002825746221293142,-0.0004871030134426683,-0.003808124970230349,0.03525533362788098,-0.004990894378471896,0.003687940516517806,0.7544814997239573,0.015676505787975716,-0.004916876513505145,-0.021297316351343392,-0.01769295497937418,-0.013761409841425558,-0.007900561428358294,-0.00426632401207842,-0.0063934916312280085,-0.003689481316582123,-0.003933586577668687,-0.023534447778546973,-0.000876827581253434,0.002319567400208973,0.001070461154496441,-0.0038629456363376696,-0.0022884631797848325,-0.01175128310266013,0.005810410159741144,0.00732179747953895,-0.011188467005355307,0.0016275734942945064,0.010937080679172217,0.0021321418638557384,-0.017199300908911957,0.00040231803938941765,-0.012604352361208705,-0.010314070859106128,-0.04370179069772312,0.004349467615140171,-0.0022555671255631653,0.04606760290214774,0.010175041408865682,0.020892393695010347,-0.0051619276179963106,-0.003348652280261816,-0.0031410002366567963,-0.009595617826922248,-0.0034900498310006943,-0.00024328576572782477,-0.010775189611686449,-0.030536164792123982,-0.01896002246877723,-0.012358409139199465,-0.010918457488333321,-0.01144701213496897,0.0008054803971181278,-0.016090971763077253,-0.038965956192414025,-0.1284845495360579,0.005688183359838868,-0.024520973372274154,0.022002080849979833,-0.014467663790045056,0.005705917810109922,0.005715440320448839,0.005979643020747861,-0.011720839427689044,0.0019320434188499639,0.0064793541193155025,0.0013334374254893638,-0.013833941061375503,0.01190007022222655,0.005032389874421471,0.004064220959628206,-0.013782136036871959,-0.012502093058367409,-0.018220398823184873,0.005377338247558985,0.006398759386204159,0.012342800058567216,-0.020325521554809958,0.016455467519787874,-0.00706061622207272,-0.002758790079440015,-0.0012441035696129686,-0.0011744804470849865,-0.005223097486498071,-0.015077839656424081,-0.0019795608527585573,-0.00013693446668452543,0.0019064174179908072,-0.014120890811942644,-0.0016788809466274529,0.0033597995764535907,-0.010311601091768388,0.003949093295626795,0.002142581285000049,-0.005070785120887394,0.0033225170935646583,-0.017646120418505985,-0.016904542682007414,0.009912713715652811,-0.001286404498757025,-0.010980016513484283,0.00197157501680704,-0.00681130628029302,-0.005449426969587941,-0.0003604087132338075,-0.001796511213071138,-0.01881770798908125,-0.011998474739027404,0.00654563783889201,0.01921785163886327,-0.0006208849178635153,0.0016824831361973705,-0.031094698659268873,0.0037779190692455774,-0.00885962762051315,-0.00291798715984408,-0.01273948404361554,-0.0034688302399217183,-0.00745508244327877,0.036708960761902866,-0.018720509146396423,-0.0064995189469154255,-0.00016940270533187158,-0.0017704318700367933,0.012909292836326983,0.009425745162144016,-0.011809266120044121,-0.006897500135696597,-0.0020249758791845416,-0.006547395438446104,-0.0014200041755562302,0.0074743098046886865,-0.009450651052403902,0.0032865933632926824,-0.0020524043206920704,0.004737688170712056,-0.0022721361979023092,-0.020879326402461682,-0.0029692161907711955,-0.008771570128573599,-0.08737698966591921,-0.037555111912269616,-0.13652947073558605,-0.03420904209828329,0.0042649640628716805,0.03111364305052942,-0.015228525945836383,-0.00954398699877792,-0.02047991402211045,0.0035658595609815245,0.00042053936676515134,0.002182908033937558,-0.0032814737556391593,0.013659083097079526,-0.0035831653262007566,0.0018010017319144084,-0.008875801298117148,0.004032078887524012,-0.00301602001378131,0.001957209781125473,0.031599780287800264,-0.00803300684666542,0.004509226419273005,0.019054467931065355,0.00435241538112909,0.004526910321274421,-0.009530574780603292,-0.005631929925493077,0.02366256025670773,0.02682130214105612,0.0014716001094497405,0.003906255211796598,0.005134781623644014,0.0014748002777573111,0.007165644857460498,0.01588703023071023,0.0021310655997245197,0.006725159158216702,-0.01585197559221714,0.00026639625801045476,0.03622798027940234,-0.004078315842705167,0.003724300084283859,0.00348930117749135,-0.0020785392710585037,-0.011297758621808122,0.0015508478447691,-0.00034348998556410764,0.1208415266485547,0.0012905444421168176,-0.019229399866104405,0.021600607978799327,0.002772564186849822,0.0011717678584366002,0.001711374695717434,0.013530644777083788,0.011773852635170909,-0.041088012259351214,0.0021658706683304898,-0.03434830200135257,-0.0016996079397960497,-0.023924414370483402,0.050101350786443795,-0.007100438810191482,0.026371849581392253,0.020022756908405805,-0.0037860143075086673,-0.010407008067866073,-0.00806684209154216,-0.0006399867775236762,0.0015367194428312129,0.0010104353567743027,0.021462177663931156,0.01100378521194618,0.002404437580029703,-0.002854799840194507,0.004934700907196869,-2.4158298299720704e-05,-0.0013369540200399452,0.009988784415768897,-0.01867776339650868,0.0024349525712011296,0.03292544134240095,0.02570663076064114,0.03980310990750379,-0.012838124068054733,0.004784379941066618,0.014273314398621539,-0.0031772629245891554,0.0007492340956447338,-0.004492522088358218,-0.0007692121808223638,0.00026248454516585826,-0.00492835911470212,-0.001985968655396812,0.004189922708937946,0.002547587933211534,-0.017853257729085515,-0.00309437707700683,-0.00016993191242836754,-0.003057361552478457,-0.0025077118774084178,0.006090565823250663,-0.0009796551235560318,0.005594344795515572,0.00925235017091218,-0.005350917342052871,0.005423272476332267,-0.014407949163268773,-0.007091976739742001,-0.0004814170209687415,-0.014948519517782892,-0.012875317214838753,-0.0058801921268474425,-0.009182321048471446,0.0007004892859415533,-0.0008797804483303211,-0.008586305049270755,-0.0037470482677058907,0.003247669683480678,-0.0022190748671747826,0.0006112890202163596,0.002869978465725938,0.005791878548252353,0.004610921453586733,-0.00474882018070557,0.027597500516467442,-0.0045530486773830165,0.0004166577608659193,-0.0023832948057118165,0.03104849258946441,0.00583032343943609,0.02424393945076675,0.0009087465547393403,-0.0028537404453492965,0.05345208509184477,0.025489749386874105,0.0014159689243145846,-0.0025319146722378462,-0.005035308031932301,-0.00911557473247176,-0.021669843820690572,-0.023137596531938788,-0.004700302492925873,0.04924678127682864,0.0667916589139297,0.00556271566366182,-0.002075259762285991,-0.0016086290985666695,-0.024984718061567386,0.0021379999814967105,0.0029313207550355396,0.0021740188685929265,0.08066241906158242,0.024139696063824614,-0.004475972995681639,-0.010041971733389592,-0.0007095085980279143,0.0027574013515188006,-0.0003631283684019526,-0.010739157093413854,0.01062281048894406,-0.0021764817013457684,-0.0048432124534886,0.001383059402426615,-0.0034244848701557146,-0.010768437254727576,-0.006340133539545523,0.0015968028386268858,0.012402108892410163,-0.010886096699766682,-0.0065403777179972086,0.1345589109339469,-0.0024145440637790925,-0.031174988451579178,0.004637905400647711,0.018356311809317044,0.007657315093140607,0.015764126392288087,0.010102608404125064,-0.004556875744859762,0.10674428821326055,0.004089090482002938,0.007891981767568019,-0.01180995990984941,-0.0021435803395311887,0.020857405732339625,-0.0018567773775095353,-0.0009828727392483627,-0.0022151984046050546,0.04880140379989482,0.004810236141962138,-0.005428249173810246,-0.008633334934241094,0.0012894567023683714,-0.009553264902725374,0.016646104207874594,-0.010964135710263712,0.02989941675914959,0.03262397202925997,-0.011141331113321176,-0.002925913125366729,-0.0016468066802906858,0.0005446708268931951,-0.003932871342864283,-0.0051923445187235856,0.010756276680366536,0.012512024761966976,-0.003550267652759506,0.02497051356780421,0.0009443879992171157,-0.02043746986443983,-0.05021075761094415,-0.005107908455751839,0.00747444694462589,-0.010043641311740539,-0.0028346868520434595,-0.06006095024849758,-0.004647165386849057,-0.005517084492391768,-0.03404443023257516,-0.10377858953742335,0.002483546959546702,0.05678515894971081,-0.02101775220202354,-0.062192086970860705,0.008701165271438693,-0.0010302573275836728,0.06466757280989838,0.05039805503634584,-0.010601227603461725,0.0028070051816221036,-2.9637757989090014e-05,-0.0029771898378211253,0.004935064516775916,0.14072361301697414,-0.0017851254715215616,-0.005869760911990574,-0.008377607466048546,0.04639023699716519,0.012053290792234815,0.014801256328245868,-0.0363122807870984,-0.0007628173190956054,-0.000594842503996737,-0.00411683799512109,-0.0009140299791448445,0.006351069001351094,-0.007932337589838478,0.025055318769621006,0.0360248179008014,0.00027136367378590776,-0.0033658414398564022,0.0003062779865118799,0.00880349628965243,-0.00920426019402351,-0.0018102464247880218,-0.0006236543516343229,0.003454820643148829,-0.0046833350284724694,-0.0015097279471509544,0.0011706546955058874,0.005008581656505328,-0.00468764603373808,0.00011747497390526589,-0.003775615715540367,0.007423460956256177,-0.00031804754399137117,0.004788982892800995,-0.0018905990811931984,0.005875734967108991,0.00998360667967763,0.02148610480571095,0.01281678925631274,-0.0024861747015788873,-0.0009302955934886954,-0.0016342108891476675,0.010894492151977632,-0.00748610634434549,-0.004710070932069707,0.039445188274346996,-0.009907449980725434,0.027298382176193653,-0.0009056692398911157,-0.002060229330688215,-0.0008398005493162849,0.0016082761610474925,-0.0012685188622681039,0.004331986396965625,-0.011241553413747708,-0.0037560006359588804,-0.00474189028208302,0.0019161136922890333,-0.03817528384313876,-0.01956580961163245,-0.002779978058414455,0.0018659700059675938,-0.0017715095042074227,0.014237527176685588,-0.00024088152348510054,0.03271748407869233,-5.15858432816742e-05,0.004832629889376513,-0.00015218494002415441,0.004651106657479543,-0.002868117495905449,-0.012045780465219072,0.0008028736077111626,0.011975659777484951,-0.0068717445269859696,-0.010656470349194803,-0.0044438956208934155,0.0012547689739720934,0.09492027553691114,0.014091243681275333,0.0016960445508262432,0.06201423903665829,-0.009038888216677277,0.01204217745105275,-0.00020356295608885177,0.02908025159135017,-0.00971513212407085,-0.0014032657752990477,-0.0010342052397648658,-0.012834913492481437,-0.003736985574736395,-0.0036586009328796153,0.004691524397107391,-0.0020942387059512094,0.0031549841548973545,0.031097366465463114,-0.008586274452802722,-0.015297238615468707,-0.0014111379083859078,0.011684360361231107,-0.023399385868621097,0.045762355758565756,0.005306048187879707,-0.03612229486921735,-0.0028433424214768465,-0.021132575955632126,0.07859855862497868,-0.021523117346841092,-0.025756293023554148,-0.01065318624287058,-0.007330684542801453,0.007882318166785638,-0.01311235540881742,-0.008007065749764291,0.0003303025018742612,0.002386707040726434,0.005535999296649488,-0.0010580252478172094,-0.013386000244261129,-0.010916911197743814,0.000542149070521235,0.010232404128742007,0.009031574418708157,0.006981752248057414,-0.0015757194028105203,-0.0020231361111951894,-0.014512358673203303,-0.008723426843600217,-0.0023088216548062365,-0.012590081999788208,-0.0009890346485892597,-0.0419878936002908,-0.026588332469415242,0.002073621716774768,-0.012820868085274004,-0.00509440425532455,0.0026441804887377407,-0.01878203972829668,0.007311604674576605,-0.010936293096956843,-0.005485367343841907,0.0004035303056276557,-0.026265148918620966,0.001822355580011043,0.006727565458380796,0.02353625021332918,-0.015324251496543635,-0.004339102521136767,-0.0034034025593372126,-0.007252776582629973,-0.015058674699833198,0.008670152525593557,0.035942373611384644,-0.00394855044098177,-0.0008550756906644997,-0.002371936387355582,0.008639621791782662,0.003557872615126627,-0.023615317802145316,0.013475327621994998,0.039009621246349234,-0.002266827508670909,-0.014862641375067511,-0.003709460081172423,0.010594204997226084,-0.008733315363265078,-0.0022008099089622824,-0.004630195006168059,0.01821460811914405,-0.0005011492450970535,-0.0025993308545940834,0.0006041941045116816,-0.011716201625252099,-0.0087536268541176,-0.0005683987430505093,0.017297617714738416,-0.01788133762193865,-0.012218772884702592,-0.009204945469150527,-0.019865569569287377,-0.0026286940515592716,-0.002623555078169336,-0.0027603735578183987,-0.00856572843710765,0.04652448488213286,-0.0014281361532548032,-0.0017421074998505057,0.000563593098927218,-0.019710395162048935,0.01857225116800327,0.00010640297012712034,-0.006438049420777938,-0.001107152879260739,-0.016096656439842427,-0.0005708924254765215,-0.0027291795217332317,0.0013169461506940066,0.00038668232507361127,0.0015711564866581706,1.163737528024748e-05,0.002205956713392347,0.005086993689289161,-0.0036499714862024755,-0.03613164462378011,-0.013073821979002805,-0.0046007412223983205,0.024943409634886848,0.00010770710084914649,-0.004531102589394301,-0.008793322105731832,-0.017193143936138904,-0.006979376917873417,-0.015471293978949844,-0.0044034141995430934,-0.008433607243186252,-0.01061156985913208,0.0047413132192801665,0.004986491330477707,-0.003946512428751525,0.001229238902280213,-0.01810670549481705,-0.0030927541580094025,-0.021620339766607627,0.001053600005641551,0.02153843301614189,-0.00634396300932977,-0.01103082493215863,-0.018976925675236272,0.006295706544482958,-0.009003030923360167,-0.013979263610014135,0.00034817090958706953,-0.0016059803184766944,0.009399034806854582,0.010149030042036523,-0.009539080082495996,-0.013715841413253516,-0.012027888498998204,-0.03413078384712348,-0.016315171984386565,0.003908883355205499,0.003107361798217077,0.011985092283784457,0.02432454930324787,0.0012768948495940299,0.0015804610325790794,-0.000279729381981357,0.11355180524751345,-0.031889520137548484,0.0008678067668408508,0.0014449924431253081,0.021921817555199688,-0.035004916306874106,0.0039367931577923175,-0.014426053598098343,-0.025012577004968586,-0.004453636887113836,0.00011004038568440645,0.009243158359912724,-0.0038438579782689385,-0.010974873306924883,-0.013606000178371335,0.0010396806456967201,0.011037297821703386,-0.005283408997452662,0.008791947566531939,0.0016112284228640887,-0.003558610583688266,-0.003800747237256464,0.002350573134456941,0.0031683129118948027,-0.0030567111181200673,-0.030528649576977443,0.024143099302277864,-0.005633852809969868,-0.014036876789430481,-0.001009695416755438,0.0021384208090471928,-0.002228982070799491,0.002390155222053517,-0.0025404770100428825,-0.01775659300963167,0.0027728913807562408,0.015974468958366676,0.07010757354351169,0.028616547556484104,-0.0050636628200552295,0.041994790440293424,0.00500208205351079,0.0016129695959103646,0.0009106119347189528,-0.011512631896869277,-0.0033300225102584837,-0.0015179203447510995,-0.010391566750715722,0.002122644998950862,-0.00856218131230557,0.00036983531666747566,-0.012377716628925027,0.00424514714424282,-0.002051415567102717,-0.0608481538692972,-0.001033110280577395,-0.0087807027946169,-0.007189323813140527,0.00477963412500649,0.0011433529892155472,0.006301349990842951,-0.005645042572280627,0.004830241296407981,-0.002809380986190264,-0.027295730564174225,-0.006258952628808864,-0.004057988720303032,-0.008893193601405735,0.01847067686747879,0.009701309393673342,0.047087299601571465,0.0014779723835829613,-0.014336648390740529,-0.006998579859733156,-0.004984930335048642,-0.011456857430954521,-0.005751045343588825,-0.009820874689135482,0.009230439053855326,0.07446699478986778,-0.011394662645324991,0.0022198993286167905,-0.007494538783923172,-0.0012882252003400354,-0.009640816021710791,0.004011424183876766,0.0004627347569600613,-0.021084367762101038,-0.007690076097295735,-0.023855826742016827,-0.0007850665989748143,-0.005545413643623767,0.0016371363490870125,-0.013778620212800272],\"yaxis\":\"y\",\"type\":\"scatter\"}],                        {\"template\":{\"data\":{\"histogram2dcontour\":[{\"type\":\"histogram2dcontour\",\"colorbar\":{\"outlinewidth\":0,\"ticks\":\"\"},\"colorscale\":[[0.0,\"#0d0887\"],[0.1111111111111111,\"#46039f\"],[0.2222222222222222,\"#7201a8\"],[0.3333333333333333,\"#9c179e\"],[0.4444444444444444,\"#bd3786\"],[0.5555555555555556,\"#d8576b\"],[0.6666666666666666,\"#ed7953\"],[0.7777777777777778,\"#fb9f3a\"],[0.8888888888888888,\"#fdca26\"],[1.0,\"#f0f921\"]]}],\"choropleth\":[{\"type\":\"choropleth\",\"colorbar\":{\"outlinewidth\":0,\"ticks\":\"\"}}],\"histogram2d\":[{\"type\":\"histogram2d\",\"colorbar\":{\"outlinewidth\":0,\"ticks\":\"\"},\"colorscale\":[[0.0,\"#0d0887\"],[0.1111111111111111,\"#46039f\"],[0.2222222222222222,\"#7201a8\"],[0.3333333333333333,\"#9c179e\"],[0.4444444444444444,\"#bd3786\"],[0.5555555555555556,\"#d8576b\"],[0.6666666666666666,\"#ed7953\"],[0.7777777777777778,\"#fb9f3a\"],[0.8888888888888888,\"#fdca26\"],[1.0,\"#f0f921\"]]}],\"heatmap\":[{\"type\":\"heatmap\",\"colorbar\":{\"outlinewidth\":0,\"ticks\":\"\"},\"colorscale\":[[0.0,\"#0d0887\"],[0.1111111111111111,\"#46039f\"],[0.2222222222222222,\"#7201a8\"],[0.3333333333333333,\"#9c179e\"],[0.4444444444444444,\"#bd3786\"],[0.5555555555555556,\"#d8576b\"],[0.6666666666666666,\"#ed7953\"],[0.7777777777777778,\"#fb9f3a\"],[0.8888888888888888,\"#fdca26\"],[1.0,\"#f0f921\"]]}],\"heatmapgl\":[{\"type\":\"heatmapgl\",\"colorbar\":{\"outlinewidth\":0,\"ticks\":\"\"},\"colorscale\":[[0.0,\"#0d0887\"],[0.1111111111111111,\"#46039f\"],[0.2222222222222222,\"#7201a8\"],[0.3333333333333333,\"#9c179e\"],[0.4444444444444444,\"#bd3786\"],[0.5555555555555556,\"#d8576b\"],[0.6666666666666666,\"#ed7953\"],[0.7777777777777778,\"#fb9f3a\"],[0.8888888888888888,\"#fdca26\"],[1.0,\"#f0f921\"]]}],\"contourcarpet\":[{\"type\":\"contourcarpet\",\"colorbar\":{\"outlinewidth\":0,\"ticks\":\"\"}}],\"contour\":[{\"type\":\"contour\",\"colorbar\":{\"outlinewidth\":0,\"ticks\":\"\"},\"colorscale\":[[0.0,\"#0d0887\"],[0.1111111111111111,\"#46039f\"],[0.2222222222222222,\"#7201a8\"],[0.3333333333333333,\"#9c179e\"],[0.4444444444444444,\"#bd3786\"],[0.5555555555555556,\"#d8576b\"],[0.6666666666666666,\"#ed7953\"],[0.7777777777777778,\"#fb9f3a\"],[0.8888888888888888,\"#fdca26\"],[1.0,\"#f0f921\"]]}],\"surface\":[{\"type\":\"surface\",\"colorbar\":{\"outlinewidth\":0,\"ticks\":\"\"},\"colorscale\":[[0.0,\"#0d0887\"],[0.1111111111111111,\"#46039f\"],[0.2222222222222222,\"#7201a8\"],[0.3333333333333333,\"#9c179e\"],[0.4444444444444444,\"#bd3786\"],[0.5555555555555556,\"#d8576b\"],[0.6666666666666666,\"#ed7953\"],[0.7777777777777778,\"#fb9f3a\"],[0.8888888888888888,\"#fdca26\"],[1.0,\"#f0f921\"]]}],\"mesh3d\":[{\"type\":\"mesh3d\",\"colorbar\":{\"outlinewidth\":0,\"ticks\":\"\"}}],\"scatter\":[{\"fillpattern\":{\"fillmode\":\"overlay\",\"size\":10,\"solidity\":0.2},\"type\":\"scatter\"}],\"parcoords\":[{\"type\":\"parcoords\",\"line\":{\"colorbar\":{\"outlinewidth\":0,\"ticks\":\"\"}}}],\"scatterpolargl\":[{\"type\":\"scatterpolargl\",\"marker\":{\"colorbar\":{\"outlinewidth\":0,\"ticks\":\"\"}}}],\"bar\":[{\"error_x\":{\"color\":\"#2a3f5f\"},\"error_y\":{\"color\":\"#2a3f5f\"},\"marker\":{\"line\":{\"color\":\"#E5ECF6\",\"width\":0.5},\"pattern\":{\"fillmode\":\"overlay\",\"size\":10,\"solidity\":0.2}},\"type\":\"bar\"}],\"scattergeo\":[{\"type\":\"scattergeo\",\"marker\":{\"colorbar\":{\"outlinewidth\":0,\"ticks\":\"\"}}}],\"scatterpolar\":[{\"type\":\"scatterpolar\",\"marker\":{\"colorbar\":{\"outlinewidth\":0,\"ticks\":\"\"}}}],\"histogram\":[{\"marker\":{\"pattern\":{\"fillmode\":\"overlay\",\"size\":10,\"solidity\":0.2}},\"type\":\"histogram\"}],\"scattergl\":[{\"type\":\"scattergl\",\"marker\":{\"colorbar\":{\"outlinewidth\":0,\"ticks\":\"\"}}}],\"scatter3d\":[{\"type\":\"scatter3d\",\"line\":{\"colorbar\":{\"outlinewidth\":0,\"ticks\":\"\"}},\"marker\":{\"colorbar\":{\"outlinewidth\":0,\"ticks\":\"\"}}}],\"scattermapbox\":[{\"type\":\"scattermapbox\",\"marker\":{\"colorbar\":{\"outlinewidth\":0,\"ticks\":\"\"}}}],\"scatterternary\":[{\"type\":\"scatterternary\",\"marker\":{\"colorbar\":{\"outlinewidth\":0,\"ticks\":\"\"}}}],\"scattercarpet\":[{\"type\":\"scattercarpet\",\"marker\":{\"colorbar\":{\"outlinewidth\":0,\"ticks\":\"\"}}}],\"carpet\":[{\"aaxis\":{\"endlinecolor\":\"#2a3f5f\",\"gridcolor\":\"white\",\"linecolor\":\"white\",\"minorgridcolor\":\"white\",\"startlinecolor\":\"#2a3f5f\"},\"baxis\":{\"endlinecolor\":\"#2a3f5f\",\"gridcolor\":\"white\",\"linecolor\":\"white\",\"minorgridcolor\":\"white\",\"startlinecolor\":\"#2a3f5f\"},\"type\":\"carpet\"}],\"table\":[{\"cells\":{\"fill\":{\"color\":\"#EBF0F8\"},\"line\":{\"color\":\"white\"}},\"header\":{\"fill\":{\"color\":\"#C8D4E3\"},\"line\":{\"color\":\"white\"}},\"type\":\"table\"}],\"barpolar\":[{\"marker\":{\"line\":{\"color\":\"#E5ECF6\",\"width\":0.5},\"pattern\":{\"fillmode\":\"overlay\",\"size\":10,\"solidity\":0.2}},\"type\":\"barpolar\"}],\"pie\":[{\"automargin\":true,\"type\":\"pie\"}]},\"layout\":{\"autotypenumbers\":\"strict\",\"colorway\":[\"#636efa\",\"#EF553B\",\"#00cc96\",\"#ab63fa\",\"#FFA15A\",\"#19d3f3\",\"#FF6692\",\"#B6E880\",\"#FF97FF\",\"#FECB52\"],\"font\":{\"color\":\"#2a3f5f\"},\"hovermode\":\"closest\",\"hoverlabel\":{\"align\":\"left\"},\"paper_bgcolor\":\"white\",\"plot_bgcolor\":\"#E5ECF6\",\"polar\":{\"bgcolor\":\"#E5ECF6\",\"angularaxis\":{\"gridcolor\":\"white\",\"linecolor\":\"white\",\"ticks\":\"\"},\"radialaxis\":{\"gridcolor\":\"white\",\"linecolor\":\"white\",\"ticks\":\"\"}},\"ternary\":{\"bgcolor\":\"#E5ECF6\",\"aaxis\":{\"gridcolor\":\"white\",\"linecolor\":\"white\",\"ticks\":\"\"},\"baxis\":{\"gridcolor\":\"white\",\"linecolor\":\"white\",\"ticks\":\"\"},\"caxis\":{\"gridcolor\":\"white\",\"linecolor\":\"white\",\"ticks\":\"\"}},\"coloraxis\":{\"colorbar\":{\"outlinewidth\":0,\"ticks\":\"\"}},\"colorscale\":{\"sequential\":[[0.0,\"#0d0887\"],[0.1111111111111111,\"#46039f\"],[0.2222222222222222,\"#7201a8\"],[0.3333333333333333,\"#9c179e\"],[0.4444444444444444,\"#bd3786\"],[0.5555555555555556,\"#d8576b\"],[0.6666666666666666,\"#ed7953\"],[0.7777777777777778,\"#fb9f3a\"],[0.8888888888888888,\"#fdca26\"],[1.0,\"#f0f921\"]],\"sequentialminus\":[[0.0,\"#0d0887\"],[0.1111111111111111,\"#46039f\"],[0.2222222222222222,\"#7201a8\"],[0.3333333333333333,\"#9c179e\"],[0.4444444444444444,\"#bd3786\"],[0.5555555555555556,\"#d8576b\"],[0.6666666666666666,\"#ed7953\"],[0.7777777777777778,\"#fb9f3a\"],[0.8888888888888888,\"#fdca26\"],[1.0,\"#f0f921\"]],\"diverging\":[[0,\"#8e0152\"],[0.1,\"#c51b7d\"],[0.2,\"#de77ae\"],[0.3,\"#f1b6da\"],[0.4,\"#fde0ef\"],[0.5,\"#f7f7f7\"],[0.6,\"#e6f5d0\"],[0.7,\"#b8e186\"],[0.8,\"#7fbc41\"],[0.9,\"#4d9221\"],[1,\"#276419\"]]},\"xaxis\":{\"gridcolor\":\"white\",\"linecolor\":\"white\",\"ticks\":\"\",\"title\":{\"standoff\":15},\"zerolinecolor\":\"white\",\"automargin\":true,\"zerolinewidth\":2},\"yaxis\":{\"gridcolor\":\"white\",\"linecolor\":\"white\",\"ticks\":\"\",\"title\":{\"standoff\":15},\"zerolinecolor\":\"white\",\"automargin\":true,\"zerolinewidth\":2},\"scene\":{\"xaxis\":{\"backgroundcolor\":\"#E5ECF6\",\"gridcolor\":\"white\",\"linecolor\":\"white\",\"showbackground\":true,\"ticks\":\"\",\"zerolinecolor\":\"white\",\"gridwidth\":2},\"yaxis\":{\"backgroundcolor\":\"#E5ECF6\",\"gridcolor\":\"white\",\"linecolor\":\"white\",\"showbackground\":true,\"ticks\":\"\",\"zerolinecolor\":\"white\",\"gridwidth\":2},\"zaxis\":{\"backgroundcolor\":\"#E5ECF6\",\"gridcolor\":\"white\",\"linecolor\":\"white\",\"showbackground\":true,\"ticks\":\"\",\"zerolinecolor\":\"white\",\"gridwidth\":2}},\"shapedefaults\":{\"line\":{\"color\":\"#2a3f5f\"}},\"annotationdefaults\":{\"arrowcolor\":\"#2a3f5f\",\"arrowhead\":0,\"arrowwidth\":1},\"geo\":{\"bgcolor\":\"white\",\"landcolor\":\"#E5ECF6\",\"subunitcolor\":\"white\",\"showland\":true,\"showlakes\":true,\"lakecolor\":\"white\"},\"title\":{\"x\":0.05},\"mapbox\":{\"style\":\"light\"}}},\"xaxis\":{\"anchor\":\"y\",\"domain\":[0.0,1.0],\"title\":{\"text\":\"dim1\"}},\"yaxis\":{\"anchor\":\"x\",\"domain\":[0.0,1.0],\"title\":{\"text\":\"dim2\"}},\"legend\":{\"tracegroupgap\":0},\"title\":{\"text\":\"The latent feature of each product\"}},                        {\"responsive\": true}                    ).then(function(){\n",
       "                            \n",
       "var gd = document.getElementById('f463d61c-d23b-4876-a2a2-3d0b548ab481');\n",
       "var x = new MutationObserver(function (mutations, observer) {{\n",
       "        var display = window.getComputedStyle(gd).display;\n",
       "        if (!display || display === 'none') {{\n",
       "            console.log([gd, 'removed!']);\n",
       "            Plotly.purge(gd);\n",
       "            observer.disconnect();\n",
       "        }}\n",
       "}});\n",
       "\n",
       "// Listen for the removal of the full notebook cells\n",
       "var notebookContainer = gd.closest('#notebook-container');\n",
       "if (notebookContainer) {{\n",
       "    x.observe(notebookContainer, {childList: true});\n",
       "}}\n",
       "\n",
       "// Listen for the clearing of the current output cell\n",
       "var outputEl = gd.closest('.output');\n",
       "if (outputEl) {{\n",
       "    x.observe(outputEl, {childList: true});\n",
       "}}\n",
       "\n",
       "                        })                };                });            </script>        </div>"
      ]
     },
     "metadata": {},
     "output_type": "display_data"
    }
   ],
   "source": [
    "items_list = [item[1] for item in amazon_data_table.columns.tolist()]\n",
    "\n",
    "v = reduced_vt.T\n",
    "data = np.hstack([v, np.array(items_list).reshape(-1, 1)])\n",
    "vis_df = pd.DataFrame(data, columns=['dim1', 'dim2', 'productId'])\n",
    "vis_df['dim1'] = vis_df['dim1'].astype(np.float64)\n",
    "vis_df['dim2'] = vis_df['dim2'].astype(np.float64)\n",
    "\n",
    "fig = px.scatter(vis_df, x='dim1', y='dim2', hover_data=['productId'], \n",
    "                 title='The latent feature of each product')\n",
    "fig.show()"
   ]
  },
  {
   "cell_type": "code",
   "execution_count": null,
   "id": "678396af-bf99-4b8f-b308-01edfc996978",
   "metadata": {},
   "outputs": [],
   "source": []
  }
 ],
 "metadata": {
  "kernelspec": {
   "display_name": "Python 3 (ipykernel)",
   "language": "python",
   "name": "python3"
  },
  "language_info": {
   "codemirror_mode": {
    "name": "ipython",
    "version": 3
   },
   "file_extension": ".py",
   "mimetype": "text/x-python",
   "name": "python",
   "nbconvert_exporter": "python",
   "pygments_lexer": "ipython3",
   "version": "3.12.4"
  }
 },
 "nbformat": 4,
 "nbformat_minor": 5
}
